{
 "cells": [
  {
   "cell_type": "markdown",
   "id": "6bf1eaf2",
   "metadata": {},
   "source": [
    "# 4. Supervised machine learning"
   ]
  },
  {
   "cell_type": "markdown",
   "id": "32cf23e2",
   "metadata": {},
   "source": [
    "### This script contains:\n",
    "\n",
    "1. Import libraries & data\n",
    "2. Extreme values check\n",
    "3. Data prep for regression analysis\n",
    "4. Regression analysis\n",
    "5. Bonus - second regression analysis"
   ]
  },
  {
   "cell_type": "markdown",
   "id": "2fe49328",
   "metadata": {},
   "source": [
    "## Import Libraries & data"
   ]
  },
  {
   "cell_type": "code",
   "execution_count": 1,
   "id": "2f229b88",
   "metadata": {},
   "outputs": [],
   "source": [
    "import pandas as pd\n",
    "import numpy as np\n",
    "import seaborn as sns\n",
    "import matplotlib\n",
    "import matplotlib.pyplot as plt\n",
    "import os\n",
    "import sklearn\n",
    "from sklearn.model_selection import train_test_split \n",
    "from sklearn.linear_model import LinearRegression\n",
    "from sklearn.metrics import mean_squared_error, r2_score"
   ]
  },
  {
   "cell_type": "code",
   "execution_count": 2,
   "id": "d37147b8",
   "metadata": {},
   "outputs": [],
   "source": [
    "# display charts without having to call them\n",
    "\n",
    "%matplotlib inline"
   ]
  },
  {
   "cell_type": "code",
   "execution_count": 3,
   "id": "93c258be",
   "metadata": {},
   "outputs": [],
   "source": [
    "# file path\n",
    "\n",
    "path = r'C:\\Users\\Odette\\Desktop\\CareerFoundry\\Immersion Courses\\Course 6\\02 Data'"
   ]
  },
  {
   "cell_type": "code",
   "execution_count": 33,
   "id": "ec12e5f8",
   "metadata": {},
   "outputs": [],
   "source": [
    "# import data set\n",
    "\n",
    "df = pd.read_csv(os.path.join(path, 'Prepared Data', 'Suicide_clean.csv'), index_col = False)"
   ]
  },
  {
   "cell_type": "code",
   "execution_count": 5,
   "id": "57a66a9c",
   "metadata": {},
   "outputs": [
    {
     "data": {
      "text/html": [
       "<div>\n",
       "<style scoped>\n",
       "    .dataframe tbody tr th:only-of-type {\n",
       "        vertical-align: middle;\n",
       "    }\n",
       "\n",
       "    .dataframe tbody tr th {\n",
       "        vertical-align: top;\n",
       "    }\n",
       "\n",
       "    .dataframe thead th {\n",
       "        text-align: right;\n",
       "    }\n",
       "</style>\n",
       "<table border=\"1\" class=\"dataframe\">\n",
       "  <thead>\n",
       "    <tr style=\"text-align: right;\">\n",
       "      <th></th>\n",
       "      <th>Region Code</th>\n",
       "      <th>Region</th>\n",
       "      <th>Country Code</th>\n",
       "      <th>Country</th>\n",
       "      <th>Year</th>\n",
       "      <th>Sex</th>\n",
       "      <th>Suicide Rates per 100,000</th>\n",
       "      <th>Female Population</th>\n",
       "      <th>Male Population</th>\n",
       "      <th>Total Population</th>\n",
       "      <th>Unemployment Percentage</th>\n",
       "      <th>GDP (Current US$)</th>\n",
       "    </tr>\n",
       "  </thead>\n",
       "  <tbody>\n",
       "    <tr>\n",
       "      <th>0</th>\n",
       "      <td>AMR</td>\n",
       "      <td>Americas</td>\n",
       "      <td>BRB</td>\n",
       "      <td>Barbados</td>\n",
       "      <td>2019</td>\n",
       "      <td>Female</td>\n",
       "      <td>0.16</td>\n",
       "      <td>148208</td>\n",
       "      <td>138813</td>\n",
       "      <td>287021</td>\n",
       "      <td>10.10</td>\n",
       "      <td>5.209000e+09</td>\n",
       "    </tr>\n",
       "    <tr>\n",
       "      <th>1</th>\n",
       "      <td>AMR</td>\n",
       "      <td>Americas</td>\n",
       "      <td>BRB</td>\n",
       "      <td>Barbados</td>\n",
       "      <td>2019</td>\n",
       "      <td>Both sexes</td>\n",
       "      <td>0.31</td>\n",
       "      <td>148208</td>\n",
       "      <td>138813</td>\n",
       "      <td>287021</td>\n",
       "      <td>10.10</td>\n",
       "      <td>5.209000e+09</td>\n",
       "    </tr>\n",
       "    <tr>\n",
       "      <th>2</th>\n",
       "      <td>AMR</td>\n",
       "      <td>Americas</td>\n",
       "      <td>BRB</td>\n",
       "      <td>Barbados</td>\n",
       "      <td>2019</td>\n",
       "      <td>Male</td>\n",
       "      <td>0.49</td>\n",
       "      <td>148208</td>\n",
       "      <td>138813</td>\n",
       "      <td>287021</td>\n",
       "      <td>10.10</td>\n",
       "      <td>5.209000e+09</td>\n",
       "    </tr>\n",
       "    <tr>\n",
       "      <th>3</th>\n",
       "      <td>AMR</td>\n",
       "      <td>Americas</td>\n",
       "      <td>VCT</td>\n",
       "      <td>Saint Vincent and the Grenadines</td>\n",
       "      <td>2019</td>\n",
       "      <td>Female</td>\n",
       "      <td>0.67</td>\n",
       "      <td>54496</td>\n",
       "      <td>56097</td>\n",
       "      <td>110593</td>\n",
       "      <td>18.62</td>\n",
       "      <td>8.250407e+08</td>\n",
       "    </tr>\n",
       "    <tr>\n",
       "      <th>4</th>\n",
       "      <td>AMR</td>\n",
       "      <td>Americas</td>\n",
       "      <td>VCT</td>\n",
       "      <td>Saint Vincent and the Grenadines</td>\n",
       "      <td>2019</td>\n",
       "      <td>Both sexes</td>\n",
       "      <td>1.01</td>\n",
       "      <td>54496</td>\n",
       "      <td>56097</td>\n",
       "      <td>110593</td>\n",
       "      <td>18.62</td>\n",
       "      <td>8.250407e+08</td>\n",
       "    </tr>\n",
       "  </tbody>\n",
       "</table>\n",
       "</div>"
      ],
      "text/plain": [
       "  Region Code    Region Country Code                           Country  Year  \\\n",
       "0         AMR  Americas          BRB                          Barbados  2019   \n",
       "1         AMR  Americas          BRB                          Barbados  2019   \n",
       "2         AMR  Americas          BRB                          Barbados  2019   \n",
       "3         AMR  Americas          VCT  Saint Vincent and the Grenadines  2019   \n",
       "4         AMR  Americas          VCT  Saint Vincent and the Grenadines  2019   \n",
       "\n",
       "          Sex  Suicide Rates per 100,000  Female Population  Male Population  \\\n",
       "0      Female                       0.16             148208           138813   \n",
       "1  Both sexes                       0.31             148208           138813   \n",
       "2        Male                       0.49             148208           138813   \n",
       "3      Female                       0.67              54496            56097   \n",
       "4  Both sexes                       1.01              54496            56097   \n",
       "\n",
       "   Total Population  Unemployment Percentage  GDP (Current US$)  \n",
       "0            287021                    10.10       5.209000e+09  \n",
       "1            287021                    10.10       5.209000e+09  \n",
       "2            287021                    10.10       5.209000e+09  \n",
       "3            110593                    18.62       8.250407e+08  \n",
       "4            110593                    18.62       8.250407e+08  "
      ]
     },
     "execution_count": 5,
     "metadata": {},
     "output_type": "execute_result"
    }
   ],
   "source": [
    "df.head()"
   ]
  },
  {
   "cell_type": "code",
   "execution_count": 6,
   "id": "cd2007bd",
   "metadata": {},
   "outputs": [
    {
     "data": {
      "text/plain": [
       "(4644, 12)"
      ]
     },
     "execution_count": 6,
     "metadata": {},
     "output_type": "execute_result"
    }
   ],
   "source": [
    "df.shape"
   ]
  },
  {
   "cell_type": "markdown",
   "id": "7236cb89",
   "metadata": {},
   "source": [
    "## Extreme values check"
   ]
  },
  {
   "cell_type": "markdown",
   "id": "10d36eea",
   "metadata": {},
   "source": [
    "As the data has already been cleaned, I'm only conducting an extreme values check"
   ]
  },
  {
   "cell_type": "code",
   "execution_count": 7,
   "id": "497edea5",
   "metadata": {},
   "outputs": [
    {
     "data": {
      "text/plain": [
       "<AxesSubplot:xlabel='Suicide Rates per 100,000', ylabel='Density'>"
      ]
     },
     "execution_count": 7,
     "metadata": {},
     "output_type": "execute_result"
    },
    {
     "data": {
      "image/png": "[encoded data removed]",
      "text/plain": [
       "<Figure size 432x288 with 1 Axes>"
      ]
     },
     "metadata": {
      "needs_background": "light"
     },
     "output_type": "display_data"
    }
   ],
   "source": [
    "# use a histogram to show extreme values in 'Suicide Rates per 100,000'\n",
    "\n",
    "ax = sns.histplot(x = (df['Suicide Rates per 100,000']), kde = False, stat = 'density')\n",
    "sns.kdeplot(x = (df['Suicide Rates per 100,000']), color = 'crimson', ax = ax)\n",
    "\n",
    "# can't change the colour of kde(line) using sns.histplot. Need to plot kde separately to set the colour"
   ]
  },
  {
   "cell_type": "code",
   "execution_count": 8,
   "id": "5f326a76",
   "metadata": {},
   "outputs": [
    {
     "data": {
      "text/plain": [
       "mean       11.08619\n",
       "median      7.71000\n",
       "max       195.20000\n",
       "Name: Suicide Rates per 100,000, dtype: float64"
      ]
     },
     "execution_count": 8,
     "metadata": {},
     "output_type": "execute_result"
    }
   ],
   "source": [
    "# check the mean, median & max of 'Suicide Rates per 100,000'\n",
    "\n",
    "df['Suicide Rates per 100,000'].agg(['mean', 'median', 'max'])"
   ]
  },
  {
   "cell_type": "markdown",
   "id": "78ae779c",
   "metadata": {},
   "source": [
    "## Data prep for regression analysis"
   ]
  },
  {
   "cell_type": "code",
   "execution_count": 9,
   "id": "20a176c9",
   "metadata": {},
   "outputs": [
    {
     "data": {
      "text/plain": [
       "Text(0, 0.5, 'Suicide Rates per 100,000')"
      ]
     },
     "execution_count": 9,
     "metadata": {},
     "output_type": "execute_result"
    },
    {
     "data": {
      "image/png": "[encoded data removed]",
      "text/plain": [
       "<Figure size 432x288 with 1 Axes>"
      ]
     },
     "metadata": {
      "needs_background": "light"
     },
     "output_type": "display_data"
    }
   ],
   "source": [
    "# create a scatterplot to visualise how the variables plot against each other\n",
    "\n",
    "df.plot(x = 'Unemployment Percentage', y = 'Suicide Rates per 100,000',style = 'o')\n",
    "plt.title('Unemployment Rate vs Suicide Rates')  \n",
    "plt.xlabel('Unemployment Percentage')  \n",
    "plt.ylabel('Suicide Rates per 100,000')"
   ]
  },
  {
   "cell_type": "markdown",
   "id": "74bf4368",
   "metadata": {},
   "source": [
    "**Hypothesis**\n",
    "\n",
    "The higher the unemployment rate, the higher the suicide rate"
   ]
  },
  {
   "cell_type": "code",
   "execution_count": 10,
   "id": "a6b514ae",
   "metadata": {},
   "outputs": [],
   "source": [
    "# reshape the variables into NumPy arrays and put them into separate objects\n",
    "\n",
    "X = df['Unemployment Percentage'].values.reshape(-1,1)\n",
    "y = df['Suicide Rates per 100,000'].values.reshape(-1,1)"
   ]
  },
  {
   "cell_type": "code",
   "execution_count": 11,
   "id": "f2f33d45",
   "metadata": {},
   "outputs": [
    {
     "data": {
      "text/plain": [
       "array([[10.1 ],\n",
       "       [10.1 ],\n",
       "       [10.1 ],\n",
       "       ...,\n",
       "       [13.48],\n",
       "       [13.48],\n",
       "       [13.48]])"
      ]
     },
     "execution_count": 11,
     "metadata": {},
     "output_type": "execute_result"
    }
   ],
   "source": [
    "X"
   ]
  },
  {
   "cell_type": "code",
   "execution_count": 12,
   "id": "b3491131",
   "metadata": {},
   "outputs": [
    {
     "data": {
      "text/plain": [
       "array([[0.16],\n",
       "       [0.31],\n",
       "       [0.49],\n",
       "       ...,\n",
       "       [7.26],\n",
       "       [7.63],\n",
       "       [8.22]])"
      ]
     },
     "execution_count": 12,
     "metadata": {},
     "output_type": "execute_result"
    }
   ],
   "source": [
    "y"
   ]
  },
  {
   "cell_type": "code",
   "execution_count": 13,
   "id": "6c909a38",
   "metadata": {},
   "outputs": [],
   "source": [
    "# split data into training & test sets\n",
    "\n",
    "X_train, X_test, y_train, y_test = train_test_split(X, y, test_size=0.3, random_state=0)"
   ]
  },
  {
   "cell_type": "markdown",
   "id": "02794616",
   "metadata": {},
   "source": [
    "## Regression analysis"
   ]
  },
  {
   "cell_type": "code",
   "execution_count": 14,
   "id": "7c6bfb4c",
   "metadata": {},
   "outputs": [],
   "source": [
    "# create a regression object to fit onto the training set\n",
    "\n",
    "regression = LinearRegression()"
   ]
  },
  {
   "cell_type": "code",
   "execution_count": 15,
   "id": "bdf4cd63",
   "metadata": {},
   "outputs": [
    {
     "data": {
      "text/plain": [
       "LinearRegression()"
      ]
     },
     "execution_count": 15,
     "metadata": {},
     "output_type": "execute_result"
    }
   ],
   "source": [
    "# fit the regression object onto the training set\n",
    "\n",
    "regression.fit(X_train, y_train)"
   ]
  },
  {
   "cell_type": "code",
   "execution_count": 16,
   "id": "11f0802d",
   "metadata": {},
   "outputs": [],
   "source": [
    "# predict the values of y using X.\n",
    "\n",
    "y_predicted = regression.predict(X_test)"
   ]
  },
  {
   "cell_type": "code",
   "execution_count": 17,
   "id": "309fe40d",
   "metadata": {},
   "outputs": [
    {
     "data": {
      "text/plain": [
       "Text(0, 0.5, 'Suicide Rates per 100,000')"
      ]
     },
     "execution_count": 17,
     "metadata": {},
     "output_type": "execute_result"
    },
    {
     "data": {
      "image/png": "[encoded data removed]",
      "text/plain": [
       "<Figure size 432x288 with 1 Axes>"
      ]
     },
     "metadata": {
      "needs_background": "light"
     },
     "output_type": "display_data"
    }
   ],
   "source": [
    "# create a plot that shows the regression line from the model on the test set\n",
    "\n",
    "plot_test = plt\n",
    "plot_test.scatter(X_test, y_test, color = 'gray', s = 15)\n",
    "plot_test.plot(X_test, y_predicted, color ='red', linewidth = 3)\n",
    "plot_test.title('Unemployment Rate vs Suicide Rates per 100,000 (Test set)')\n",
    "plot_test.xlabel('Unemployment Percentage')\n",
    "plot_test.ylabel('Suicide Rates per 100,000')"
   ]
  },
  {
   "cell_type": "markdown",
   "id": "3bd808e4",
   "metadata": {},
   "source": [
    "The line doesn't fit all the data points, although there is a slight upward trend. There is a cluster of data points in the lower end of the uneployment percentage, with outliers pushing the trend line up around the 25% unemployment rate mark. "
   ]
  },
  {
   "cell_type": "code",
   "execution_count": 18,
   "id": "af63eea8",
   "metadata": {},
   "outputs": [
    {
     "name": "stdout",
     "output_type": "stream",
     "text": [
      "Slope: [[0.43765835]]\n",
      "Mean squared error:  151.49645053980072\n",
      "R2 score:  0.022462668093680582\n"
     ]
    }
   ],
   "source": [
    "# create & print objects that contain the model summary statistics and evaluate\n",
    "\n",
    "rmse = mean_squared_error(y_test, y_predicted)\n",
    "r2 = r2_score(y_test, y_predicted)\n",
    "\n",
    "print('Slope:' ,regression.coef_)\n",
    "print('Mean squared error: ', rmse)\n",
    "print('R2 score: ', r2)"
   ]
  },
  {
   "cell_type": "code",
   "execution_count": 19,
   "id": "a5d96d2a",
   "metadata": {
    "scrolled": true
   },
   "outputs": [
    {
     "data": {
      "text/plain": [
       "array([[ 8.77240942],\n",
       "       [10.23856489],\n",
       "       [10.87316949],\n",
       "       ...,\n",
       "       [14.45321479],\n",
       "       [15.91499368],\n",
       "       [16.84282938]])"
      ]
     },
     "execution_count": 19,
     "metadata": {},
     "output_type": "execute_result"
    }
   ],
   "source": [
    "y_predicted"
   ]
  },
  {
   "cell_type": "code",
   "execution_count": 20,
   "id": "20879196",
   "metadata": {},
   "outputs": [
    {
     "data": {
      "text/html": [
       "<div>\n",
       "<style scoped>\n",
       "    .dataframe tbody tr th:only-of-type {\n",
       "        vertical-align: middle;\n",
       "    }\n",
       "\n",
       "    .dataframe tbody tr th {\n",
       "        vertical-align: top;\n",
       "    }\n",
       "\n",
       "    .dataframe thead th {\n",
       "        text-align: right;\n",
       "    }\n",
       "</style>\n",
       "<table border=\"1\" class=\"dataframe\">\n",
       "  <thead>\n",
       "    <tr style=\"text-align: right;\">\n",
       "      <th></th>\n",
       "      <th>Actual</th>\n",
       "      <th>Predicted</th>\n",
       "    </tr>\n",
       "  </thead>\n",
       "  <tbody>\n",
       "    <tr>\n",
       "      <th>0</th>\n",
       "      <td>6.82</td>\n",
       "      <td>8.772409</td>\n",
       "    </tr>\n",
       "    <tr>\n",
       "      <th>1</th>\n",
       "      <td>3.90</td>\n",
       "      <td>10.238565</td>\n",
       "    </tr>\n",
       "    <tr>\n",
       "      <th>2</th>\n",
       "      <td>21.04</td>\n",
       "      <td>10.873169</td>\n",
       "    </tr>\n",
       "    <tr>\n",
       "      <th>3</th>\n",
       "      <td>1.85</td>\n",
       "      <td>8.916837</td>\n",
       "    </tr>\n",
       "    <tr>\n",
       "      <th>4</th>\n",
       "      <td>6.70</td>\n",
       "      <td>8.299738</td>\n",
       "    </tr>\n",
       "    <tr>\n",
       "      <th>5</th>\n",
       "      <td>4.16</td>\n",
       "      <td>10.566809</td>\n",
       "    </tr>\n",
       "    <tr>\n",
       "      <th>6</th>\n",
       "      <td>16.74</td>\n",
       "      <td>13.901765</td>\n",
       "    </tr>\n",
       "    <tr>\n",
       "      <th>7</th>\n",
       "      <td>22.12</td>\n",
       "      <td>11.455255</td>\n",
       "    </tr>\n",
       "    <tr>\n",
       "      <th>8</th>\n",
       "      <td>21.47</td>\n",
       "      <td>11.555917</td>\n",
       "    </tr>\n",
       "    <tr>\n",
       "      <th>9</th>\n",
       "      <td>2.83</td>\n",
       "      <td>16.361405</td>\n",
       "    </tr>\n",
       "    <tr>\n",
       "      <th>10</th>\n",
       "      <td>9.72</td>\n",
       "      <td>9.586454</td>\n",
       "    </tr>\n",
       "    <tr>\n",
       "      <th>11</th>\n",
       "      <td>15.38</td>\n",
       "      <td>11.455255</td>\n",
       "    </tr>\n",
       "    <tr>\n",
       "      <th>12</th>\n",
       "      <td>5.96</td>\n",
       "      <td>12.571284</td>\n",
       "    </tr>\n",
       "    <tr>\n",
       "      <th>13</th>\n",
       "      <td>52.43</td>\n",
       "      <td>10.116021</td>\n",
       "    </tr>\n",
       "    <tr>\n",
       "      <th>14</th>\n",
       "      <td>1.15</td>\n",
       "      <td>13.477237</td>\n",
       "    </tr>\n",
       "    <tr>\n",
       "      <th>15</th>\n",
       "      <td>11.88</td>\n",
       "      <td>10.317343</td>\n",
       "    </tr>\n",
       "    <tr>\n",
       "      <th>16</th>\n",
       "      <td>5.33</td>\n",
       "      <td>12.238664</td>\n",
       "    </tr>\n",
       "    <tr>\n",
       "      <th>17</th>\n",
       "      <td>3.87</td>\n",
       "      <td>11.472761</td>\n",
       "    </tr>\n",
       "    <tr>\n",
       "      <th>18</th>\n",
       "      <td>7.33</td>\n",
       "      <td>8.584216</td>\n",
       "    </tr>\n",
       "    <tr>\n",
       "      <th>19</th>\n",
       "      <td>22.31</td>\n",
       "      <td>8.929966</td>\n",
       "    </tr>\n",
       "    <tr>\n",
       "      <th>20</th>\n",
       "      <td>13.90</td>\n",
       "      <td>8.549204</td>\n",
       "    </tr>\n",
       "    <tr>\n",
       "      <th>21</th>\n",
       "      <td>47.97</td>\n",
       "      <td>9.665232</td>\n",
       "    </tr>\n",
       "    <tr>\n",
       "      <th>22</th>\n",
       "      <td>8.93</td>\n",
       "      <td>11.757239</td>\n",
       "    </tr>\n",
       "    <tr>\n",
       "      <th>23</th>\n",
       "      <td>8.03</td>\n",
       "      <td>11.332711</td>\n",
       "    </tr>\n",
       "    <tr>\n",
       "      <th>24</th>\n",
       "      <td>2.34</td>\n",
       "      <td>8.886201</td>\n",
       "    </tr>\n",
       "    <tr>\n",
       "      <th>25</th>\n",
       "      <td>10.37</td>\n",
       "      <td>9.363248</td>\n",
       "    </tr>\n",
       "    <tr>\n",
       "      <th>26</th>\n",
       "      <td>15.05</td>\n",
       "      <td>10.925688</td>\n",
       "    </tr>\n",
       "    <tr>\n",
       "      <th>27</th>\n",
       "      <td>2.29</td>\n",
       "      <td>16.265120</td>\n",
       "    </tr>\n",
       "    <tr>\n",
       "      <th>28</th>\n",
       "      <td>5.29</td>\n",
       "      <td>10.746249</td>\n",
       "    </tr>\n",
       "    <tr>\n",
       "      <th>29</th>\n",
       "      <td>10.69</td>\n",
       "      <td>10.133527</td>\n",
       "    </tr>\n",
       "  </tbody>\n",
       "</table>\n",
       "</div>"
      ],
      "text/plain": [
       "    Actual  Predicted\n",
       "0     6.82   8.772409\n",
       "1     3.90  10.238565\n",
       "2    21.04  10.873169\n",
       "3     1.85   8.916837\n",
       "4     6.70   8.299738\n",
       "5     4.16  10.566809\n",
       "6    16.74  13.901765\n",
       "7    22.12  11.455255\n",
       "8    21.47  11.555917\n",
       "9     2.83  16.361405\n",
       "10    9.72   9.586454\n",
       "11   15.38  11.455255\n",
       "12    5.96  12.571284\n",
       "13   52.43  10.116021\n",
       "14    1.15  13.477237\n",
       "15   11.88  10.317343\n",
       "16    5.33  12.238664\n",
       "17    3.87  11.472761\n",
       "18    7.33   8.584216\n",
       "19   22.31   8.929966\n",
       "20   13.90   8.549204\n",
       "21   47.97   9.665232\n",
       "22    8.93  11.757239\n",
       "23    8.03  11.332711\n",
       "24    2.34   8.886201\n",
       "25   10.37   9.363248\n",
       "26   15.05  10.925688\n",
       "27    2.29  16.265120\n",
       "28    5.29  10.746249\n",
       "29   10.69  10.133527"
      ]
     },
     "execution_count": 20,
     "metadata": {},
     "output_type": "execute_result"
    }
   ],
   "source": [
    "# create a dataframe comparing the actual and predicted values of y.\n",
    "\n",
    "data = pd.DataFrame({'Actual': y_test.flatten(), 'Predicted': y_predicted.flatten()})\n",
    "data.head(30)"
   ]
  },
  {
   "cell_type": "markdown",
   "id": "442c1a6c",
   "metadata": {},
   "source": [
    "The model didn't perform well on the test set. There is so much variance between the actual and predicted figures, which supports the low R2 score of 0.0225. It also rejects the null hypothesis, despite the positive trendline.\n",
    "There is data bias in that not all countries are represented in the analysis, so there is data missing for them. Also, collecting data is difficult for most developing countries, so the data may not represent the true numbers in those countries."
   ]
  },
  {
   "cell_type": "markdown",
   "id": "dd1be84c",
   "metadata": {},
   "source": [
    "## Bonus - second regression analysis"
   ]
  },
  {
   "cell_type": "markdown",
   "id": "310165af",
   "metadata": {},
   "source": [
    "### Data prep for regression analysis"
   ]
  },
  {
   "cell_type": "code",
   "execution_count": 21,
   "id": "f1975e89",
   "metadata": {},
   "outputs": [
    {
     "data": {
      "text/plain": [
       "Text(0, 0.5, 'Suicide Rates per 100,000')"
      ]
     },
     "execution_count": 21,
     "metadata": {},
     "output_type": "execute_result"
    },
    {
     "data": {
      "image/png": "[encoded data removed]",
      "text/plain": [
       "<Figure size 432x288 with 1 Axes>"
      ]
     },
     "metadata": {
      "needs_background": "light"
     },
     "output_type": "display_data"
    }
   ],
   "source": [
    "# create a scatterplot to visualise how the variables plot against each other\n",
    "\n",
    "df.plot(x = 'GDP (Current US$)', y = 'Suicide Rates per 100,000',style = 'o')\n",
    "plt.title('GDP vs Suicide Rates')  \n",
    "plt.xlabel('GDP (Current US$)')  \n",
    "plt.ylabel('Suicide Rates per 100,000')"
   ]
  },
  {
   "cell_type": "markdown",
   "id": "c183697f",
   "metadata": {},
   "source": [
    "**Hypothesis**\n",
    "\n",
    "The lower the GDP, the higher the suicide rate"
   ]
  },
  {
   "cell_type": "code",
   "execution_count": 22,
   "id": "6a41e2e1",
   "metadata": {},
   "outputs": [],
   "source": [
    "# reshape the variables into NumPy arrays and put them into separate objects\n",
    "\n",
    "X1 = df['GDP (Current US$)'].values.reshape(-1,1)\n",
    "y1 = df['Suicide Rates per 100,000'].values.reshape(-1,1)"
   ]
  },
  {
   "cell_type": "code",
   "execution_count": 23,
   "id": "61463710",
   "metadata": {},
   "outputs": [
    {
     "data": {
      "text/plain": [
       "array([[5.20900000e+09],\n",
       "       [5.20900000e+09],\n",
       "       [5.20900000e+09],\n",
       "       ...,\n",
       "       [1.28907645e+10],\n",
       "       [1.28907645e+10],\n",
       "       [1.28907645e+10]])"
      ]
     },
     "execution_count": 23,
     "metadata": {},
     "output_type": "execute_result"
    }
   ],
   "source": [
    "X1"
   ]
  },
  {
   "cell_type": "code",
   "execution_count": 24,
   "id": "5f0fdca4",
   "metadata": {},
   "outputs": [
    {
     "data": {
      "text/plain": [
       "array([[0.16],\n",
       "       [0.31],\n",
       "       [0.49],\n",
       "       ...,\n",
       "       [7.26],\n",
       "       [7.63],\n",
       "       [8.22]])"
      ]
     },
     "execution_count": 24,
     "metadata": {},
     "output_type": "execute_result"
    }
   ],
   "source": [
    "y1"
   ]
  },
  {
   "cell_type": "code",
   "execution_count": 25,
   "id": "4eed27b2",
   "metadata": {},
   "outputs": [],
   "source": [
    "# split data into training & test sets\n",
    "\n",
    "X1_train, X1_test, y1_train, y1_test = train_test_split(X1, y1, test_size=0.3, random_state=0)"
   ]
  },
  {
   "cell_type": "markdown",
   "id": "37a4b8a9",
   "metadata": {},
   "source": [
    "### Regression analysis"
   ]
  },
  {
   "cell_type": "code",
   "execution_count": 26,
   "id": "030bcc5e",
   "metadata": {},
   "outputs": [],
   "source": [
    "# create a regression object to fit onto the training set\n",
    "\n",
    "regression = LinearRegression()"
   ]
  },
  {
   "cell_type": "code",
   "execution_count": 27,
   "id": "3bcf9000",
   "metadata": {},
   "outputs": [
    {
     "data": {
      "text/plain": [
       "LinearRegression()"
      ]
     },
     "execution_count": 27,
     "metadata": {},
     "output_type": "execute_result"
    }
   ],
   "source": [
    "# fit the regression object onto the training set\n",
    "\n",
    "regression.fit(X1_train, y1_train)"
   ]
  },
  {
   "cell_type": "code",
   "execution_count": 28,
   "id": "b5d19796",
   "metadata": {},
   "outputs": [],
   "source": [
    "# predict the values of y using X.\n",
    "\n",
    "y1_predicted = regression.predict(X1_test)"
   ]
  },
  {
   "cell_type": "code",
   "execution_count": 29,
   "id": "8aea2f11",
   "metadata": {},
   "outputs": [
    {
     "data": {
      "text/plain": [
       "Text(0, 0.5, 'Suicide Rates per 100,000')"
      ]
     },
     "execution_count": 29,
     "metadata": {},
     "output_type": "execute_result"
    },
    {
     "data": {
      "image/png": "[encoded data removed]",
      "text/plain": [
       "<Figure size 432x288 with 1 Axes>"
      ]
     },
     "metadata": {
      "needs_background": "light"
     },
     "output_type": "display_data"
    }
   ],
   "source": [
    "# create a plot that shows the regression line from the model on the test set\n",
    "\n",
    "plot_test1 = plt\n",
    "plot_test1.scatter(X1_test, y1_test, color = 'gray', s = 15)\n",
    "plot_test1.plot(X1_test, y1_predicted, color = 'red', linewidth = 3)\n",
    "plot_test1.title('GDP vs Suicide Rates per 100,000 (Test set)')\n",
    "plot_test1.xlabel('GDP (Current US$)')\n",
    "plot_test1.ylabel('Suicide Rates per 100,000')"
   ]
  },
  {
   "cell_type": "markdown",
   "id": "8e979650",
   "metadata": {},
   "source": [
    "The line doesn't fit all the data points. There is a cluster of data points in the lower end of the GDP range, but the trend line is almost flat, demonstrating no linear relationship"
   ]
  },
  {
   "cell_type": "code",
   "execution_count": 30,
   "id": "96f489c2",
   "metadata": {},
   "outputs": [
    {
     "name": "stdout",
     "output_type": "stream",
     "text": [
      "Slope: [[-8.53678635e-14]]\n",
      "Mean squared error:  155.00907478855495\n",
      "R2 score:  -0.00020269022911767465\n"
     ]
    }
   ],
   "source": [
    "# create & print objects that contain the model summary statistics and evaluate\n",
    "\n",
    "rmse = mean_squared_error(y1_test, y1_predicted)\n",
    "r2 = r2_score(y1_test, y1_predicted)\n",
    "\n",
    "print('Slope:' ,regression.coef_)\n",
    "print('Mean squared error: ', rmse)\n",
    "print('R2 score: ', r2)"
   ]
  },
  {
   "cell_type": "code",
   "execution_count": 31,
   "id": "cee6cb31",
   "metadata": {
    "scrolled": true
   },
   "outputs": [
    {
     "data": {
      "text/plain": [
       "array([[11.15721894],\n",
       "       [11.15585943],\n",
       "       [11.14700237],\n",
       "       ...,\n",
       "       [11.15402228],\n",
       "       [11.15735739],\n",
       "       [11.1563451 ]])"
      ]
     },
     "execution_count": 31,
     "metadata": {},
     "output_type": "execute_result"
    }
   ],
   "source": [
    "y1_predicted"
   ]
  },
  {
   "cell_type": "code",
   "execution_count": 32,
   "id": "0c46bfe4",
   "metadata": {},
   "outputs": [
    {
     "data": {
      "text/html": [
       "<div>\n",
       "<style scoped>\n",
       "    .dataframe tbody tr th:only-of-type {\n",
       "        vertical-align: middle;\n",
       "    }\n",
       "\n",
       "    .dataframe tbody tr th {\n",
       "        vertical-align: top;\n",
       "    }\n",
       "\n",
       "    .dataframe thead th {\n",
       "        text-align: right;\n",
       "    }\n",
       "</style>\n",
       "<table border=\"1\" class=\"dataframe\">\n",
       "  <thead>\n",
       "    <tr style=\"text-align: right;\">\n",
       "      <th></th>\n",
       "      <th>Actual</th>\n",
       "      <th>Predicted</th>\n",
       "    </tr>\n",
       "  </thead>\n",
       "  <tbody>\n",
       "    <tr>\n",
       "      <th>0</th>\n",
       "      <td>6.82</td>\n",
       "      <td>11.157219</td>\n",
       "    </tr>\n",
       "    <tr>\n",
       "      <th>1</th>\n",
       "      <td>3.90</td>\n",
       "      <td>11.155859</td>\n",
       "    </tr>\n",
       "    <tr>\n",
       "      <th>2</th>\n",
       "      <td>21.04</td>\n",
       "      <td>11.147002</td>\n",
       "    </tr>\n",
       "    <tr>\n",
       "      <th>3</th>\n",
       "      <td>1.85</td>\n",
       "      <td>11.155613</td>\n",
       "    </tr>\n",
       "    <tr>\n",
       "      <th>4</th>\n",
       "      <td>6.70</td>\n",
       "      <td>11.156555</td>\n",
       "    </tr>\n",
       "    <tr>\n",
       "      <th>5</th>\n",
       "      <td>4.16</td>\n",
       "      <td>11.153669</td>\n",
       "    </tr>\n",
       "    <tr>\n",
       "      <th>6</th>\n",
       "      <td>16.74</td>\n",
       "      <td>11.157019</td>\n",
       "    </tr>\n",
       "    <tr>\n",
       "      <th>7</th>\n",
       "      <td>22.12</td>\n",
       "      <td>11.112896</td>\n",
       "    </tr>\n",
       "    <tr>\n",
       "      <th>8</th>\n",
       "      <td>21.47</td>\n",
       "      <td>11.157361</td>\n",
       "    </tr>\n",
       "    <tr>\n",
       "      <th>9</th>\n",
       "      <td>2.83</td>\n",
       "      <td>11.052248</td>\n",
       "    </tr>\n",
       "    <tr>\n",
       "      <th>10</th>\n",
       "      <td>9.72</td>\n",
       "      <td>11.156951</td>\n",
       "    </tr>\n",
       "    <tr>\n",
       "      <th>11</th>\n",
       "      <td>15.38</td>\n",
       "      <td>11.112896</td>\n",
       "    </tr>\n",
       "    <tr>\n",
       "      <th>12</th>\n",
       "      <td>5.96</td>\n",
       "      <td>11.155823</td>\n",
       "    </tr>\n",
       "    <tr>\n",
       "      <th>13</th>\n",
       "      <td>52.43</td>\n",
       "      <td>11.156224</td>\n",
       "    </tr>\n",
       "    <tr>\n",
       "      <th>14</th>\n",
       "      <td>1.15</td>\n",
       "      <td>11.157391</td>\n",
       "    </tr>\n",
       "    <tr>\n",
       "      <th>15</th>\n",
       "      <td>11.88</td>\n",
       "      <td>11.129075</td>\n",
       "    </tr>\n",
       "    <tr>\n",
       "      <th>16</th>\n",
       "      <td>5.33</td>\n",
       "      <td>11.156901</td>\n",
       "    </tr>\n",
       "    <tr>\n",
       "      <th>17</th>\n",
       "      <td>3.87</td>\n",
       "      <td>11.156455</td>\n",
       "    </tr>\n",
       "    <tr>\n",
       "      <th>18</th>\n",
       "      <td>7.33</td>\n",
       "      <td>11.156493</td>\n",
       "    </tr>\n",
       "    <tr>\n",
       "      <th>19</th>\n",
       "      <td>22.31</td>\n",
       "      <td>11.156359</td>\n",
       "    </tr>\n",
       "    <tr>\n",
       "      <th>20</th>\n",
       "      <td>13.90</td>\n",
       "      <td>11.156461</td>\n",
       "    </tr>\n",
       "    <tr>\n",
       "      <th>21</th>\n",
       "      <td>47.97</td>\n",
       "      <td>11.157266</td>\n",
       "    </tr>\n",
       "    <tr>\n",
       "      <th>22</th>\n",
       "      <td>8.93</td>\n",
       "      <td>11.153892</td>\n",
       "    </tr>\n",
       "    <tr>\n",
       "      <th>23</th>\n",
       "      <td>8.03</td>\n",
       "      <td>11.141571</td>\n",
       "    </tr>\n",
       "    <tr>\n",
       "      <th>24</th>\n",
       "      <td>2.34</td>\n",
       "      <td>11.142560</td>\n",
       "    </tr>\n",
       "    <tr>\n",
       "      <th>25</th>\n",
       "      <td>10.37</td>\n",
       "      <td>11.125331</td>\n",
       "    </tr>\n",
       "    <tr>\n",
       "      <th>26</th>\n",
       "      <td>15.05</td>\n",
       "      <td>11.110818</td>\n",
       "    </tr>\n",
       "    <tr>\n",
       "      <th>27</th>\n",
       "      <td>2.29</td>\n",
       "      <td>11.155960</td>\n",
       "    </tr>\n",
       "    <tr>\n",
       "      <th>28</th>\n",
       "      <td>5.29</td>\n",
       "      <td>11.156784</td>\n",
       "    </tr>\n",
       "    <tr>\n",
       "      <th>29</th>\n",
       "      <td>10.69</td>\n",
       "      <td>10.931077</td>\n",
       "    </tr>\n",
       "  </tbody>\n",
       "</table>\n",
       "</div>"
      ],
      "text/plain": [
       "    Actual  Predicted\n",
       "0     6.82  11.157219\n",
       "1     3.90  11.155859\n",
       "2    21.04  11.147002\n",
       "3     1.85  11.155613\n",
       "4     6.70  11.156555\n",
       "5     4.16  11.153669\n",
       "6    16.74  11.157019\n",
       "7    22.12  11.112896\n",
       "8    21.47  11.157361\n",
       "9     2.83  11.052248\n",
       "10    9.72  11.156951\n",
       "11   15.38  11.112896\n",
       "12    5.96  11.155823\n",
       "13   52.43  11.156224\n",
       "14    1.15  11.157391\n",
       "15   11.88  11.129075\n",
       "16    5.33  11.156901\n",
       "17    3.87  11.156455\n",
       "18    7.33  11.156493\n",
       "19   22.31  11.156359\n",
       "20   13.90  11.156461\n",
       "21   47.97  11.157266\n",
       "22    8.93  11.153892\n",
       "23    8.03  11.141571\n",
       "24    2.34  11.142560\n",
       "25   10.37  11.125331\n",
       "26   15.05  11.110818\n",
       "27    2.29  11.155960\n",
       "28    5.29  11.156784\n",
       "29   10.69  10.931077"
      ]
     },
     "execution_count": 32,
     "metadata": {},
     "output_type": "execute_result"
    }
   ],
   "source": [
    "# create a dataframe comparing the actual and predicted values of y.\n",
    "\n",
    "data = pd.DataFrame({'Actual': y1_test.flatten(), 'Predicted': y1_predicted.flatten()})\n",
    "data.head(30)"
   ]
  },
  {
   "cell_type": "markdown",
   "id": "72306ff7",
   "metadata": {},
   "source": [
    "The model didn't perform well on the test set. There is so much variance between the actual and predicted figures, which supports the low R2 score of -0.000202. This rejects the null hypothesis, or at least there is no linear relationship between these 2 variables"
   ]
  },
  {
   "cell_type": "code",
   "execution_count": null,
   "id": "ab563545",
   "metadata": {},
   "outputs": [],
   "source": []
  }
 ],
 "metadata": {
  "kernelspec": {
   "display_name": "Python 3 (ipykernel)",
   "language": "python",
   "name": "python3"
  },
  "language_info": {
   "codemirror_mode": {
    "name": "ipython",
    "version": 3
   },
   "file_extension": ".py",
   "mimetype": "text/x-python",
   "name": "python",
   "nbconvert_exporter": "python",
   "pygments_lexer": "ipython3",
   "version": "3.8.12"
  }
 },
 "nbformat": 4,
 "nbformat_minor": 5
}
