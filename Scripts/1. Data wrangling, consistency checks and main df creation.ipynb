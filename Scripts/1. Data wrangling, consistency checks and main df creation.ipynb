{
 "cells": [
  {
   "cell_type": "markdown",
   "id": "ef778d13",
   "metadata": {},
   "source": [
    "# 1. Data wrangling, consistency checks and main df creation"
   ]
  },
  {
   "cell_type": "markdown",
   "id": "62239463",
   "metadata": {},
   "source": [
    "### This script contains:\n",
    "\n",
    "1. Import libraries\n",
    "2. Import data\n",
    "3. Data wrangling\n",
    "    <br>3.1 Suicide dataframe\n",
    "    <br>3.2 Population dataframe\n",
    "    <br>3.3 Unemployment dataframe\n",
    "    <br>3.4 GDP dataframe\n",
    "    <br>3.5 Create subset\n",
    "4. Consistency checks\n",
    "    <br>4.1 Suicide dataframe\n",
    "    <br>4.2 Population dataframe\n",
    "    <br>4.3 Unemployment dataframe\n",
    "    <br>4.4 GDP dataframe\n",
    "5. Merging dataframes\n",
    "    <br>5.1 Merging suicide df with population df\n",
    "    <br>5.2 Merging df1 with unemployment df\n",
    "    <br>5.3 Merging df2 with gdp df\n",
    "6 Data wrangling - final df check\n",
    "    <br>6.1 Removing missing values from the df\n",
    "7 Consistency check - final df check\n",
    "8 Exporting the dataframe"
   ]
  },
  {
   "cell_type": "markdown",
   "id": "66f01e5b",
   "metadata": {},
   "source": [
    "# Import libraries"
   ]
  },
  {
   "cell_type": "code",
   "execution_count": 1,
   "id": "2618851d",
   "metadata": {},
   "outputs": [],
   "source": [
    "# import libraries\n",
    "\n",
    "import pandas as pd\n",
    "import numpy as np\n",
    "import os"
   ]
  },
  {
   "cell_type": "markdown",
   "id": "4f3a62d2",
   "metadata": {},
   "source": [
    "# Import data"
   ]
  },
  {
   "cell_type": "code",
   "execution_count": 2,
   "id": "5e299892",
   "metadata": {},
   "outputs": [],
   "source": [
    "# file path\n",
    "\n",
    "path = r'C:\\Users\\Odette\\Desktop\\CareerFoundry\\Immersion Courses\\Course 6\\02 Data'"
   ]
  },
  {
   "cell_type": "code",
   "execution_count": 3,
   "id": "13a819a4",
   "metadata": {},
   "outputs": [],
   "source": [
    "# import partial suicide data set\n",
    "\n",
    "suicide1_df = pd.read_csv(os.path.join(path, 'Original Data', 'Suicide rate data.csv'), nrows=20, index_col = False)"
   ]
  },
  {
   "cell_type": "code",
   "execution_count": 4,
   "id": "40ebf2b7",
   "metadata": {},
   "outputs": [
    {
     "data": {
      "text/html": [
       "<div>\n",
       "<style scoped>\n",
       "    .dataframe tbody tr th:only-of-type {\n",
       "        vertical-align: middle;\n",
       "    }\n",
       "\n",
       "    .dataframe tbody tr th {\n",
       "        vertical-align: top;\n",
       "    }\n",
       "\n",
       "    .dataframe thead th {\n",
       "        text-align: right;\n",
       "    }\n",
       "</style>\n",
       "<table border=\"1\" class=\"dataframe\">\n",
       "  <thead>\n",
       "    <tr style=\"text-align: right;\">\n",
       "      <th></th>\n",
       "      <th>IndicatorCode</th>\n",
       "      <th>Indicator</th>\n",
       "      <th>ValueType</th>\n",
       "      <th>ParentLocationCode</th>\n",
       "      <th>ParentLocation</th>\n",
       "      <th>Location type</th>\n",
       "      <th>SpatialDimValueCode</th>\n",
       "      <th>Location</th>\n",
       "      <th>Period type</th>\n",
       "      <th>Period</th>\n",
       "      <th>...</th>\n",
       "      <th>FactValueUoM</th>\n",
       "      <th>FactValueNumericLowPrefix</th>\n",
       "      <th>FactValueNumericLow</th>\n",
       "      <th>FactValueNumericHighPrefix</th>\n",
       "      <th>FactValueNumericHigh</th>\n",
       "      <th>Value</th>\n",
       "      <th>FactValueTranslationID</th>\n",
       "      <th>FactComments</th>\n",
       "      <th>Language</th>\n",
       "      <th>DateModified</th>\n",
       "    </tr>\n",
       "  </thead>\n",
       "  <tbody>\n",
       "    <tr>\n",
       "      <th>0</th>\n",
       "      <td>MH_12</td>\n",
       "      <td>Age-standardized suicide rates (per 100 000 po...</td>\n",
       "      <td>numeric</td>\n",
       "      <td>AMR</td>\n",
       "      <td>Americas</td>\n",
       "      <td>Country</td>\n",
       "      <td>ATG</td>\n",
       "      <td>Antigua and Barbuda</td>\n",
       "      <td>Year</td>\n",
       "      <td>2019</td>\n",
       "      <td>...</td>\n",
       "      <td>NaN</td>\n",
       "      <td>NaN</td>\n",
       "      <td>0.00</td>\n",
       "      <td>NaN</td>\n",
       "      <td>0.00</td>\n",
       "      <td>0 [0 – 0]</td>\n",
       "      <td>NaN</td>\n",
       "      <td>NaN</td>\n",
       "      <td>EN</td>\n",
       "      <td>2021-02-08T14:00:00.000Z</td>\n",
       "    </tr>\n",
       "    <tr>\n",
       "      <th>1</th>\n",
       "      <td>MH_12</td>\n",
       "      <td>Age-standardized suicide rates (per 100 000 po...</td>\n",
       "      <td>numeric</td>\n",
       "      <td>AMR</td>\n",
       "      <td>Americas</td>\n",
       "      <td>Country</td>\n",
       "      <td>BRB</td>\n",
       "      <td>Barbados</td>\n",
       "      <td>Year</td>\n",
       "      <td>2019</td>\n",
       "      <td>...</td>\n",
       "      <td>NaN</td>\n",
       "      <td>NaN</td>\n",
       "      <td>0.11</td>\n",
       "      <td>NaN</td>\n",
       "      <td>0.22</td>\n",
       "      <td>0.16 [0.11 – 0.22]</td>\n",
       "      <td>NaN</td>\n",
       "      <td>NaN</td>\n",
       "      <td>EN</td>\n",
       "      <td>2021-02-08T14:00:00.000Z</td>\n",
       "    </tr>\n",
       "    <tr>\n",
       "      <th>2</th>\n",
       "      <td>MH_12</td>\n",
       "      <td>Age-standardized suicide rates (per 100 000 po...</td>\n",
       "      <td>numeric</td>\n",
       "      <td>AMR</td>\n",
       "      <td>Americas</td>\n",
       "      <td>Country</td>\n",
       "      <td>BRB</td>\n",
       "      <td>Barbados</td>\n",
       "      <td>Year</td>\n",
       "      <td>2019</td>\n",
       "      <td>...</td>\n",
       "      <td>NaN</td>\n",
       "      <td>NaN</td>\n",
       "      <td>0.22</td>\n",
       "      <td>NaN</td>\n",
       "      <td>0.42</td>\n",
       "      <td>0.31 [0.22 – 0.42]</td>\n",
       "      <td>NaN</td>\n",
       "      <td>NaN</td>\n",
       "      <td>EN</td>\n",
       "      <td>2021-02-08T14:00:00.000Z</td>\n",
       "    </tr>\n",
       "    <tr>\n",
       "      <th>3</th>\n",
       "      <td>MH_12</td>\n",
       "      <td>Age-standardized suicide rates (per 100 000 po...</td>\n",
       "      <td>numeric</td>\n",
       "      <td>AMR</td>\n",
       "      <td>Americas</td>\n",
       "      <td>Country</td>\n",
       "      <td>ATG</td>\n",
       "      <td>Antigua and Barbuda</td>\n",
       "      <td>Year</td>\n",
       "      <td>2019</td>\n",
       "      <td>...</td>\n",
       "      <td>NaN</td>\n",
       "      <td>NaN</td>\n",
       "      <td>0.22</td>\n",
       "      <td>NaN</td>\n",
       "      <td>0.45</td>\n",
       "      <td>0.32 [0.22 – 0.45]</td>\n",
       "      <td>NaN</td>\n",
       "      <td>NaN</td>\n",
       "      <td>EN</td>\n",
       "      <td>2021-02-08T14:00:00.000Z</td>\n",
       "    </tr>\n",
       "    <tr>\n",
       "      <th>4</th>\n",
       "      <td>MH_12</td>\n",
       "      <td>Age-standardized suicide rates (per 100 000 po...</td>\n",
       "      <td>numeric</td>\n",
       "      <td>AMR</td>\n",
       "      <td>Americas</td>\n",
       "      <td>Country</td>\n",
       "      <td>BRB</td>\n",
       "      <td>Barbados</td>\n",
       "      <td>Year</td>\n",
       "      <td>2019</td>\n",
       "      <td>...</td>\n",
       "      <td>NaN</td>\n",
       "      <td>NaN</td>\n",
       "      <td>0.34</td>\n",
       "      <td>NaN</td>\n",
       "      <td>0.65</td>\n",
       "      <td>0.49 [0.34 – 0.65]</td>\n",
       "      <td>NaN</td>\n",
       "      <td>NaN</td>\n",
       "      <td>EN</td>\n",
       "      <td>2021-02-08T14:00:00.000Z</td>\n",
       "    </tr>\n",
       "  </tbody>\n",
       "</table>\n",
       "<p>5 rows × 34 columns</p>\n",
       "</div>"
      ],
      "text/plain": [
       "  IndicatorCode                                          Indicator ValueType  \\\n",
       "0         MH_12  Age-standardized suicide rates (per 100 000 po...   numeric   \n",
       "1         MH_12  Age-standardized suicide rates (per 100 000 po...   numeric   \n",
       "2         MH_12  Age-standardized suicide rates (per 100 000 po...   numeric   \n",
       "3         MH_12  Age-standardized suicide rates (per 100 000 po...   numeric   \n",
       "4         MH_12  Age-standardized suicide rates (per 100 000 po...   numeric   \n",
       "\n",
       "  ParentLocationCode ParentLocation Location type SpatialDimValueCode  \\\n",
       "0                AMR       Americas       Country                 ATG   \n",
       "1                AMR       Americas       Country                 BRB   \n",
       "2                AMR       Americas       Country                 BRB   \n",
       "3                AMR       Americas       Country                 ATG   \n",
       "4                AMR       Americas       Country                 BRB   \n",
       "\n",
       "              Location Period type  Period  ...  FactValueUoM  \\\n",
       "0  Antigua and Barbuda        Year    2019  ...           NaN   \n",
       "1             Barbados        Year    2019  ...           NaN   \n",
       "2             Barbados        Year    2019  ...           NaN   \n",
       "3  Antigua and Barbuda        Year    2019  ...           NaN   \n",
       "4             Barbados        Year    2019  ...           NaN   \n",
       "\n",
       "  FactValueNumericLowPrefix FactValueNumericLow FactValueNumericHighPrefix  \\\n",
       "0                       NaN                0.00                        NaN   \n",
       "1                       NaN                0.11                        NaN   \n",
       "2                       NaN                0.22                        NaN   \n",
       "3                       NaN                0.22                        NaN   \n",
       "4                       NaN                0.34                        NaN   \n",
       "\n",
       "   FactValueNumericHigh               Value  FactValueTranslationID  \\\n",
       "0                  0.00           0 [0 – 0]                     NaN   \n",
       "1                  0.22  0.16 [0.11 – 0.22]                     NaN   \n",
       "2                  0.42  0.31 [0.22 – 0.42]                     NaN   \n",
       "3                  0.45  0.32 [0.22 – 0.45]                     NaN   \n",
       "4                  0.65  0.49 [0.34 – 0.65]                     NaN   \n",
       "\n",
       "   FactComments  Language              DateModified  \n",
       "0           NaN        EN  2021-02-08T14:00:00.000Z  \n",
       "1           NaN        EN  2021-02-08T14:00:00.000Z  \n",
       "2           NaN        EN  2021-02-08T14:00:00.000Z  \n",
       "3           NaN        EN  2021-02-08T14:00:00.000Z  \n",
       "4           NaN        EN  2021-02-08T14:00:00.000Z  \n",
       "\n",
       "[5 rows x 34 columns]"
      ]
     },
     "execution_count": 4,
     "metadata": {},
     "output_type": "execute_result"
    }
   ],
   "source": [
    "suicide1_df.head()"
   ]
  },
  {
   "cell_type": "code",
   "execution_count": 5,
   "id": "61592e4e",
   "metadata": {},
   "outputs": [],
   "source": [
    "# import suicide data set with only necessary columns (within the suicide_list)\n",
    "\n",
    "suicide_list = ['ParentLocationCode', 'ParentLocation', 'SpatialDimValueCode', 'Location', 'Period', 'Dim1', 'FactValueNumeric']\n",
    "\n",
    "suicide_df = pd.read_csv(os.path.join(path, 'Original Data', 'Suicide rate data.csv'), usecols = suicide_list, index_col = False)"
   ]
  },
  {
   "cell_type": "code",
   "execution_count": 6,
   "id": "d102d7c7",
   "metadata": {},
   "outputs": [
    {
     "data": {
      "text/html": [
       "<div>\n",
       "<style scoped>\n",
       "    .dataframe tbody tr th:only-of-type {\n",
       "        vertical-align: middle;\n",
       "    }\n",
       "\n",
       "    .dataframe tbody tr th {\n",
       "        vertical-align: top;\n",
       "    }\n",
       "\n",
       "    .dataframe thead th {\n",
       "        text-align: right;\n",
       "    }\n",
       "</style>\n",
       "<table border=\"1\" class=\"dataframe\">\n",
       "  <thead>\n",
       "    <tr style=\"text-align: right;\">\n",
       "      <th></th>\n",
       "      <th>ParentLocationCode</th>\n",
       "      <th>ParentLocation</th>\n",
       "      <th>SpatialDimValueCode</th>\n",
       "      <th>Location</th>\n",
       "      <th>Period</th>\n",
       "      <th>Dim1</th>\n",
       "      <th>FactValueNumeric</th>\n",
       "    </tr>\n",
       "  </thead>\n",
       "  <tbody>\n",
       "    <tr>\n",
       "      <th>0</th>\n",
       "      <td>AMR</td>\n",
       "      <td>Americas</td>\n",
       "      <td>ATG</td>\n",
       "      <td>Antigua and Barbuda</td>\n",
       "      <td>2019</td>\n",
       "      <td>Male</td>\n",
       "      <td>0.00</td>\n",
       "    </tr>\n",
       "    <tr>\n",
       "      <th>1</th>\n",
       "      <td>AMR</td>\n",
       "      <td>Americas</td>\n",
       "      <td>BRB</td>\n",
       "      <td>Barbados</td>\n",
       "      <td>2019</td>\n",
       "      <td>Female</td>\n",
       "      <td>0.16</td>\n",
       "    </tr>\n",
       "    <tr>\n",
       "      <th>2</th>\n",
       "      <td>AMR</td>\n",
       "      <td>Americas</td>\n",
       "      <td>BRB</td>\n",
       "      <td>Barbados</td>\n",
       "      <td>2019</td>\n",
       "      <td>Both sexes</td>\n",
       "      <td>0.31</td>\n",
       "    </tr>\n",
       "    <tr>\n",
       "      <th>3</th>\n",
       "      <td>AMR</td>\n",
       "      <td>Americas</td>\n",
       "      <td>ATG</td>\n",
       "      <td>Antigua and Barbuda</td>\n",
       "      <td>2019</td>\n",
       "      <td>Both sexes</td>\n",
       "      <td>0.32</td>\n",
       "    </tr>\n",
       "    <tr>\n",
       "      <th>4</th>\n",
       "      <td>AMR</td>\n",
       "      <td>Americas</td>\n",
       "      <td>BRB</td>\n",
       "      <td>Barbados</td>\n",
       "      <td>2019</td>\n",
       "      <td>Male</td>\n",
       "      <td>0.49</td>\n",
       "    </tr>\n",
       "  </tbody>\n",
       "</table>\n",
       "</div>"
      ],
      "text/plain": [
       "  ParentLocationCode ParentLocation SpatialDimValueCode             Location  \\\n",
       "0                AMR       Americas                 ATG  Antigua and Barbuda   \n",
       "1                AMR       Americas                 BRB             Barbados   \n",
       "2                AMR       Americas                 BRB             Barbados   \n",
       "3                AMR       Americas                 ATG  Antigua and Barbuda   \n",
       "4                AMR       Americas                 BRB             Barbados   \n",
       "\n",
       "   Period        Dim1  FactValueNumeric  \n",
       "0    2019        Male              0.00  \n",
       "1    2019      Female              0.16  \n",
       "2    2019  Both sexes              0.31  \n",
       "3    2019  Both sexes              0.32  \n",
       "4    2019        Male              0.49  "
      ]
     },
     "execution_count": 6,
     "metadata": {},
     "output_type": "execute_result"
    }
   ],
   "source": [
    "suicide_df.head()"
   ]
  },
  {
   "cell_type": "code",
   "execution_count": 7,
   "id": "c33a6f4a",
   "metadata": {},
   "outputs": [
    {
     "data": {
      "text/plain": [
       "(10980, 7)"
      ]
     },
     "execution_count": 7,
     "metadata": {},
     "output_type": "execute_result"
    }
   ],
   "source": [
    "# count rows & columns\n",
    "\n",
    "suicide_df.shape"
   ]
  },
  {
   "cell_type": "code",
   "execution_count": 8,
   "id": "8cb29faa",
   "metadata": {},
   "outputs": [],
   "source": [
    "# import population data set\n",
    "\n",
    "pop_df = pd.read_csv(os.path.join(path, 'Original Data', 'Population data.csv'), index_col = False)"
   ]
  },
  {
   "cell_type": "code",
   "execution_count": 9,
   "id": "be497d6d",
   "metadata": {},
   "outputs": [
    {
     "data": {
      "text/html": [
       "<div>\n",
       "<style scoped>\n",
       "    .dataframe tbody tr th:only-of-type {\n",
       "        vertical-align: middle;\n",
       "    }\n",
       "\n",
       "    .dataframe tbody tr th {\n",
       "        vertical-align: top;\n",
       "    }\n",
       "\n",
       "    .dataframe thead th {\n",
       "        text-align: right;\n",
       "    }\n",
       "</style>\n",
       "<table border=\"1\" class=\"dataframe\">\n",
       "  <thead>\n",
       "    <tr style=\"text-align: right;\">\n",
       "      <th></th>\n",
       "      <th>Country Name</th>\n",
       "      <th>Country Code</th>\n",
       "      <th>Time</th>\n",
       "      <th>Time Code</th>\n",
       "      <th>Population, female [SP.POP.TOTL.FE.IN]</th>\n",
       "      <th>Population, male [SP.POP.TOTL.MA.IN]</th>\n",
       "      <th>Population, total [SP.POP.TOTL]</th>\n",
       "    </tr>\n",
       "  </thead>\n",
       "  <tbody>\n",
       "    <tr>\n",
       "      <th>0</th>\n",
       "      <td>Afghanistan</td>\n",
       "      <td>AFG</td>\n",
       "      <td>2006</td>\n",
       "      <td>YR2006</td>\n",
       "      <td>12809162</td>\n",
       "      <td>13623896</td>\n",
       "      <td>26433058</td>\n",
       "    </tr>\n",
       "    <tr>\n",
       "      <th>1</th>\n",
       "      <td>Afghanistan</td>\n",
       "      <td>AFG</td>\n",
       "      <td>2007</td>\n",
       "      <td>YR2007</td>\n",
       "      <td>13161572</td>\n",
       "      <td>13938970</td>\n",
       "      <td>27100542</td>\n",
       "    </tr>\n",
       "    <tr>\n",
       "      <th>2</th>\n",
       "      <td>Afghanistan</td>\n",
       "      <td>AFG</td>\n",
       "      <td>2008</td>\n",
       "      <td>YR2008</td>\n",
       "      <td>13496556</td>\n",
       "      <td>14225725</td>\n",
       "      <td>27722281</td>\n",
       "    </tr>\n",
       "    <tr>\n",
       "      <th>3</th>\n",
       "      <td>Afghanistan</td>\n",
       "      <td>AFG</td>\n",
       "      <td>2009</td>\n",
       "      <td>YR2009</td>\n",
       "      <td>13850751</td>\n",
       "      <td>14544055</td>\n",
       "      <td>28394806</td>\n",
       "    </tr>\n",
       "    <tr>\n",
       "      <th>4</th>\n",
       "      <td>Afghanistan</td>\n",
       "      <td>AFG</td>\n",
       "      <td>2010</td>\n",
       "      <td>YR2010</td>\n",
       "      <td>14249755</td>\n",
       "      <td>14935756</td>\n",
       "      <td>29185511</td>\n",
       "    </tr>\n",
       "  </tbody>\n",
       "</table>\n",
       "</div>"
      ],
      "text/plain": [
       "  Country Name Country Code  Time Time Code  \\\n",
       "0  Afghanistan          AFG  2006    YR2006   \n",
       "1  Afghanistan          AFG  2007    YR2007   \n",
       "2  Afghanistan          AFG  2008    YR2008   \n",
       "3  Afghanistan          AFG  2009    YR2009   \n",
       "4  Afghanistan          AFG  2010    YR2010   \n",
       "\n",
       "  Population, female [SP.POP.TOTL.FE.IN] Population, male [SP.POP.TOTL.MA.IN]  \\\n",
       "0                               12809162                             13623896   \n",
       "1                               13161572                             13938970   \n",
       "2                               13496556                             14225725   \n",
       "3                               13850751                             14544055   \n",
       "4                               14249755                             14935756   \n",
       "\n",
       "  Population, total [SP.POP.TOTL]  \n",
       "0                        26433058  \n",
       "1                        27100542  \n",
       "2                        27722281  \n",
       "3                        28394806  \n",
       "4                        29185511  "
      ]
     },
     "execution_count": 9,
     "metadata": {},
     "output_type": "execute_result"
    }
   ],
   "source": [
    "pop_df.head()"
   ]
  },
  {
   "cell_type": "code",
   "execution_count": 10,
   "id": "c12a0980",
   "metadata": {},
   "outputs": [
    {
     "data": {
      "text/plain": [
       "(3990, 7)"
      ]
     },
     "execution_count": 10,
     "metadata": {},
     "output_type": "execute_result"
    }
   ],
   "source": [
    "# count rows & columns\n",
    "\n",
    "pop_df.shape"
   ]
  },
  {
   "cell_type": "code",
   "execution_count": 11,
   "id": "1d17ab64",
   "metadata": {},
   "outputs": [],
   "source": [
    "# import unemployment data set\n",
    "\n",
    "unemp_df = pd.read_csv(os.path.join(path, 'Original Data', 'Unemployment data.csv'), index_col = False)"
   ]
  },
  {
   "cell_type": "code",
   "execution_count": 12,
   "id": "e8533589",
   "metadata": {},
   "outputs": [
    {
     "data": {
      "text/html": [
       "<div>\n",
       "<style scoped>\n",
       "    .dataframe tbody tr th:only-of-type {\n",
       "        vertical-align: middle;\n",
       "    }\n",
       "\n",
       "    .dataframe tbody tr th {\n",
       "        vertical-align: top;\n",
       "    }\n",
       "\n",
       "    .dataframe thead th {\n",
       "        text-align: right;\n",
       "    }\n",
       "</style>\n",
       "<table border=\"1\" class=\"dataframe\">\n",
       "  <thead>\n",
       "    <tr style=\"text-align: right;\">\n",
       "      <th></th>\n",
       "      <th>Country Name</th>\n",
       "      <th>Country Code</th>\n",
       "      <th>Time</th>\n",
       "      <th>Time Code</th>\n",
       "      <th>Unemployment, total (% of total labor force) (modeled ILO estimate) [SL.UEM.TOTL.ZS]</th>\n",
       "    </tr>\n",
       "  </thead>\n",
       "  <tbody>\n",
       "    <tr>\n",
       "      <th>0</th>\n",
       "      <td>Afghanistan</td>\n",
       "      <td>AFG</td>\n",
       "      <td>2006</td>\n",
       "      <td>YR2006</td>\n",
       "      <td>11.34</td>\n",
       "    </tr>\n",
       "    <tr>\n",
       "      <th>1</th>\n",
       "      <td>Afghanistan</td>\n",
       "      <td>AFG</td>\n",
       "      <td>2007</td>\n",
       "      <td>YR2007</td>\n",
       "      <td>11.18</td>\n",
       "    </tr>\n",
       "    <tr>\n",
       "      <th>2</th>\n",
       "      <td>Afghanistan</td>\n",
       "      <td>AFG</td>\n",
       "      <td>2008</td>\n",
       "      <td>YR2008</td>\n",
       "      <td>11.11</td>\n",
       "    </tr>\n",
       "    <tr>\n",
       "      <th>3</th>\n",
       "      <td>Afghanistan</td>\n",
       "      <td>AFG</td>\n",
       "      <td>2009</td>\n",
       "      <td>YR2009</td>\n",
       "      <td>11.46</td>\n",
       "    </tr>\n",
       "    <tr>\n",
       "      <th>4</th>\n",
       "      <td>Afghanistan</td>\n",
       "      <td>AFG</td>\n",
       "      <td>2010</td>\n",
       "      <td>YR2010</td>\n",
       "      <td>11.52</td>\n",
       "    </tr>\n",
       "  </tbody>\n",
       "</table>\n",
       "</div>"
      ],
      "text/plain": [
       "  Country Name Country Code  Time Time Code  \\\n",
       "0  Afghanistan          AFG  2006    YR2006   \n",
       "1  Afghanistan          AFG  2007    YR2007   \n",
       "2  Afghanistan          AFG  2008    YR2008   \n",
       "3  Afghanistan          AFG  2009    YR2009   \n",
       "4  Afghanistan          AFG  2010    YR2010   \n",
       "\n",
       "  Unemployment, total (% of total labor force) (modeled ILO estimate) [SL.UEM.TOTL.ZS]  \n",
       "0                                              11.34                                    \n",
       "1                                              11.18                                    \n",
       "2                                              11.11                                    \n",
       "3                                              11.46                                    \n",
       "4                                              11.52                                    "
      ]
     },
     "execution_count": 12,
     "metadata": {},
     "output_type": "execute_result"
    }
   ],
   "source": [
    "unemp_df.head()"
   ]
  },
  {
   "cell_type": "raw",
   "id": "56e84282",
   "metadata": {},
   "source": [
    "# count rows & columns\n",
    "\n",
    "unemp_df.shape"
   ]
  },
  {
   "cell_type": "code",
   "execution_count": 13,
   "id": "8a72fc3f",
   "metadata": {},
   "outputs": [],
   "source": [
    "# import GDP data set\n",
    "\n",
    "gdp_df = pd.read_csv(os.path.join(path, 'Original Data', 'GDP data.csv'), index_col = False)"
   ]
  },
  {
   "cell_type": "code",
   "execution_count": 14,
   "id": "af5e5070",
   "metadata": {},
   "outputs": [
    {
     "data": {
      "text/html": [
       "<div>\n",
       "<style scoped>\n",
       "    .dataframe tbody tr th:only-of-type {\n",
       "        vertical-align: middle;\n",
       "    }\n",
       "\n",
       "    .dataframe tbody tr th {\n",
       "        vertical-align: top;\n",
       "    }\n",
       "\n",
       "    .dataframe thead th {\n",
       "        text-align: right;\n",
       "    }\n",
       "</style>\n",
       "<table border=\"1\" class=\"dataframe\">\n",
       "  <thead>\n",
       "    <tr style=\"text-align: right;\">\n",
       "      <th></th>\n",
       "      <th>Country Name</th>\n",
       "      <th>Country Code</th>\n",
       "      <th>Time</th>\n",
       "      <th>Time Code</th>\n",
       "      <th>GDP (current US$) [NY.GDP.MKTP.CD]</th>\n",
       "    </tr>\n",
       "  </thead>\n",
       "  <tbody>\n",
       "    <tr>\n",
       "      <th>0</th>\n",
       "      <td>Afghanistan</td>\n",
       "      <td>AFG</td>\n",
       "      <td>2011</td>\n",
       "      <td>YR2011</td>\n",
       "      <td>17805113118.89</td>\n",
       "    </tr>\n",
       "    <tr>\n",
       "      <th>1</th>\n",
       "      <td>Afghanistan</td>\n",
       "      <td>AFG</td>\n",
       "      <td>2012</td>\n",
       "      <td>YR2012</td>\n",
       "      <td>19907317065.67</td>\n",
       "    </tr>\n",
       "    <tr>\n",
       "      <th>2</th>\n",
       "      <td>Afghanistan</td>\n",
       "      <td>AFG</td>\n",
       "      <td>2013</td>\n",
       "      <td>YR2013</td>\n",
       "      <td>20146404996.22</td>\n",
       "    </tr>\n",
       "    <tr>\n",
       "      <th>3</th>\n",
       "      <td>Afghanistan</td>\n",
       "      <td>AFG</td>\n",
       "      <td>2014</td>\n",
       "      <td>YR2014</td>\n",
       "      <td>20497126770.13</td>\n",
       "    </tr>\n",
       "    <tr>\n",
       "      <th>4</th>\n",
       "      <td>Afghanistan</td>\n",
       "      <td>AFG</td>\n",
       "      <td>2015</td>\n",
       "      <td>YR2015</td>\n",
       "      <td>19134211763.86</td>\n",
       "    </tr>\n",
       "  </tbody>\n",
       "</table>\n",
       "</div>"
      ],
      "text/plain": [
       "  Country Name Country Code  Time Time Code GDP (current US$) [NY.GDP.MKTP.CD]\n",
       "0  Afghanistan          AFG  2011    YR2011                     17805113118.89\n",
       "1  Afghanistan          AFG  2012    YR2012                     19907317065.67\n",
       "2  Afghanistan          AFG  2013    YR2013                     20146404996.22\n",
       "3  Afghanistan          AFG  2014    YR2014                     20497126770.13\n",
       "4  Afghanistan          AFG  2015    YR2015                     19134211763.86"
      ]
     },
     "execution_count": 14,
     "metadata": {},
     "output_type": "execute_result"
    }
   ],
   "source": [
    "gdp_df.head()"
   ]
  },
  {
   "cell_type": "code",
   "execution_count": 15,
   "id": "9046ce69",
   "metadata": {},
   "outputs": [
    {
     "data": {
      "text/plain": [
       "(2660, 5)"
      ]
     },
     "execution_count": 15,
     "metadata": {},
     "output_type": "execute_result"
    }
   ],
   "source": [
    "# count rows & columns\n",
    "\n",
    "gdp_df.shape"
   ]
  },
  {
   "cell_type": "markdown",
   "id": "a796c9b4",
   "metadata": {},
   "source": [
    "# Data wrangling"
   ]
  },
  {
   "cell_type": "markdown",
   "id": "13bc3bb8",
   "metadata": {},
   "source": [
    "### Suicide dataframe (main df)"
   ]
  },
  {
   "cell_type": "code",
   "execution_count": 16,
   "id": "456c3253",
   "metadata": {},
   "outputs": [],
   "source": [
    "# rename columns to intuitive names\n",
    "\n",
    "suicide_df.rename(columns = {'ParentLocationCode' : 'Region Code', 'ParentLocation' : 'Region', 'SpatialDimValueCode' : 'Country Code', 'Location' : 'Country', 'Period' : 'Year', 'Dim1' : 'Sex', 'FactValueNumeric' : 'Suicide Rates per 100,000'}, inplace = True)"
   ]
  },
  {
   "cell_type": "code",
   "execution_count": 17,
   "id": "6df41709",
   "metadata": {},
   "outputs": [
    {
     "data": {
      "text/html": [
       "<div>\n",
       "<style scoped>\n",
       "    .dataframe tbody tr th:only-of-type {\n",
       "        vertical-align: middle;\n",
       "    }\n",
       "\n",
       "    .dataframe tbody tr th {\n",
       "        vertical-align: top;\n",
       "    }\n",
       "\n",
       "    .dataframe thead th {\n",
       "        text-align: right;\n",
       "    }\n",
       "</style>\n",
       "<table border=\"1\" class=\"dataframe\">\n",
       "  <thead>\n",
       "    <tr style=\"text-align: right;\">\n",
       "      <th></th>\n",
       "      <th>Region Code</th>\n",
       "      <th>Region</th>\n",
       "      <th>Country Code</th>\n",
       "      <th>Country</th>\n",
       "      <th>Year</th>\n",
       "      <th>Sex</th>\n",
       "      <th>Suicide Rates per 100,000</th>\n",
       "    </tr>\n",
       "  </thead>\n",
       "  <tbody>\n",
       "    <tr>\n",
       "      <th>0</th>\n",
       "      <td>AMR</td>\n",
       "      <td>Americas</td>\n",
       "      <td>ATG</td>\n",
       "      <td>Antigua and Barbuda</td>\n",
       "      <td>2019</td>\n",
       "      <td>Male</td>\n",
       "      <td>0.00</td>\n",
       "    </tr>\n",
       "    <tr>\n",
       "      <th>1</th>\n",
       "      <td>AMR</td>\n",
       "      <td>Americas</td>\n",
       "      <td>BRB</td>\n",
       "      <td>Barbados</td>\n",
       "      <td>2019</td>\n",
       "      <td>Female</td>\n",
       "      <td>0.16</td>\n",
       "    </tr>\n",
       "    <tr>\n",
       "      <th>2</th>\n",
       "      <td>AMR</td>\n",
       "      <td>Americas</td>\n",
       "      <td>BRB</td>\n",
       "      <td>Barbados</td>\n",
       "      <td>2019</td>\n",
       "      <td>Both sexes</td>\n",
       "      <td>0.31</td>\n",
       "    </tr>\n",
       "    <tr>\n",
       "      <th>3</th>\n",
       "      <td>AMR</td>\n",
       "      <td>Americas</td>\n",
       "      <td>ATG</td>\n",
       "      <td>Antigua and Barbuda</td>\n",
       "      <td>2019</td>\n",
       "      <td>Both sexes</td>\n",
       "      <td>0.32</td>\n",
       "    </tr>\n",
       "    <tr>\n",
       "      <th>4</th>\n",
       "      <td>AMR</td>\n",
       "      <td>Americas</td>\n",
       "      <td>BRB</td>\n",
       "      <td>Barbados</td>\n",
       "      <td>2019</td>\n",
       "      <td>Male</td>\n",
       "      <td>0.49</td>\n",
       "    </tr>\n",
       "  </tbody>\n",
       "</table>\n",
       "</div>"
      ],
      "text/plain": [
       "  Region Code    Region Country Code              Country  Year         Sex  \\\n",
       "0         AMR  Americas          ATG  Antigua and Barbuda  2019        Male   \n",
       "1         AMR  Americas          BRB             Barbados  2019      Female   \n",
       "2         AMR  Americas          BRB             Barbados  2019  Both sexes   \n",
       "3         AMR  Americas          ATG  Antigua and Barbuda  2019  Both sexes   \n",
       "4         AMR  Americas          BRB             Barbados  2019        Male   \n",
       "\n",
       "   Suicide Rates per 100,000  \n",
       "0                       0.00  \n",
       "1                       0.16  \n",
       "2                       0.31  \n",
       "3                       0.32  \n",
       "4                       0.49  "
      ]
     },
     "execution_count": 17,
     "metadata": {},
     "output_type": "execute_result"
    }
   ],
   "source": [
    "# confirm change\n",
    "\n",
    "suicide_df.head()"
   ]
  },
  {
   "cell_type": "code",
   "execution_count": 18,
   "id": "3def0a54",
   "metadata": {},
   "outputs": [
    {
     "data": {
      "text/plain": [
       "Region Code                   object\n",
       "Region                        object\n",
       "Country Code                  object\n",
       "Country                       object\n",
       "Year                           int64\n",
       "Sex                           object\n",
       "Suicide Rates per 100,000    float64\n",
       "dtype: object"
      ]
     },
     "execution_count": 18,
     "metadata": {},
     "output_type": "execute_result"
    }
   ],
   "source": [
    "# data type check\n",
    "\n",
    "suicide_df.dtypes"
   ]
  },
  {
   "cell_type": "code",
   "execution_count": 19,
   "id": "4447969e",
   "metadata": {},
   "outputs": [],
   "source": [
    "# changing data type of year column\n",
    "\n",
    "suicide_df['Year'] = suicide_df['Year'].astype('int16')"
   ]
  },
  {
   "cell_type": "code",
   "execution_count": 20,
   "id": "4a8510d2",
   "metadata": {},
   "outputs": [
    {
     "data": {
      "text/plain": [
       "Region Code                   object\n",
       "Region                        object\n",
       "Country Code                  object\n",
       "Country                       object\n",
       "Year                           int16\n",
       "Sex                           object\n",
       "Suicide Rates per 100,000    float64\n",
       "dtype: object"
      ]
     },
     "execution_count": 20,
     "metadata": {},
     "output_type": "execute_result"
    }
   ],
   "source": [
    "# data type check - confirmation\n",
    "\n",
    "suicide_df.dtypes"
   ]
  },
  {
   "cell_type": "markdown",
   "id": "c8dfd4f3",
   "metadata": {},
   "source": [
    "### Population dataframe"
   ]
  },
  {
   "cell_type": "code",
   "execution_count": 21,
   "id": "1328c7c2",
   "metadata": {},
   "outputs": [
    {
     "data": {
      "text/plain": [
       "Country Name                              0\n",
       "Country Code                              0\n",
       "Time                                      0\n",
       "Time Code                                 0\n",
       "Population, female [SP.POP.TOTL.FE.IN]    0\n",
       "Population, male [SP.POP.TOTL.MA.IN]      0\n",
       "Population, total [SP.POP.TOTL]           0\n",
       "dtype: int64"
      ]
     },
     "execution_count": 21,
     "metadata": {},
     "output_type": "execute_result"
    }
   ],
   "source": [
    "# checking for missing values in the dataframe\n",
    "\n",
    "pop_df.isnull().sum()"
   ]
  },
  {
   "cell_type": "code",
   "execution_count": 22,
   "id": "74c29ec8",
   "metadata": {},
   "outputs": [],
   "source": [
    "# rename columns to intuitive names and to match the suicide_df\n",
    "\n",
    "pop_df.rename(columns = {'Country Name' : 'Country', 'Time' : 'Year', 'Population, female [SP.POP.TOTL.FE.IN]' : 'Female Population', 'Population, male [SP.POP.TOTL.MA.IN]' : 'Male Population', 'Population, total [SP.POP.TOTL]' : 'Total Population'}, inplace = True)"
   ]
  },
  {
   "cell_type": "code",
   "execution_count": 23,
   "id": "e96b29de",
   "metadata": {},
   "outputs": [
    {
     "data": {
      "text/html": [
       "<div>\n",
       "<style scoped>\n",
       "    .dataframe tbody tr th:only-of-type {\n",
       "        vertical-align: middle;\n",
       "    }\n",
       "\n",
       "    .dataframe tbody tr th {\n",
       "        vertical-align: top;\n",
       "    }\n",
       "\n",
       "    .dataframe thead th {\n",
       "        text-align: right;\n",
       "    }\n",
       "</style>\n",
       "<table border=\"1\" class=\"dataframe\">\n",
       "  <thead>\n",
       "    <tr style=\"text-align: right;\">\n",
       "      <th></th>\n",
       "      <th>Country</th>\n",
       "      <th>Country Code</th>\n",
       "      <th>Year</th>\n",
       "      <th>Time Code</th>\n",
       "      <th>Female Population</th>\n",
       "      <th>Male Population</th>\n",
       "      <th>Total Population</th>\n",
       "    </tr>\n",
       "  </thead>\n",
       "  <tbody>\n",
       "    <tr>\n",
       "      <th>0</th>\n",
       "      <td>Afghanistan</td>\n",
       "      <td>AFG</td>\n",
       "      <td>2006</td>\n",
       "      <td>YR2006</td>\n",
       "      <td>12809162</td>\n",
       "      <td>13623896</td>\n",
       "      <td>26433058</td>\n",
       "    </tr>\n",
       "    <tr>\n",
       "      <th>1</th>\n",
       "      <td>Afghanistan</td>\n",
       "      <td>AFG</td>\n",
       "      <td>2007</td>\n",
       "      <td>YR2007</td>\n",
       "      <td>13161572</td>\n",
       "      <td>13938970</td>\n",
       "      <td>27100542</td>\n",
       "    </tr>\n",
       "    <tr>\n",
       "      <th>2</th>\n",
       "      <td>Afghanistan</td>\n",
       "      <td>AFG</td>\n",
       "      <td>2008</td>\n",
       "      <td>YR2008</td>\n",
       "      <td>13496556</td>\n",
       "      <td>14225725</td>\n",
       "      <td>27722281</td>\n",
       "    </tr>\n",
       "    <tr>\n",
       "      <th>3</th>\n",
       "      <td>Afghanistan</td>\n",
       "      <td>AFG</td>\n",
       "      <td>2009</td>\n",
       "      <td>YR2009</td>\n",
       "      <td>13850751</td>\n",
       "      <td>14544055</td>\n",
       "      <td>28394806</td>\n",
       "    </tr>\n",
       "    <tr>\n",
       "      <th>4</th>\n",
       "      <td>Afghanistan</td>\n",
       "      <td>AFG</td>\n",
       "      <td>2010</td>\n",
       "      <td>YR2010</td>\n",
       "      <td>14249755</td>\n",
       "      <td>14935756</td>\n",
       "      <td>29185511</td>\n",
       "    </tr>\n",
       "  </tbody>\n",
       "</table>\n",
       "</div>"
      ],
      "text/plain": [
       "       Country Country Code  Year Time Code Female Population Male Population  \\\n",
       "0  Afghanistan          AFG  2006    YR2006          12809162        13623896   \n",
       "1  Afghanistan          AFG  2007    YR2007          13161572        13938970   \n",
       "2  Afghanistan          AFG  2008    YR2008          13496556        14225725   \n",
       "3  Afghanistan          AFG  2009    YR2009          13850751        14544055   \n",
       "4  Afghanistan          AFG  2010    YR2010          14249755        14935756   \n",
       "\n",
       "  Total Population  \n",
       "0         26433058  \n",
       "1         27100542  \n",
       "2         27722281  \n",
       "3         28394806  \n",
       "4         29185511  "
      ]
     },
     "execution_count": 23,
     "metadata": {},
     "output_type": "execute_result"
    }
   ],
   "source": [
    "# confirm change\n",
    "\n",
    "pop_df.head()"
   ]
  },
  {
   "cell_type": "code",
   "execution_count": 24,
   "id": "ff3dd82a",
   "metadata": {},
   "outputs": [],
   "source": [
    "# drop 'Time Code' column as unncessary for analysis\n",
    "\n",
    "pop_df.drop(columns = ['Time Code'], inplace = True)"
   ]
  },
  {
   "cell_type": "code",
   "execution_count": 25,
   "id": "5a85ef5f",
   "metadata": {},
   "outputs": [
    {
     "data": {
      "text/html": [
       "<div>\n",
       "<style scoped>\n",
       "    .dataframe tbody tr th:only-of-type {\n",
       "        vertical-align: middle;\n",
       "    }\n",
       "\n",
       "    .dataframe tbody tr th {\n",
       "        vertical-align: top;\n",
       "    }\n",
       "\n",
       "    .dataframe thead th {\n",
       "        text-align: right;\n",
       "    }\n",
       "</style>\n",
       "<table border=\"1\" class=\"dataframe\">\n",
       "  <thead>\n",
       "    <tr style=\"text-align: right;\">\n",
       "      <th></th>\n",
       "      <th>Country</th>\n",
       "      <th>Country Code</th>\n",
       "      <th>Year</th>\n",
       "      <th>Female Population</th>\n",
       "      <th>Male Population</th>\n",
       "      <th>Total Population</th>\n",
       "    </tr>\n",
       "  </thead>\n",
       "  <tbody>\n",
       "    <tr>\n",
       "      <th>0</th>\n",
       "      <td>Afghanistan</td>\n",
       "      <td>AFG</td>\n",
       "      <td>2006</td>\n",
       "      <td>12809162</td>\n",
       "      <td>13623896</td>\n",
       "      <td>26433058</td>\n",
       "    </tr>\n",
       "    <tr>\n",
       "      <th>1</th>\n",
       "      <td>Afghanistan</td>\n",
       "      <td>AFG</td>\n",
       "      <td>2007</td>\n",
       "      <td>13161572</td>\n",
       "      <td>13938970</td>\n",
       "      <td>27100542</td>\n",
       "    </tr>\n",
       "    <tr>\n",
       "      <th>2</th>\n",
       "      <td>Afghanistan</td>\n",
       "      <td>AFG</td>\n",
       "      <td>2008</td>\n",
       "      <td>13496556</td>\n",
       "      <td>14225725</td>\n",
       "      <td>27722281</td>\n",
       "    </tr>\n",
       "    <tr>\n",
       "      <th>3</th>\n",
       "      <td>Afghanistan</td>\n",
       "      <td>AFG</td>\n",
       "      <td>2009</td>\n",
       "      <td>13850751</td>\n",
       "      <td>14544055</td>\n",
       "      <td>28394806</td>\n",
       "    </tr>\n",
       "    <tr>\n",
       "      <th>4</th>\n",
       "      <td>Afghanistan</td>\n",
       "      <td>AFG</td>\n",
       "      <td>2010</td>\n",
       "      <td>14249755</td>\n",
       "      <td>14935756</td>\n",
       "      <td>29185511</td>\n",
       "    </tr>\n",
       "  </tbody>\n",
       "</table>\n",
       "</div>"
      ],
      "text/plain": [
       "       Country Country Code  Year Female Population Male Population  \\\n",
       "0  Afghanistan          AFG  2006          12809162        13623896   \n",
       "1  Afghanistan          AFG  2007          13161572        13938970   \n",
       "2  Afghanistan          AFG  2008          13496556        14225725   \n",
       "3  Afghanistan          AFG  2009          13850751        14544055   \n",
       "4  Afghanistan          AFG  2010          14249755        14935756   \n",
       "\n",
       "  Total Population  \n",
       "0         26433058  \n",
       "1         27100542  \n",
       "2         27722281  \n",
       "3         28394806  \n",
       "4         29185511  "
      ]
     },
     "execution_count": 25,
     "metadata": {},
     "output_type": "execute_result"
    }
   ],
   "source": [
    "# confirm change\n",
    "\n",
    "pop_df.head()"
   ]
  },
  {
   "cell_type": "code",
   "execution_count": 26,
   "id": "d3776007",
   "metadata": {},
   "outputs": [
    {
     "data": {
      "text/plain": [
       "Country              object\n",
       "Country Code         object\n",
       "Year                  int64\n",
       "Female Population    object\n",
       "Male Population      object\n",
       "Total Population     object\n",
       "dtype: object"
      ]
     },
     "execution_count": 26,
     "metadata": {},
     "output_type": "execute_result"
    }
   ],
   "source": [
    "# data type check\n",
    "\n",
    "pop_df.dtypes"
   ]
  },
  {
   "cell_type": "code",
   "execution_count": 27,
   "id": "6ec45045",
   "metadata": {},
   "outputs": [],
   "source": [
    "# changing data type of year column\n",
    "\n",
    "pop_df['Year'] = pop_df['Year'].astype('int16')"
   ]
  },
  {
   "cell_type": "code",
   "execution_count": 28,
   "id": "44852656",
   "metadata": {},
   "outputs": [],
   "source": [
    "# getting this error when trying to change the population columns into integers: invalid literal for int() with base 10: '..'\n",
    "# need to find the '..' values within each column and change to 0 or remove from the database"
   ]
  },
  {
   "cell_type": "code",
   "execution_count": 29,
   "id": "80a537df",
   "metadata": {},
   "outputs": [
    {
     "data": {
      "text/html": [
       "<div>\n",
       "<style scoped>\n",
       "    .dataframe tbody tr th:only-of-type {\n",
       "        vertical-align: middle;\n",
       "    }\n",
       "\n",
       "    .dataframe tbody tr th {\n",
       "        vertical-align: top;\n",
       "    }\n",
       "\n",
       "    .dataframe thead th {\n",
       "        text-align: right;\n",
       "    }\n",
       "</style>\n",
       "<table border=\"1\" class=\"dataframe\">\n",
       "  <thead>\n",
       "    <tr style=\"text-align: right;\">\n",
       "      <th></th>\n",
       "      <th>Country</th>\n",
       "      <th>Country Code</th>\n",
       "      <th>Year</th>\n",
       "      <th>Female Population</th>\n",
       "      <th>Male Population</th>\n",
       "      <th>Total Population</th>\n",
       "    </tr>\n",
       "  </thead>\n",
       "  <tbody>\n",
       "    <tr>\n",
       "      <th>45</th>\n",
       "      <td>American Samoa</td>\n",
       "      <td>ASM</td>\n",
       "      <td>2006</td>\n",
       "      <td>..</td>\n",
       "      <td>..</td>\n",
       "      <td>59109</td>\n",
       "    </tr>\n",
       "    <tr>\n",
       "      <th>46</th>\n",
       "      <td>American Samoa</td>\n",
       "      <td>ASM</td>\n",
       "      <td>2007</td>\n",
       "      <td>..</td>\n",
       "      <td>..</td>\n",
       "      <td>58367</td>\n",
       "    </tr>\n",
       "    <tr>\n",
       "      <th>47</th>\n",
       "      <td>American Samoa</td>\n",
       "      <td>ASM</td>\n",
       "      <td>2008</td>\n",
       "      <td>..</td>\n",
       "      <td>..</td>\n",
       "      <td>57490</td>\n",
       "    </tr>\n",
       "    <tr>\n",
       "      <th>48</th>\n",
       "      <td>American Samoa</td>\n",
       "      <td>ASM</td>\n",
       "      <td>2009</td>\n",
       "      <td>..</td>\n",
       "      <td>..</td>\n",
       "      <td>56675</td>\n",
       "    </tr>\n",
       "    <tr>\n",
       "      <th>49</th>\n",
       "      <td>American Samoa</td>\n",
       "      <td>ASM</td>\n",
       "      <td>2010</td>\n",
       "      <td>..</td>\n",
       "      <td>..</td>\n",
       "      <td>56084</td>\n",
       "    </tr>\n",
       "    <tr>\n",
       "      <th>...</th>\n",
       "      <td>...</td>\n",
       "      <td>...</td>\n",
       "      <td>...</td>\n",
       "      <td>...</td>\n",
       "      <td>...</td>\n",
       "      <td>...</td>\n",
       "    </tr>\n",
       "    <tr>\n",
       "      <th>3790</th>\n",
       "      <td>Not classified</td>\n",
       "      <td>INX</td>\n",
       "      <td>2016</td>\n",
       "      <td>..</td>\n",
       "      <td>..</td>\n",
       "      <td>..</td>\n",
       "    </tr>\n",
       "    <tr>\n",
       "      <th>3791</th>\n",
       "      <td>Not classified</td>\n",
       "      <td>INX</td>\n",
       "      <td>2017</td>\n",
       "      <td>..</td>\n",
       "      <td>..</td>\n",
       "      <td>..</td>\n",
       "    </tr>\n",
       "    <tr>\n",
       "      <th>3792</th>\n",
       "      <td>Not classified</td>\n",
       "      <td>INX</td>\n",
       "      <td>2018</td>\n",
       "      <td>..</td>\n",
       "      <td>..</td>\n",
       "      <td>..</td>\n",
       "    </tr>\n",
       "    <tr>\n",
       "      <th>3793</th>\n",
       "      <td>Not classified</td>\n",
       "      <td>INX</td>\n",
       "      <td>2019</td>\n",
       "      <td>..</td>\n",
       "      <td>..</td>\n",
       "      <td>..</td>\n",
       "    </tr>\n",
       "    <tr>\n",
       "      <th>3794</th>\n",
       "      <td>Not classified</td>\n",
       "      <td>INX</td>\n",
       "      <td>2020</td>\n",
       "      <td>..</td>\n",
       "      <td>..</td>\n",
       "      <td>..</td>\n",
       "    </tr>\n",
       "  </tbody>\n",
       "</table>\n",
       "<p>369 rows × 6 columns</p>\n",
       "</div>"
      ],
      "text/plain": [
       "             Country Country Code  Year Female Population Male Population  \\\n",
       "45    American Samoa          ASM  2006                ..              ..   \n",
       "46    American Samoa          ASM  2007                ..              ..   \n",
       "47    American Samoa          ASM  2008                ..              ..   \n",
       "48    American Samoa          ASM  2009                ..              ..   \n",
       "49    American Samoa          ASM  2010                ..              ..   \n",
       "...              ...          ...   ...               ...             ...   \n",
       "3790  Not classified          INX  2016                ..              ..   \n",
       "3791  Not classified          INX  2017                ..              ..   \n",
       "3792  Not classified          INX  2018                ..              ..   \n",
       "3793  Not classified          INX  2019                ..              ..   \n",
       "3794  Not classified          INX  2020                ..              ..   \n",
       "\n",
       "     Total Population  \n",
       "45              59109  \n",
       "46              58367  \n",
       "47              57490  \n",
       "48              56675  \n",
       "49              56084  \n",
       "...               ...  \n",
       "3790               ..  \n",
       "3791               ..  \n",
       "3792               ..  \n",
       "3793               ..  \n",
       "3794               ..  \n",
       "\n",
       "[369 rows x 6 columns]"
      ]
     },
     "execution_count": 29,
     "metadata": {},
     "output_type": "execute_result"
    }
   ],
   "source": [
    "# Find out how many records in the 'Female Population' column have '..'\n",
    "\n",
    "pop_df.loc[pop_df['Female Population'] == '..']"
   ]
  },
  {
   "cell_type": "code",
   "execution_count": 30,
   "id": "b2c9a026",
   "metadata": {},
   "outputs": [],
   "source": [
    "# As there are 369 obervations with '..', which affects 41 countries (369/9 observations each), I will merge all df's before deciding what to do with these records \n",
    "# This will allow me to see if there are countries with complete or partial missing information across all df's, and allow me to make a more informaed decision"
   ]
  },
  {
   "cell_type": "code",
   "execution_count": 31,
   "id": "9f33fe66",
   "metadata": {},
   "outputs": [
    {
     "data": {
      "text/plain": [
       "Country              object\n",
       "Country Code         object\n",
       "Year                  int16\n",
       "Female Population    object\n",
       "Male Population      object\n",
       "Total Population     object\n",
       "dtype: object"
      ]
     },
     "execution_count": 31,
     "metadata": {},
     "output_type": "execute_result"
    }
   ],
   "source": [
    "# data type check - confirmation\n",
    "\n",
    "pop_df.dtypes"
   ]
  },
  {
   "cell_type": "markdown",
   "id": "f0a9f622",
   "metadata": {},
   "source": [
    "### Unemployment dataframe"
   ]
  },
  {
   "cell_type": "code",
   "execution_count": 32,
   "id": "9abc5521",
   "metadata": {},
   "outputs": [
    {
     "data": {
      "text/plain": [
       "Country Name                                                                            0\n",
       "Country Code                                                                            0\n",
       "Time                                                                                    0\n",
       "Time Code                                                                               0\n",
       "Unemployment, total (% of total labor force) (modeled ILO estimate) [SL.UEM.TOTL.ZS]    0\n",
       "dtype: int64"
      ]
     },
     "execution_count": 32,
     "metadata": {},
     "output_type": "execute_result"
    }
   ],
   "source": [
    "# checking for missing values in the dataframe\n",
    "\n",
    "unemp_df.isnull().sum()"
   ]
  },
  {
   "cell_type": "code",
   "execution_count": 33,
   "id": "960ff3e2",
   "metadata": {},
   "outputs": [],
   "source": [
    "# rename columns to intuitive names and to match the suicide_df\n",
    "\n",
    "unemp_df.rename(columns = {'Country Name' : 'Country', 'Time' : 'Year', 'Unemployment, total (% of total labor force) (modeled ILO estimate) [SL.UEM.TOTL.ZS]' : 'Unemployment Percentage'}, inplace = True)"
   ]
  },
  {
   "cell_type": "code",
   "execution_count": 34,
   "id": "05d8293b",
   "metadata": {},
   "outputs": [
    {
     "data": {
      "text/html": [
       "<div>\n",
       "<style scoped>\n",
       "    .dataframe tbody tr th:only-of-type {\n",
       "        vertical-align: middle;\n",
       "    }\n",
       "\n",
       "    .dataframe tbody tr th {\n",
       "        vertical-align: top;\n",
       "    }\n",
       "\n",
       "    .dataframe thead th {\n",
       "        text-align: right;\n",
       "    }\n",
       "</style>\n",
       "<table border=\"1\" class=\"dataframe\">\n",
       "  <thead>\n",
       "    <tr style=\"text-align: right;\">\n",
       "      <th></th>\n",
       "      <th>Country</th>\n",
       "      <th>Country Code</th>\n",
       "      <th>Year</th>\n",
       "      <th>Time Code</th>\n",
       "      <th>Unemployment Percentage</th>\n",
       "    </tr>\n",
       "  </thead>\n",
       "  <tbody>\n",
       "    <tr>\n",
       "      <th>0</th>\n",
       "      <td>Afghanistan</td>\n",
       "      <td>AFG</td>\n",
       "      <td>2006</td>\n",
       "      <td>YR2006</td>\n",
       "      <td>11.34</td>\n",
       "    </tr>\n",
       "    <tr>\n",
       "      <th>1</th>\n",
       "      <td>Afghanistan</td>\n",
       "      <td>AFG</td>\n",
       "      <td>2007</td>\n",
       "      <td>YR2007</td>\n",
       "      <td>11.18</td>\n",
       "    </tr>\n",
       "    <tr>\n",
       "      <th>2</th>\n",
       "      <td>Afghanistan</td>\n",
       "      <td>AFG</td>\n",
       "      <td>2008</td>\n",
       "      <td>YR2008</td>\n",
       "      <td>11.11</td>\n",
       "    </tr>\n",
       "    <tr>\n",
       "      <th>3</th>\n",
       "      <td>Afghanistan</td>\n",
       "      <td>AFG</td>\n",
       "      <td>2009</td>\n",
       "      <td>YR2009</td>\n",
       "      <td>11.46</td>\n",
       "    </tr>\n",
       "    <tr>\n",
       "      <th>4</th>\n",
       "      <td>Afghanistan</td>\n",
       "      <td>AFG</td>\n",
       "      <td>2010</td>\n",
       "      <td>YR2010</td>\n",
       "      <td>11.52</td>\n",
       "    </tr>\n",
       "  </tbody>\n",
       "</table>\n",
       "</div>"
      ],
      "text/plain": [
       "       Country Country Code  Year Time Code Unemployment Percentage\n",
       "0  Afghanistan          AFG  2006    YR2006                   11.34\n",
       "1  Afghanistan          AFG  2007    YR2007                   11.18\n",
       "2  Afghanistan          AFG  2008    YR2008                   11.11\n",
       "3  Afghanistan          AFG  2009    YR2009                   11.46\n",
       "4  Afghanistan          AFG  2010    YR2010                   11.52"
      ]
     },
     "execution_count": 34,
     "metadata": {},
     "output_type": "execute_result"
    }
   ],
   "source": [
    "# confirm changes\n",
    "\n",
    "unemp_df.head()"
   ]
  },
  {
   "cell_type": "code",
   "execution_count": 35,
   "id": "cfb350d4",
   "metadata": {},
   "outputs": [],
   "source": [
    "# drop 'Time Code' column as unncessary for analysis\n",
    "\n",
    "unemp_df.drop(columns = ['Time Code'], inplace = True)"
   ]
  },
  {
   "cell_type": "code",
   "execution_count": 36,
   "id": "8e604a83",
   "metadata": {},
   "outputs": [
    {
     "data": {
      "text/html": [
       "<div>\n",
       "<style scoped>\n",
       "    .dataframe tbody tr th:only-of-type {\n",
       "        vertical-align: middle;\n",
       "    }\n",
       "\n",
       "    .dataframe tbody tr th {\n",
       "        vertical-align: top;\n",
       "    }\n",
       "\n",
       "    .dataframe thead th {\n",
       "        text-align: right;\n",
       "    }\n",
       "</style>\n",
       "<table border=\"1\" class=\"dataframe\">\n",
       "  <thead>\n",
       "    <tr style=\"text-align: right;\">\n",
       "      <th></th>\n",
       "      <th>Country</th>\n",
       "      <th>Country Code</th>\n",
       "      <th>Year</th>\n",
       "      <th>Unemployment Percentage</th>\n",
       "    </tr>\n",
       "  </thead>\n",
       "  <tbody>\n",
       "    <tr>\n",
       "      <th>0</th>\n",
       "      <td>Afghanistan</td>\n",
       "      <td>AFG</td>\n",
       "      <td>2006</td>\n",
       "      <td>11.34</td>\n",
       "    </tr>\n",
       "    <tr>\n",
       "      <th>1</th>\n",
       "      <td>Afghanistan</td>\n",
       "      <td>AFG</td>\n",
       "      <td>2007</td>\n",
       "      <td>11.18</td>\n",
       "    </tr>\n",
       "    <tr>\n",
       "      <th>2</th>\n",
       "      <td>Afghanistan</td>\n",
       "      <td>AFG</td>\n",
       "      <td>2008</td>\n",
       "      <td>11.11</td>\n",
       "    </tr>\n",
       "    <tr>\n",
       "      <th>3</th>\n",
       "      <td>Afghanistan</td>\n",
       "      <td>AFG</td>\n",
       "      <td>2009</td>\n",
       "      <td>11.46</td>\n",
       "    </tr>\n",
       "    <tr>\n",
       "      <th>4</th>\n",
       "      <td>Afghanistan</td>\n",
       "      <td>AFG</td>\n",
       "      <td>2010</td>\n",
       "      <td>11.52</td>\n",
       "    </tr>\n",
       "  </tbody>\n",
       "</table>\n",
       "</div>"
      ],
      "text/plain": [
       "       Country Country Code  Year Unemployment Percentage\n",
       "0  Afghanistan          AFG  2006                   11.34\n",
       "1  Afghanistan          AFG  2007                   11.18\n",
       "2  Afghanistan          AFG  2008                   11.11\n",
       "3  Afghanistan          AFG  2009                   11.46\n",
       "4  Afghanistan          AFG  2010                   11.52"
      ]
     },
     "execution_count": 36,
     "metadata": {},
     "output_type": "execute_result"
    }
   ],
   "source": [
    "# confirm changes\n",
    "\n",
    "unemp_df.head()"
   ]
  },
  {
   "cell_type": "code",
   "execution_count": 37,
   "id": "76fccf49",
   "metadata": {},
   "outputs": [
    {
     "data": {
      "text/plain": [
       "Country                    object\n",
       "Country Code               object\n",
       "Year                        int64\n",
       "Unemployment Percentage    object\n",
       "dtype: object"
      ]
     },
     "execution_count": 37,
     "metadata": {},
     "output_type": "execute_result"
    }
   ],
   "source": [
    "# data type check\n",
    "\n",
    "unemp_df.dtypes"
   ]
  },
  {
   "cell_type": "code",
   "execution_count": 38,
   "id": "f512f328",
   "metadata": {},
   "outputs": [],
   "source": [
    "# changing data type of year column\n",
    "\n",
    "unemp_df['Year'] = unemp_df['Year'].astype('int16')"
   ]
  },
  {
   "cell_type": "code",
   "execution_count": 39,
   "id": "17a745de",
   "metadata": {},
   "outputs": [
    {
     "data": {
      "text/plain": [
       "Country                    object\n",
       "Country Code               object\n",
       "Year                        int16\n",
       "Unemployment Percentage    object\n",
       "dtype: object"
      ]
     },
     "execution_count": 39,
     "metadata": {},
     "output_type": "execute_result"
    }
   ],
   "source": [
    "# data type check - confirmation\n",
    "\n",
    "unemp_df.dtypes"
   ]
  },
  {
   "cell_type": "markdown",
   "id": "bd8f5f84",
   "metadata": {},
   "source": [
    "### GDP dataframe"
   ]
  },
  {
   "cell_type": "code",
   "execution_count": 40,
   "id": "16a35d1f",
   "metadata": {},
   "outputs": [
    {
     "data": {
      "text/plain": [
       "Country Name                          0\n",
       "Country Code                          0\n",
       "Time                                  0\n",
       "Time Code                             0\n",
       "GDP (current US$) [NY.GDP.MKTP.CD]    0\n",
       "dtype: int64"
      ]
     },
     "execution_count": 40,
     "metadata": {},
     "output_type": "execute_result"
    }
   ],
   "source": [
    "# checking for missing values in the dataframe\n",
    "\n",
    "gdp_df.isnull().sum()"
   ]
  },
  {
   "cell_type": "code",
   "execution_count": 41,
   "id": "4e34e064",
   "metadata": {},
   "outputs": [],
   "source": [
    "# rename columns to intuitive names and to match the suicide_df\n",
    "\n",
    "gdp_df.rename(columns = {'Country Name' : 'Country', 'Time' : 'Year', 'GDP (current US$) [NY.GDP.MKTP.CD]' : 'GDP (Current US$)'}, inplace = True)"
   ]
  },
  {
   "cell_type": "code",
   "execution_count": 42,
   "id": "94c39ba5",
   "metadata": {},
   "outputs": [
    {
     "data": {
      "text/html": [
       "<div>\n",
       "<style scoped>\n",
       "    .dataframe tbody tr th:only-of-type {\n",
       "        vertical-align: middle;\n",
       "    }\n",
       "\n",
       "    .dataframe tbody tr th {\n",
       "        vertical-align: top;\n",
       "    }\n",
       "\n",
       "    .dataframe thead th {\n",
       "        text-align: right;\n",
       "    }\n",
       "</style>\n",
       "<table border=\"1\" class=\"dataframe\">\n",
       "  <thead>\n",
       "    <tr style=\"text-align: right;\">\n",
       "      <th></th>\n",
       "      <th>Country</th>\n",
       "      <th>Country Code</th>\n",
       "      <th>Year</th>\n",
       "      <th>Time Code</th>\n",
       "      <th>GDP (Current US$)</th>\n",
       "    </tr>\n",
       "  </thead>\n",
       "  <tbody>\n",
       "    <tr>\n",
       "      <th>0</th>\n",
       "      <td>Afghanistan</td>\n",
       "      <td>AFG</td>\n",
       "      <td>2011</td>\n",
       "      <td>YR2011</td>\n",
       "      <td>17805113118.89</td>\n",
       "    </tr>\n",
       "    <tr>\n",
       "      <th>1</th>\n",
       "      <td>Afghanistan</td>\n",
       "      <td>AFG</td>\n",
       "      <td>2012</td>\n",
       "      <td>YR2012</td>\n",
       "      <td>19907317065.67</td>\n",
       "    </tr>\n",
       "    <tr>\n",
       "      <th>2</th>\n",
       "      <td>Afghanistan</td>\n",
       "      <td>AFG</td>\n",
       "      <td>2013</td>\n",
       "      <td>YR2013</td>\n",
       "      <td>20146404996.22</td>\n",
       "    </tr>\n",
       "    <tr>\n",
       "      <th>3</th>\n",
       "      <td>Afghanistan</td>\n",
       "      <td>AFG</td>\n",
       "      <td>2014</td>\n",
       "      <td>YR2014</td>\n",
       "      <td>20497126770.13</td>\n",
       "    </tr>\n",
       "    <tr>\n",
       "      <th>4</th>\n",
       "      <td>Afghanistan</td>\n",
       "      <td>AFG</td>\n",
       "      <td>2015</td>\n",
       "      <td>YR2015</td>\n",
       "      <td>19134211763.86</td>\n",
       "    </tr>\n",
       "  </tbody>\n",
       "</table>\n",
       "</div>"
      ],
      "text/plain": [
       "       Country Country Code  Year Time Code GDP (Current US$)\n",
       "0  Afghanistan          AFG  2011    YR2011    17805113118.89\n",
       "1  Afghanistan          AFG  2012    YR2012    19907317065.67\n",
       "2  Afghanistan          AFG  2013    YR2013    20146404996.22\n",
       "3  Afghanistan          AFG  2014    YR2014    20497126770.13\n",
       "4  Afghanistan          AFG  2015    YR2015    19134211763.86"
      ]
     },
     "execution_count": 42,
     "metadata": {},
     "output_type": "execute_result"
    }
   ],
   "source": [
    "# confirm changes\n",
    "\n",
    "gdp_df.head()"
   ]
  },
  {
   "cell_type": "code",
   "execution_count": 43,
   "id": "0ddeefdd",
   "metadata": {},
   "outputs": [],
   "source": [
    "# drop 'Time Code' column as unncessary for analysis\n",
    "\n",
    "gdp_df.drop(columns = ['Time Code'], inplace = True)"
   ]
  },
  {
   "cell_type": "code",
   "execution_count": 44,
   "id": "aebc719b",
   "metadata": {},
   "outputs": [
    {
     "data": {
      "text/html": [
       "<div>\n",
       "<style scoped>\n",
       "    .dataframe tbody tr th:only-of-type {\n",
       "        vertical-align: middle;\n",
       "    }\n",
       "\n",
       "    .dataframe tbody tr th {\n",
       "        vertical-align: top;\n",
       "    }\n",
       "\n",
       "    .dataframe thead th {\n",
       "        text-align: right;\n",
       "    }\n",
       "</style>\n",
       "<table border=\"1\" class=\"dataframe\">\n",
       "  <thead>\n",
       "    <tr style=\"text-align: right;\">\n",
       "      <th></th>\n",
       "      <th>Country</th>\n",
       "      <th>Country Code</th>\n",
       "      <th>Year</th>\n",
       "      <th>GDP (Current US$)</th>\n",
       "    </tr>\n",
       "  </thead>\n",
       "  <tbody>\n",
       "    <tr>\n",
       "      <th>0</th>\n",
       "      <td>Afghanistan</td>\n",
       "      <td>AFG</td>\n",
       "      <td>2011</td>\n",
       "      <td>17805113118.89</td>\n",
       "    </tr>\n",
       "    <tr>\n",
       "      <th>1</th>\n",
       "      <td>Afghanistan</td>\n",
       "      <td>AFG</td>\n",
       "      <td>2012</td>\n",
       "      <td>19907317065.67</td>\n",
       "    </tr>\n",
       "    <tr>\n",
       "      <th>2</th>\n",
       "      <td>Afghanistan</td>\n",
       "      <td>AFG</td>\n",
       "      <td>2013</td>\n",
       "      <td>20146404996.22</td>\n",
       "    </tr>\n",
       "    <tr>\n",
       "      <th>3</th>\n",
       "      <td>Afghanistan</td>\n",
       "      <td>AFG</td>\n",
       "      <td>2014</td>\n",
       "      <td>20497126770.13</td>\n",
       "    </tr>\n",
       "    <tr>\n",
       "      <th>4</th>\n",
       "      <td>Afghanistan</td>\n",
       "      <td>AFG</td>\n",
       "      <td>2015</td>\n",
       "      <td>19134211763.86</td>\n",
       "    </tr>\n",
       "  </tbody>\n",
       "</table>\n",
       "</div>"
      ],
      "text/plain": [
       "       Country Country Code  Year GDP (Current US$)\n",
       "0  Afghanistan          AFG  2011    17805113118.89\n",
       "1  Afghanistan          AFG  2012    19907317065.67\n",
       "2  Afghanistan          AFG  2013    20146404996.22\n",
       "3  Afghanistan          AFG  2014    20497126770.13\n",
       "4  Afghanistan          AFG  2015    19134211763.86"
      ]
     },
     "execution_count": 44,
     "metadata": {},
     "output_type": "execute_result"
    }
   ],
   "source": [
    "# confirm changes\n",
    "\n",
    "gdp_df.head()"
   ]
  },
  {
   "cell_type": "code",
   "execution_count": 45,
   "id": "7a1fb3da",
   "metadata": {},
   "outputs": [
    {
     "data": {
      "text/plain": [
       "Country              object\n",
       "Country Code         object\n",
       "Year                  int64\n",
       "GDP (Current US$)    object\n",
       "dtype: object"
      ]
     },
     "execution_count": 45,
     "metadata": {},
     "output_type": "execute_result"
    }
   ],
   "source": [
    "# data type check\n",
    "\n",
    "gdp_df.dtypes"
   ]
  },
  {
   "cell_type": "markdown",
   "id": "20698d4f",
   "metadata": {},
   "source": [
    "# Consistency checks"
   ]
  },
  {
   "cell_type": "markdown",
   "id": "18ec246a",
   "metadata": {},
   "source": [
    "### Suicide dataframe"
   ]
  },
  {
   "cell_type": "code",
   "execution_count": 46,
   "id": "42f754bf",
   "metadata": {},
   "outputs": [
    {
     "data": {
      "text/html": [
       "<div>\n",
       "<style scoped>\n",
       "    .dataframe tbody tr th:only-of-type {\n",
       "        vertical-align: middle;\n",
       "    }\n",
       "\n",
       "    .dataframe tbody tr th {\n",
       "        vertical-align: top;\n",
       "    }\n",
       "\n",
       "    .dataframe thead th {\n",
       "        text-align: right;\n",
       "    }\n",
       "</style>\n",
       "<table border=\"1\" class=\"dataframe\">\n",
       "  <thead>\n",
       "    <tr style=\"text-align: right;\">\n",
       "      <th></th>\n",
       "      <th>Year</th>\n",
       "      <th>Suicide Rates per 100,000</th>\n",
       "    </tr>\n",
       "  </thead>\n",
       "  <tbody>\n",
       "    <tr>\n",
       "      <th>count</th>\n",
       "      <td>10980.000000</td>\n",
       "      <td>10980.000000</td>\n",
       "    </tr>\n",
       "    <tr>\n",
       "      <th>mean</th>\n",
       "      <td>2009.500000</td>\n",
       "      <td>11.960951</td>\n",
       "    </tr>\n",
       "    <tr>\n",
       "      <th>std</th>\n",
       "      <td>5.766544</td>\n",
       "      <td>12.812487</td>\n",
       "    </tr>\n",
       "    <tr>\n",
       "      <th>min</th>\n",
       "      <td>2000.000000</td>\n",
       "      <td>0.000000</td>\n",
       "    </tr>\n",
       "    <tr>\n",
       "      <th>25%</th>\n",
       "      <td>2004.750000</td>\n",
       "      <td>4.630000</td>\n",
       "    </tr>\n",
       "    <tr>\n",
       "      <th>50%</th>\n",
       "      <td>2009.500000</td>\n",
       "      <td>8.270000</td>\n",
       "    </tr>\n",
       "    <tr>\n",
       "      <th>75%</th>\n",
       "      <td>2014.250000</td>\n",
       "      <td>14.940000</td>\n",
       "    </tr>\n",
       "    <tr>\n",
       "      <th>max</th>\n",
       "      <td>2019.000000</td>\n",
       "      <td>195.200000</td>\n",
       "    </tr>\n",
       "  </tbody>\n",
       "</table>\n",
       "</div>"
      ],
      "text/plain": [
       "               Year  Suicide Rates per 100,000\n",
       "count  10980.000000               10980.000000\n",
       "mean    2009.500000                  11.960951\n",
       "std        5.766544                  12.812487\n",
       "min     2000.000000                   0.000000\n",
       "25%     2004.750000                   4.630000\n",
       "50%     2009.500000                   8.270000\n",
       "75%     2014.250000                  14.940000\n",
       "max     2019.000000                 195.200000"
      ]
     },
     "execution_count": 46,
     "metadata": {},
     "output_type": "execute_result"
    }
   ],
   "source": [
    "# check nothing out of the ordinary with the descriptive statistics\n",
    "\n",
    "suicide_df.describe()"
   ]
  },
  {
   "cell_type": "markdown",
   "id": "8a9a7653",
   "metadata": {},
   "source": [
    "##### Nothing looks out of the ordinary"
   ]
  },
  {
   "cell_type": "code",
   "execution_count": 47,
   "id": "b23fbc6e",
   "metadata": {},
   "outputs": [],
   "source": [
    "# check for mixed type data\n",
    "\n",
    "for col in suicide_df.columns.tolist():\n",
    "  weird = (suicide_df[[col]].applymap(type) != suicide_df[[col]].iloc[0].apply(type)).any(axis = 1)\n",
    "  if len (suicide_df[weird]) > 0:\n",
    "    print (col)"
   ]
  },
  {
   "cell_type": "markdown",
   "id": "ded7ed84",
   "metadata": {},
   "source": [
    "##### No mixed type data columns"
   ]
  },
  {
   "cell_type": "code",
   "execution_count": 48,
   "id": "e97c9eb9",
   "metadata": {},
   "outputs": [
    {
     "data": {
      "text/plain": [
       "Region Code                  0\n",
       "Region                       0\n",
       "Country Code                 0\n",
       "Country                      0\n",
       "Year                         0\n",
       "Sex                          0\n",
       "Suicide Rates per 100,000    0\n",
       "dtype: int64"
      ]
     },
     "execution_count": 48,
     "metadata": {},
     "output_type": "execute_result"
    }
   ],
   "source": [
    "# checking for missing values in the dataframe\n",
    "\n",
    "suicide_df.isnull().sum()"
   ]
  },
  {
   "cell_type": "markdown",
   "id": "dfd98de0",
   "metadata": {},
   "source": [
    "##### No missing values"
   ]
  },
  {
   "cell_type": "code",
   "execution_count": 49,
   "id": "9f142ab4",
   "metadata": {},
   "outputs": [],
   "source": [
    "# checking for full duplicates in the df\n",
    "\n",
    "sui_dups_df = suicide_df[suicide_df.duplicated()]"
   ]
  },
  {
   "cell_type": "code",
   "execution_count": 50,
   "id": "243a854a",
   "metadata": {},
   "outputs": [
    {
     "data": {
      "text/html": [
       "<div>\n",
       "<style scoped>\n",
       "    .dataframe tbody tr th:only-of-type {\n",
       "        vertical-align: middle;\n",
       "    }\n",
       "\n",
       "    .dataframe tbody tr th {\n",
       "        vertical-align: top;\n",
       "    }\n",
       "\n",
       "    .dataframe thead th {\n",
       "        text-align: right;\n",
       "    }\n",
       "</style>\n",
       "<table border=\"1\" class=\"dataframe\">\n",
       "  <thead>\n",
       "    <tr style=\"text-align: right;\">\n",
       "      <th></th>\n",
       "      <th>Region Code</th>\n",
       "      <th>Region</th>\n",
       "      <th>Country Code</th>\n",
       "      <th>Country</th>\n",
       "      <th>Year</th>\n",
       "      <th>Sex</th>\n",
       "      <th>Suicide Rates per 100,000</th>\n",
       "    </tr>\n",
       "  </thead>\n",
       "  <tbody>\n",
       "  </tbody>\n",
       "</table>\n",
       "</div>"
      ],
      "text/plain": [
       "Empty DataFrame\n",
       "Columns: [Region Code, Region, Country Code, Country, Year, Sex, Suicide Rates per 100,000]\n",
       "Index: []"
      ]
     },
     "execution_count": 50,
     "metadata": {},
     "output_type": "execute_result"
    }
   ],
   "source": [
    "sui_dups_df"
   ]
  },
  {
   "cell_type": "markdown",
   "id": "dc58c5d0",
   "metadata": {},
   "source": [
    "##### No full duplicates in the df"
   ]
  },
  {
   "cell_type": "code",
   "execution_count": 51,
   "id": "1e60776f",
   "metadata": {},
   "outputs": [
    {
     "data": {
      "text/plain": [
       "(10980, 7)"
      ]
     },
     "execution_count": 51,
     "metadata": {},
     "output_type": "execute_result"
    }
   ],
   "source": [
    "# confirming no changes to suicide_df\n",
    "\n",
    "suicide_df.shape"
   ]
  },
  {
   "cell_type": "markdown",
   "id": "cced704c",
   "metadata": {},
   "source": [
    "### Population dataframe"
   ]
  },
  {
   "cell_type": "code",
   "execution_count": 52,
   "id": "097b3556",
   "metadata": {},
   "outputs": [
    {
     "data": {
      "text/html": [
       "<div>\n",
       "<style scoped>\n",
       "    .dataframe tbody tr th:only-of-type {\n",
       "        vertical-align: middle;\n",
       "    }\n",
       "\n",
       "    .dataframe tbody tr th {\n",
       "        vertical-align: top;\n",
       "    }\n",
       "\n",
       "    .dataframe thead th {\n",
       "        text-align: right;\n",
       "    }\n",
       "</style>\n",
       "<table border=\"1\" class=\"dataframe\">\n",
       "  <thead>\n",
       "    <tr style=\"text-align: right;\">\n",
       "      <th></th>\n",
       "      <th>Year</th>\n",
       "    </tr>\n",
       "  </thead>\n",
       "  <tbody>\n",
       "    <tr>\n",
       "      <th>count</th>\n",
       "      <td>3990.000000</td>\n",
       "    </tr>\n",
       "    <tr>\n",
       "      <th>mean</th>\n",
       "      <td>2013.000000</td>\n",
       "    </tr>\n",
       "    <tr>\n",
       "      <th>std</th>\n",
       "      <td>4.321035</td>\n",
       "    </tr>\n",
       "    <tr>\n",
       "      <th>min</th>\n",
       "      <td>2006.000000</td>\n",
       "    </tr>\n",
       "    <tr>\n",
       "      <th>25%</th>\n",
       "      <td>2009.000000</td>\n",
       "    </tr>\n",
       "    <tr>\n",
       "      <th>50%</th>\n",
       "      <td>2013.000000</td>\n",
       "    </tr>\n",
       "    <tr>\n",
       "      <th>75%</th>\n",
       "      <td>2017.000000</td>\n",
       "    </tr>\n",
       "    <tr>\n",
       "      <th>max</th>\n",
       "      <td>2020.000000</td>\n",
       "    </tr>\n",
       "  </tbody>\n",
       "</table>\n",
       "</div>"
      ],
      "text/plain": [
       "              Year\n",
       "count  3990.000000\n",
       "mean   2013.000000\n",
       "std       4.321035\n",
       "min    2006.000000\n",
       "25%    2009.000000\n",
       "50%    2013.000000\n",
       "75%    2017.000000\n",
       "max    2020.000000"
      ]
     },
     "execution_count": 52,
     "metadata": {},
     "output_type": "execute_result"
    }
   ],
   "source": [
    "# check nothing out of the ordinary with the descriptive statistics\n",
    "\n",
    "pop_df.describe()"
   ]
  },
  {
   "cell_type": "markdown",
   "id": "6b114e05",
   "metadata": {},
   "source": [
    "##### Nothing looks out of the ordinary"
   ]
  },
  {
   "cell_type": "code",
   "execution_count": 53,
   "id": "4ac9b145",
   "metadata": {},
   "outputs": [],
   "source": [
    "# check for mixed type data\n",
    "\n",
    "for col in pop_df.columns.tolist():\n",
    "  weird = (pop_df[[col]].applymap(type) != pop_df[[col]].iloc[0].apply(type)).any(axis = 1)\n",
    "  if len (pop_df[weird]) > 0:\n",
    "    print (col)"
   ]
  },
  {
   "cell_type": "markdown",
   "id": "9c4fd3b1",
   "metadata": {},
   "source": [
    "##### No mixed type data columns"
   ]
  },
  {
   "cell_type": "code",
   "execution_count": 54,
   "id": "f978b037",
   "metadata": {},
   "outputs": [
    {
     "data": {
      "text/plain": [
       "Country              0\n",
       "Country Code         0\n",
       "Year                 0\n",
       "Female Population    0\n",
       "Male Population      0\n",
       "Total Population     0\n",
       "dtype: int64"
      ]
     },
     "execution_count": 54,
     "metadata": {},
     "output_type": "execute_result"
    }
   ],
   "source": [
    "# checking for missing values in the dataframe\n",
    "\n",
    "pop_df.isnull().sum()"
   ]
  },
  {
   "cell_type": "markdown",
   "id": "ced147dd",
   "metadata": {},
   "source": [
    "##### No missing values"
   ]
  },
  {
   "cell_type": "code",
   "execution_count": 55,
   "id": "8a31bf04",
   "metadata": {},
   "outputs": [],
   "source": [
    "# checking for full duplicates in the df\n",
    "\n",
    "pop_dups_df = suicide_df[suicide_df.duplicated()]"
   ]
  },
  {
   "cell_type": "code",
   "execution_count": 56,
   "id": "53f7179c",
   "metadata": {},
   "outputs": [
    {
     "data": {
      "text/html": [
       "<div>\n",
       "<style scoped>\n",
       "    .dataframe tbody tr th:only-of-type {\n",
       "        vertical-align: middle;\n",
       "    }\n",
       "\n",
       "    .dataframe tbody tr th {\n",
       "        vertical-align: top;\n",
       "    }\n",
       "\n",
       "    .dataframe thead th {\n",
       "        text-align: right;\n",
       "    }\n",
       "</style>\n",
       "<table border=\"1\" class=\"dataframe\">\n",
       "  <thead>\n",
       "    <tr style=\"text-align: right;\">\n",
       "      <th></th>\n",
       "      <th>Region Code</th>\n",
       "      <th>Region</th>\n",
       "      <th>Country Code</th>\n",
       "      <th>Country</th>\n",
       "      <th>Year</th>\n",
       "      <th>Sex</th>\n",
       "      <th>Suicide Rates per 100,000</th>\n",
       "    </tr>\n",
       "  </thead>\n",
       "  <tbody>\n",
       "  </tbody>\n",
       "</table>\n",
       "</div>"
      ],
      "text/plain": [
       "Empty DataFrame\n",
       "Columns: [Region Code, Region, Country Code, Country, Year, Sex, Suicide Rates per 100,000]\n",
       "Index: []"
      ]
     },
     "execution_count": 56,
     "metadata": {},
     "output_type": "execute_result"
    }
   ],
   "source": [
    "pop_dups_df"
   ]
  },
  {
   "cell_type": "markdown",
   "id": "cc80d10e",
   "metadata": {},
   "source": [
    "##### No full duplicates in the df"
   ]
  },
  {
   "cell_type": "code",
   "execution_count": 57,
   "id": "24bc6681",
   "metadata": {},
   "outputs": [
    {
     "data": {
      "text/plain": [
       "(3990, 6)"
      ]
     },
     "execution_count": 57,
     "metadata": {},
     "output_type": "execute_result"
    }
   ],
   "source": [
    "# confirming no changes to suicide_df\n",
    "\n",
    "pop_df.shape"
   ]
  },
  {
   "cell_type": "markdown",
   "id": "2be3bb9d",
   "metadata": {},
   "source": [
    "### Unemployment dataframe"
   ]
  },
  {
   "cell_type": "code",
   "execution_count": 58,
   "id": "b30ef509",
   "metadata": {},
   "outputs": [
    {
     "data": {
      "text/html": [
       "<div>\n",
       "<style scoped>\n",
       "    .dataframe tbody tr th:only-of-type {\n",
       "        vertical-align: middle;\n",
       "    }\n",
       "\n",
       "    .dataframe tbody tr th {\n",
       "        vertical-align: top;\n",
       "    }\n",
       "\n",
       "    .dataframe thead th {\n",
       "        text-align: right;\n",
       "    }\n",
       "</style>\n",
       "<table border=\"1\" class=\"dataframe\">\n",
       "  <thead>\n",
       "    <tr style=\"text-align: right;\">\n",
       "      <th></th>\n",
       "      <th>Year</th>\n",
       "    </tr>\n",
       "  </thead>\n",
       "  <tbody>\n",
       "    <tr>\n",
       "      <th>count</th>\n",
       "      <td>3990.000000</td>\n",
       "    </tr>\n",
       "    <tr>\n",
       "      <th>mean</th>\n",
       "      <td>2013.000000</td>\n",
       "    </tr>\n",
       "    <tr>\n",
       "      <th>std</th>\n",
       "      <td>4.321035</td>\n",
       "    </tr>\n",
       "    <tr>\n",
       "      <th>min</th>\n",
       "      <td>2006.000000</td>\n",
       "    </tr>\n",
       "    <tr>\n",
       "      <th>25%</th>\n",
       "      <td>2009.000000</td>\n",
       "    </tr>\n",
       "    <tr>\n",
       "      <th>50%</th>\n",
       "      <td>2013.000000</td>\n",
       "    </tr>\n",
       "    <tr>\n",
       "      <th>75%</th>\n",
       "      <td>2017.000000</td>\n",
       "    </tr>\n",
       "    <tr>\n",
       "      <th>max</th>\n",
       "      <td>2020.000000</td>\n",
       "    </tr>\n",
       "  </tbody>\n",
       "</table>\n",
       "</div>"
      ],
      "text/plain": [
       "              Year\n",
       "count  3990.000000\n",
       "mean   2013.000000\n",
       "std       4.321035\n",
       "min    2006.000000\n",
       "25%    2009.000000\n",
       "50%    2013.000000\n",
       "75%    2017.000000\n",
       "max    2020.000000"
      ]
     },
     "execution_count": 58,
     "metadata": {},
     "output_type": "execute_result"
    }
   ],
   "source": [
    "# check nothing out of the ordinary with the descriptive statistics\n",
    "\n",
    "unemp_df.describe()"
   ]
  },
  {
   "cell_type": "markdown",
   "id": "38ce472f",
   "metadata": {},
   "source": [
    "##### Nothing looks out of the ordinary"
   ]
  },
  {
   "cell_type": "code",
   "execution_count": 59,
   "id": "35295b0f",
   "metadata": {},
   "outputs": [],
   "source": [
    "# check for mixed type data\n",
    "\n",
    "for col in unemp_df.columns.tolist():\n",
    "  weird = (unemp_df[[col]].applymap(type) != unemp_df[[col]].iloc[0].apply(type)).any(axis = 1)\n",
    "  if len (unemp_df[weird]) > 0:\n",
    "    print (col)"
   ]
  },
  {
   "cell_type": "markdown",
   "id": "a59b8aba",
   "metadata": {},
   "source": [
    "##### No mixed type data columns"
   ]
  },
  {
   "cell_type": "code",
   "execution_count": 60,
   "id": "30a74350",
   "metadata": {},
   "outputs": [
    {
     "data": {
      "text/plain": [
       "Country                    0\n",
       "Country Code               0\n",
       "Year                       0\n",
       "Unemployment Percentage    0\n",
       "dtype: int64"
      ]
     },
     "execution_count": 60,
     "metadata": {},
     "output_type": "execute_result"
    }
   ],
   "source": [
    "# checking for missing values in the dataframe\n",
    "\n",
    "unemp_df.isnull().sum()"
   ]
  },
  {
   "cell_type": "markdown",
   "id": "7308d6ef",
   "metadata": {},
   "source": [
    "##### No missing values"
   ]
  },
  {
   "cell_type": "code",
   "execution_count": 61,
   "id": "848c1219",
   "metadata": {},
   "outputs": [],
   "source": [
    "# checking for full duplicates in the df\n",
    "\n",
    "unemp_dups_df = suicide_df[suicide_df.duplicated()]"
   ]
  },
  {
   "cell_type": "code",
   "execution_count": 62,
   "id": "5d7ef018",
   "metadata": {},
   "outputs": [
    {
     "data": {
      "text/html": [
       "<div>\n",
       "<style scoped>\n",
       "    .dataframe tbody tr th:only-of-type {\n",
       "        vertical-align: middle;\n",
       "    }\n",
       "\n",
       "    .dataframe tbody tr th {\n",
       "        vertical-align: top;\n",
       "    }\n",
       "\n",
       "    .dataframe thead th {\n",
       "        text-align: right;\n",
       "    }\n",
       "</style>\n",
       "<table border=\"1\" class=\"dataframe\">\n",
       "  <thead>\n",
       "    <tr style=\"text-align: right;\">\n",
       "      <th></th>\n",
       "      <th>Region Code</th>\n",
       "      <th>Region</th>\n",
       "      <th>Country Code</th>\n",
       "      <th>Country</th>\n",
       "      <th>Year</th>\n",
       "      <th>Sex</th>\n",
       "      <th>Suicide Rates per 100,000</th>\n",
       "    </tr>\n",
       "  </thead>\n",
       "  <tbody>\n",
       "  </tbody>\n",
       "</table>\n",
       "</div>"
      ],
      "text/plain": [
       "Empty DataFrame\n",
       "Columns: [Region Code, Region, Country Code, Country, Year, Sex, Suicide Rates per 100,000]\n",
       "Index: []"
      ]
     },
     "execution_count": 62,
     "metadata": {},
     "output_type": "execute_result"
    }
   ],
   "source": [
    "unemp_dups_df"
   ]
  },
  {
   "cell_type": "markdown",
   "id": "c4319963",
   "metadata": {},
   "source": [
    "##### No full duplicates in the df"
   ]
  },
  {
   "cell_type": "code",
   "execution_count": 63,
   "id": "4a848a62",
   "metadata": {},
   "outputs": [
    {
     "data": {
      "text/plain": [
       "(3990, 4)"
      ]
     },
     "execution_count": 63,
     "metadata": {},
     "output_type": "execute_result"
    }
   ],
   "source": [
    "# confirming no changes to suicide_df\n",
    "\n",
    "unemp_df.shape"
   ]
  },
  {
   "cell_type": "markdown",
   "id": "863c5b92",
   "metadata": {},
   "source": [
    "### GDP dataframe"
   ]
  },
  {
   "cell_type": "code",
   "execution_count": 64,
   "id": "29e394d1",
   "metadata": {},
   "outputs": [
    {
     "data": {
      "text/html": [
       "<div>\n",
       "<style scoped>\n",
       "    .dataframe tbody tr th:only-of-type {\n",
       "        vertical-align: middle;\n",
       "    }\n",
       "\n",
       "    .dataframe tbody tr th {\n",
       "        vertical-align: top;\n",
       "    }\n",
       "\n",
       "    .dataframe thead th {\n",
       "        text-align: right;\n",
       "    }\n",
       "</style>\n",
       "<table border=\"1\" class=\"dataframe\">\n",
       "  <thead>\n",
       "    <tr style=\"text-align: right;\">\n",
       "      <th></th>\n",
       "      <th>Year</th>\n",
       "    </tr>\n",
       "  </thead>\n",
       "  <tbody>\n",
       "    <tr>\n",
       "      <th>count</th>\n",
       "      <td>2660.000000</td>\n",
       "    </tr>\n",
       "    <tr>\n",
       "      <th>mean</th>\n",
       "      <td>2015.500000</td>\n",
       "    </tr>\n",
       "    <tr>\n",
       "      <th>std</th>\n",
       "      <td>2.872821</td>\n",
       "    </tr>\n",
       "    <tr>\n",
       "      <th>min</th>\n",
       "      <td>2011.000000</td>\n",
       "    </tr>\n",
       "    <tr>\n",
       "      <th>25%</th>\n",
       "      <td>2013.000000</td>\n",
       "    </tr>\n",
       "    <tr>\n",
       "      <th>50%</th>\n",
       "      <td>2015.500000</td>\n",
       "    </tr>\n",
       "    <tr>\n",
       "      <th>75%</th>\n",
       "      <td>2018.000000</td>\n",
       "    </tr>\n",
       "    <tr>\n",
       "      <th>max</th>\n",
       "      <td>2020.000000</td>\n",
       "    </tr>\n",
       "  </tbody>\n",
       "</table>\n",
       "</div>"
      ],
      "text/plain": [
       "              Year\n",
       "count  2660.000000\n",
       "mean   2015.500000\n",
       "std       2.872821\n",
       "min    2011.000000\n",
       "25%    2013.000000\n",
       "50%    2015.500000\n",
       "75%    2018.000000\n",
       "max    2020.000000"
      ]
     },
     "execution_count": 64,
     "metadata": {},
     "output_type": "execute_result"
    }
   ],
   "source": [
    "# check nothing out of the ordinary with the descriptive statistics\n",
    "\n",
    "gdp_df.describe()"
   ]
  },
  {
   "cell_type": "markdown",
   "id": "1a19d9f6",
   "metadata": {},
   "source": [
    "##### Nothing looks out of the ordinary"
   ]
  },
  {
   "cell_type": "code",
   "execution_count": 65,
   "id": "909b6508",
   "metadata": {},
   "outputs": [],
   "source": [
    "# check for mixed type data\n",
    "\n",
    "for col in gdp_df.columns.tolist():\n",
    "  weird = (gdp_df[[col]].applymap(type) != gdp_df[[col]].iloc[0].apply(type)).any(axis = 1)\n",
    "  if len (gdp_df[weird]) > 0:\n",
    "    print (col)"
   ]
  },
  {
   "cell_type": "markdown",
   "id": "8cd4d23f",
   "metadata": {},
   "source": [
    "##### No mixed type data columns"
   ]
  },
  {
   "cell_type": "code",
   "execution_count": 66,
   "id": "e893ac30",
   "metadata": {},
   "outputs": [
    {
     "data": {
      "text/plain": [
       "Country              0\n",
       "Country Code         0\n",
       "Year                 0\n",
       "GDP (Current US$)    0\n",
       "dtype: int64"
      ]
     },
     "execution_count": 66,
     "metadata": {},
     "output_type": "execute_result"
    }
   ],
   "source": [
    "# checking for missing values in the dataframe\n",
    "\n",
    "gdp_df.isnull().sum()"
   ]
  },
  {
   "cell_type": "markdown",
   "id": "d461bd9f",
   "metadata": {},
   "source": [
    "##### No missing values"
   ]
  },
  {
   "cell_type": "code",
   "execution_count": 67,
   "id": "d203d3d8",
   "metadata": {},
   "outputs": [],
   "source": [
    "# checking for full duplicates in the df\n",
    "\n",
    "gdp_dups_df = suicide_df[suicide_df.duplicated()]"
   ]
  },
  {
   "cell_type": "code",
   "execution_count": 68,
   "id": "812c5444",
   "metadata": {},
   "outputs": [
    {
     "data": {
      "text/html": [
       "<div>\n",
       "<style scoped>\n",
       "    .dataframe tbody tr th:only-of-type {\n",
       "        vertical-align: middle;\n",
       "    }\n",
       "\n",
       "    .dataframe tbody tr th {\n",
       "        vertical-align: top;\n",
       "    }\n",
       "\n",
       "    .dataframe thead th {\n",
       "        text-align: right;\n",
       "    }\n",
       "</style>\n",
       "<table border=\"1\" class=\"dataframe\">\n",
       "  <thead>\n",
       "    <tr style=\"text-align: right;\">\n",
       "      <th></th>\n",
       "      <th>Region Code</th>\n",
       "      <th>Region</th>\n",
       "      <th>Country Code</th>\n",
       "      <th>Country</th>\n",
       "      <th>Year</th>\n",
       "      <th>Sex</th>\n",
       "      <th>Suicide Rates per 100,000</th>\n",
       "    </tr>\n",
       "  </thead>\n",
       "  <tbody>\n",
       "  </tbody>\n",
       "</table>\n",
       "</div>"
      ],
      "text/plain": [
       "Empty DataFrame\n",
       "Columns: [Region Code, Region, Country Code, Country, Year, Sex, Suicide Rates per 100,000]\n",
       "Index: []"
      ]
     },
     "execution_count": 68,
     "metadata": {},
     "output_type": "execute_result"
    }
   ],
   "source": [
    "gdp_dups_df"
   ]
  },
  {
   "cell_type": "markdown",
   "id": "f8513a52",
   "metadata": {},
   "source": [
    "##### No full duplicates in the df"
   ]
  },
  {
   "cell_type": "code",
   "execution_count": 69,
   "id": "ed45b678",
   "metadata": {},
   "outputs": [
    {
     "data": {
      "text/plain": [
       "(2660, 4)"
      ]
     },
     "execution_count": 69,
     "metadata": {},
     "output_type": "execute_result"
    }
   ],
   "source": [
    "# confirming no changes to suicide_df\n",
    "\n",
    "gdp_df.shape"
   ]
  },
  {
   "cell_type": "markdown",
   "id": "0a757147",
   "metadata": {},
   "source": [
    "## Create subset\n",
    "#### Subset required as only the years 2011-19 are needed from the Suicide dataframe (main df)"
   ]
  },
  {
   "cell_type": "code",
   "execution_count": 70,
   "id": "ce37245b",
   "metadata": {},
   "outputs": [],
   "source": [
    "# use the loc function to create a subset\n",
    "\n",
    "sub_df = suicide_df.loc[suicide_df['Year'].isin([2011, 2012, 2013, 2014, 2015, 2016, 2017, 2018, 2019])]"
   ]
  },
  {
   "cell_type": "code",
   "execution_count": 71,
   "id": "caa989d5",
   "metadata": {},
   "outputs": [
    {
     "data": {
      "text/html": [
       "<div>\n",
       "<style scoped>\n",
       "    .dataframe tbody tr th:only-of-type {\n",
       "        vertical-align: middle;\n",
       "    }\n",
       "\n",
       "    .dataframe tbody tr th {\n",
       "        vertical-align: top;\n",
       "    }\n",
       "\n",
       "    .dataframe thead th {\n",
       "        text-align: right;\n",
       "    }\n",
       "</style>\n",
       "<table border=\"1\" class=\"dataframe\">\n",
       "  <thead>\n",
       "    <tr style=\"text-align: right;\">\n",
       "      <th></th>\n",
       "      <th>Region Code</th>\n",
       "      <th>Region</th>\n",
       "      <th>Country Code</th>\n",
       "      <th>Country</th>\n",
       "      <th>Year</th>\n",
       "      <th>Sex</th>\n",
       "      <th>Suicide Rates per 100,000</th>\n",
       "    </tr>\n",
       "  </thead>\n",
       "  <tbody>\n",
       "    <tr>\n",
       "      <th>0</th>\n",
       "      <td>AMR</td>\n",
       "      <td>Americas</td>\n",
       "      <td>ATG</td>\n",
       "      <td>Antigua and Barbuda</td>\n",
       "      <td>2019</td>\n",
       "      <td>Male</td>\n",
       "      <td>0.00</td>\n",
       "    </tr>\n",
       "    <tr>\n",
       "      <th>1</th>\n",
       "      <td>AMR</td>\n",
       "      <td>Americas</td>\n",
       "      <td>BRB</td>\n",
       "      <td>Barbados</td>\n",
       "      <td>2019</td>\n",
       "      <td>Female</td>\n",
       "      <td>0.16</td>\n",
       "    </tr>\n",
       "    <tr>\n",
       "      <th>2</th>\n",
       "      <td>AMR</td>\n",
       "      <td>Americas</td>\n",
       "      <td>BRB</td>\n",
       "      <td>Barbados</td>\n",
       "      <td>2019</td>\n",
       "      <td>Both sexes</td>\n",
       "      <td>0.31</td>\n",
       "    </tr>\n",
       "    <tr>\n",
       "      <th>3</th>\n",
       "      <td>AMR</td>\n",
       "      <td>Americas</td>\n",
       "      <td>ATG</td>\n",
       "      <td>Antigua and Barbuda</td>\n",
       "      <td>2019</td>\n",
       "      <td>Both sexes</td>\n",
       "      <td>0.32</td>\n",
       "    </tr>\n",
       "    <tr>\n",
       "      <th>4</th>\n",
       "      <td>AMR</td>\n",
       "      <td>Americas</td>\n",
       "      <td>BRB</td>\n",
       "      <td>Barbados</td>\n",
       "      <td>2019</td>\n",
       "      <td>Male</td>\n",
       "      <td>0.49</td>\n",
       "    </tr>\n",
       "  </tbody>\n",
       "</table>\n",
       "</div>"
      ],
      "text/plain": [
       "  Region Code    Region Country Code              Country  Year         Sex  \\\n",
       "0         AMR  Americas          ATG  Antigua and Barbuda  2019        Male   \n",
       "1         AMR  Americas          BRB             Barbados  2019      Female   \n",
       "2         AMR  Americas          BRB             Barbados  2019  Both sexes   \n",
       "3         AMR  Americas          ATG  Antigua and Barbuda  2019  Both sexes   \n",
       "4         AMR  Americas          BRB             Barbados  2019        Male   \n",
       "\n",
       "   Suicide Rates per 100,000  \n",
       "0                       0.00  \n",
       "1                       0.16  \n",
       "2                       0.31  \n",
       "3                       0.32  \n",
       "4                       0.49  "
      ]
     },
     "execution_count": 71,
     "metadata": {},
     "output_type": "execute_result"
    }
   ],
   "source": [
    "sub_df.head()"
   ]
  },
  {
   "cell_type": "code",
   "execution_count": 72,
   "id": "430508ac",
   "metadata": {},
   "outputs": [
    {
     "data": {
      "text/plain": [
       "(4941, 7)"
      ]
     },
     "execution_count": 72,
     "metadata": {},
     "output_type": "execute_result"
    }
   ],
   "source": [
    "# count rows & columns\n",
    "\n",
    "sub_df.shape"
   ]
  },
  {
   "cell_type": "code",
   "execution_count": 73,
   "id": "9e718c9a",
   "metadata": {},
   "outputs": [
    {
     "data": {
      "text/plain": [
       "2011    549\n",
       "2012    549\n",
       "2013    549\n",
       "2014    549\n",
       "2015    549\n",
       "2016    549\n",
       "2017    549\n",
       "2018    549\n",
       "2019    549\n",
       "Name: Year, dtype: int64"
      ]
     },
     "execution_count": 73,
     "metadata": {},
     "output_type": "execute_result"
    }
   ],
   "source": [
    "# check to confirm only required years are in the subset\n",
    "\n",
    "sub_df['Year'].value_counts(dropna = False).sort_index(ascending = True)"
   ]
  },
  {
   "cell_type": "markdown",
   "id": "5bab637b",
   "metadata": {},
   "source": [
    "# Merging dataframes"
   ]
  },
  {
   "cell_type": "markdown",
   "id": "9932ad47",
   "metadata": {},
   "source": [
    "## Merging suicide df with population df"
   ]
  },
  {
   "cell_type": "code",
   "execution_count": 74,
   "id": "77ea7dd4",
   "metadata": {},
   "outputs": [],
   "source": [
    "# merging pop_df onto sub_df using a left join\n",
    "\n",
    "df1 = pd.merge(sub_df,pop_df[['Country Code', 'Year', 'Female Population', 'Male Population', 'Total Population']], on = ['Country Code', 'Year'], how ='inner', indicator = True)"
   ]
  },
  {
   "cell_type": "code",
   "execution_count": 75,
   "id": "768f67ac",
   "metadata": {},
   "outputs": [
    {
     "data": {
      "text/html": [
       "<div>\n",
       "<style scoped>\n",
       "    .dataframe tbody tr th:only-of-type {\n",
       "        vertical-align: middle;\n",
       "    }\n",
       "\n",
       "    .dataframe tbody tr th {\n",
       "        vertical-align: top;\n",
       "    }\n",
       "\n",
       "    .dataframe thead th {\n",
       "        text-align: right;\n",
       "    }\n",
       "</style>\n",
       "<table border=\"1\" class=\"dataframe\">\n",
       "  <thead>\n",
       "    <tr style=\"text-align: right;\">\n",
       "      <th></th>\n",
       "      <th>Region Code</th>\n",
       "      <th>Region</th>\n",
       "      <th>Country Code</th>\n",
       "      <th>Country</th>\n",
       "      <th>Year</th>\n",
       "      <th>Sex</th>\n",
       "      <th>Suicide Rates per 100,000</th>\n",
       "      <th>Female Population</th>\n",
       "      <th>Male Population</th>\n",
       "      <th>Total Population</th>\n",
       "      <th>_merge</th>\n",
       "    </tr>\n",
       "  </thead>\n",
       "  <tbody>\n",
       "    <tr>\n",
       "      <th>0</th>\n",
       "      <td>AMR</td>\n",
       "      <td>Americas</td>\n",
       "      <td>ATG</td>\n",
       "      <td>Antigua and Barbuda</td>\n",
       "      <td>2019</td>\n",
       "      <td>Male</td>\n",
       "      <td>0.00</td>\n",
       "      <td>50264</td>\n",
       "      <td>46851</td>\n",
       "      <td>97115</td>\n",
       "      <td>both</td>\n",
       "    </tr>\n",
       "    <tr>\n",
       "      <th>1</th>\n",
       "      <td>AMR</td>\n",
       "      <td>Americas</td>\n",
       "      <td>ATG</td>\n",
       "      <td>Antigua and Barbuda</td>\n",
       "      <td>2019</td>\n",
       "      <td>Both sexes</td>\n",
       "      <td>0.32</td>\n",
       "      <td>50264</td>\n",
       "      <td>46851</td>\n",
       "      <td>97115</td>\n",
       "      <td>both</td>\n",
       "    </tr>\n",
       "    <tr>\n",
       "      <th>2</th>\n",
       "      <td>AMR</td>\n",
       "      <td>Americas</td>\n",
       "      <td>ATG</td>\n",
       "      <td>Antigua and Barbuda</td>\n",
       "      <td>2019</td>\n",
       "      <td>Female</td>\n",
       "      <td>0.60</td>\n",
       "      <td>50264</td>\n",
       "      <td>46851</td>\n",
       "      <td>97115</td>\n",
       "      <td>both</td>\n",
       "    </tr>\n",
       "    <tr>\n",
       "      <th>3</th>\n",
       "      <td>AMR</td>\n",
       "      <td>Americas</td>\n",
       "      <td>BRB</td>\n",
       "      <td>Barbados</td>\n",
       "      <td>2019</td>\n",
       "      <td>Female</td>\n",
       "      <td>0.16</td>\n",
       "      <td>148208</td>\n",
       "      <td>138813</td>\n",
       "      <td>287021</td>\n",
       "      <td>both</td>\n",
       "    </tr>\n",
       "    <tr>\n",
       "      <th>4</th>\n",
       "      <td>AMR</td>\n",
       "      <td>Americas</td>\n",
       "      <td>BRB</td>\n",
       "      <td>Barbados</td>\n",
       "      <td>2019</td>\n",
       "      <td>Both sexes</td>\n",
       "      <td>0.31</td>\n",
       "      <td>148208</td>\n",
       "      <td>138813</td>\n",
       "      <td>287021</td>\n",
       "      <td>both</td>\n",
       "    </tr>\n",
       "  </tbody>\n",
       "</table>\n",
       "</div>"
      ],
      "text/plain": [
       "  Region Code    Region Country Code              Country  Year         Sex  \\\n",
       "0         AMR  Americas          ATG  Antigua and Barbuda  2019        Male   \n",
       "1         AMR  Americas          ATG  Antigua and Barbuda  2019  Both sexes   \n",
       "2         AMR  Americas          ATG  Antigua and Barbuda  2019      Female   \n",
       "3         AMR  Americas          BRB             Barbados  2019      Female   \n",
       "4         AMR  Americas          BRB             Barbados  2019  Both sexes   \n",
       "\n",
       "   Suicide Rates per 100,000 Female Population Male Population  \\\n",
       "0                       0.00             50264           46851   \n",
       "1                       0.32             50264           46851   \n",
       "2                       0.60             50264           46851   \n",
       "3                       0.16            148208          138813   \n",
       "4                       0.31            148208          138813   \n",
       "\n",
       "  Total Population _merge  \n",
       "0            97115   both  \n",
       "1            97115   both  \n",
       "2            97115   both  \n",
       "3           287021   both  \n",
       "4           287021   both  "
      ]
     },
     "execution_count": 75,
     "metadata": {},
     "output_type": "execute_result"
    }
   ],
   "source": [
    "df1.head()"
   ]
  },
  {
   "cell_type": "code",
   "execution_count": 76,
   "id": "bddcd634",
   "metadata": {},
   "outputs": [
    {
     "data": {
      "text/plain": [
       "both          4941\n",
       "left_only        0\n",
       "right_only       0\n",
       "Name: _merge, dtype: int64"
      ]
     },
     "execution_count": 76,
     "metadata": {},
     "output_type": "execute_result"
    }
   ],
   "source": [
    "df1['_merge'].value_counts()"
   ]
  },
  {
   "cell_type": "code",
   "execution_count": 77,
   "id": "df898a31",
   "metadata": {},
   "outputs": [],
   "source": [
    "# merged correctly, so will drop unnecessary columns\n",
    "\n",
    "df1.drop(columns = [ '_merge'], inplace = True)"
   ]
  },
  {
   "cell_type": "code",
   "execution_count": 78,
   "id": "3cedc25b",
   "metadata": {},
   "outputs": [
    {
     "data": {
      "text/html": [
       "<div>\n",
       "<style scoped>\n",
       "    .dataframe tbody tr th:only-of-type {\n",
       "        vertical-align: middle;\n",
       "    }\n",
       "\n",
       "    .dataframe tbody tr th {\n",
       "        vertical-align: top;\n",
       "    }\n",
       "\n",
       "    .dataframe thead th {\n",
       "        text-align: right;\n",
       "    }\n",
       "</style>\n",
       "<table border=\"1\" class=\"dataframe\">\n",
       "  <thead>\n",
       "    <tr style=\"text-align: right;\">\n",
       "      <th></th>\n",
       "      <th>Region Code</th>\n",
       "      <th>Region</th>\n",
       "      <th>Country Code</th>\n",
       "      <th>Country</th>\n",
       "      <th>Year</th>\n",
       "      <th>Sex</th>\n",
       "      <th>Suicide Rates per 100,000</th>\n",
       "      <th>Female Population</th>\n",
       "      <th>Male Population</th>\n",
       "      <th>Total Population</th>\n",
       "    </tr>\n",
       "  </thead>\n",
       "  <tbody>\n",
       "    <tr>\n",
       "      <th>0</th>\n",
       "      <td>AMR</td>\n",
       "      <td>Americas</td>\n",
       "      <td>ATG</td>\n",
       "      <td>Antigua and Barbuda</td>\n",
       "      <td>2019</td>\n",
       "      <td>Male</td>\n",
       "      <td>0.00</td>\n",
       "      <td>50264</td>\n",
       "      <td>46851</td>\n",
       "      <td>97115</td>\n",
       "    </tr>\n",
       "    <tr>\n",
       "      <th>1</th>\n",
       "      <td>AMR</td>\n",
       "      <td>Americas</td>\n",
       "      <td>ATG</td>\n",
       "      <td>Antigua and Barbuda</td>\n",
       "      <td>2019</td>\n",
       "      <td>Both sexes</td>\n",
       "      <td>0.32</td>\n",
       "      <td>50264</td>\n",
       "      <td>46851</td>\n",
       "      <td>97115</td>\n",
       "    </tr>\n",
       "    <tr>\n",
       "      <th>2</th>\n",
       "      <td>AMR</td>\n",
       "      <td>Americas</td>\n",
       "      <td>ATG</td>\n",
       "      <td>Antigua and Barbuda</td>\n",
       "      <td>2019</td>\n",
       "      <td>Female</td>\n",
       "      <td>0.60</td>\n",
       "      <td>50264</td>\n",
       "      <td>46851</td>\n",
       "      <td>97115</td>\n",
       "    </tr>\n",
       "    <tr>\n",
       "      <th>3</th>\n",
       "      <td>AMR</td>\n",
       "      <td>Americas</td>\n",
       "      <td>BRB</td>\n",
       "      <td>Barbados</td>\n",
       "      <td>2019</td>\n",
       "      <td>Female</td>\n",
       "      <td>0.16</td>\n",
       "      <td>148208</td>\n",
       "      <td>138813</td>\n",
       "      <td>287021</td>\n",
       "    </tr>\n",
       "    <tr>\n",
       "      <th>4</th>\n",
       "      <td>AMR</td>\n",
       "      <td>Americas</td>\n",
       "      <td>BRB</td>\n",
       "      <td>Barbados</td>\n",
       "      <td>2019</td>\n",
       "      <td>Both sexes</td>\n",
       "      <td>0.31</td>\n",
       "      <td>148208</td>\n",
       "      <td>138813</td>\n",
       "      <td>287021</td>\n",
       "    </tr>\n",
       "  </tbody>\n",
       "</table>\n",
       "</div>"
      ],
      "text/plain": [
       "  Region Code    Region Country Code              Country  Year         Sex  \\\n",
       "0         AMR  Americas          ATG  Antigua and Barbuda  2019        Male   \n",
       "1         AMR  Americas          ATG  Antigua and Barbuda  2019  Both sexes   \n",
       "2         AMR  Americas          ATG  Antigua and Barbuda  2019      Female   \n",
       "3         AMR  Americas          BRB             Barbados  2019      Female   \n",
       "4         AMR  Americas          BRB             Barbados  2019  Both sexes   \n",
       "\n",
       "   Suicide Rates per 100,000 Female Population Male Population  \\\n",
       "0                       0.00             50264           46851   \n",
       "1                       0.32             50264           46851   \n",
       "2                       0.60             50264           46851   \n",
       "3                       0.16            148208          138813   \n",
       "4                       0.31            148208          138813   \n",
       "\n",
       "  Total Population  \n",
       "0            97115  \n",
       "1            97115  \n",
       "2            97115  \n",
       "3           287021  \n",
       "4           287021  "
      ]
     },
     "execution_count": 78,
     "metadata": {},
     "output_type": "execute_result"
    }
   ],
   "source": [
    "# confirm change is correct\n",
    "\n",
    "df1.head()"
   ]
  },
  {
   "cell_type": "code",
   "execution_count": 79,
   "id": "7514ea40",
   "metadata": {},
   "outputs": [
    {
     "data": {
      "text/plain": [
       "(4941, 10)"
      ]
     },
     "execution_count": 79,
     "metadata": {},
     "output_type": "execute_result"
    }
   ],
   "source": [
    "df1.shape"
   ]
  },
  {
   "cell_type": "markdown",
   "id": "e5e89790",
   "metadata": {},
   "source": [
    "## Merging df1 with unemployment df"
   ]
  },
  {
   "cell_type": "code",
   "execution_count": 80,
   "id": "20dc10bc",
   "metadata": {},
   "outputs": [],
   "source": [
    "# merging unemp_df onto df1 using a left join\n",
    "\n",
    "df2 = pd.merge(df1,unemp_df[['Country Code', 'Year', 'Unemployment Percentage']], on = ['Country Code', 'Year'], how ='left', indicator = True)"
   ]
  },
  {
   "cell_type": "code",
   "execution_count": 81,
   "id": "968b2df6",
   "metadata": {},
   "outputs": [
    {
     "data": {
      "text/html": [
       "<div>\n",
       "<style scoped>\n",
       "    .dataframe tbody tr th:only-of-type {\n",
       "        vertical-align: middle;\n",
       "    }\n",
       "\n",
       "    .dataframe tbody tr th {\n",
       "        vertical-align: top;\n",
       "    }\n",
       "\n",
       "    .dataframe thead th {\n",
       "        text-align: right;\n",
       "    }\n",
       "</style>\n",
       "<table border=\"1\" class=\"dataframe\">\n",
       "  <thead>\n",
       "    <tr style=\"text-align: right;\">\n",
       "      <th></th>\n",
       "      <th>Region Code</th>\n",
       "      <th>Region</th>\n",
       "      <th>Country Code</th>\n",
       "      <th>Country</th>\n",
       "      <th>Year</th>\n",
       "      <th>Sex</th>\n",
       "      <th>Suicide Rates per 100,000</th>\n",
       "      <th>Female Population</th>\n",
       "      <th>Male Population</th>\n",
       "      <th>Total Population</th>\n",
       "      <th>Unemployment Percentage</th>\n",
       "      <th>_merge</th>\n",
       "    </tr>\n",
       "  </thead>\n",
       "  <tbody>\n",
       "    <tr>\n",
       "      <th>0</th>\n",
       "      <td>AMR</td>\n",
       "      <td>Americas</td>\n",
       "      <td>ATG</td>\n",
       "      <td>Antigua and Barbuda</td>\n",
       "      <td>2019</td>\n",
       "      <td>Male</td>\n",
       "      <td>0.00</td>\n",
       "      <td>50264</td>\n",
       "      <td>46851</td>\n",
       "      <td>97115</td>\n",
       "      <td>..</td>\n",
       "      <td>both</td>\n",
       "    </tr>\n",
       "    <tr>\n",
       "      <th>1</th>\n",
       "      <td>AMR</td>\n",
       "      <td>Americas</td>\n",
       "      <td>ATG</td>\n",
       "      <td>Antigua and Barbuda</td>\n",
       "      <td>2019</td>\n",
       "      <td>Both sexes</td>\n",
       "      <td>0.32</td>\n",
       "      <td>50264</td>\n",
       "      <td>46851</td>\n",
       "      <td>97115</td>\n",
       "      <td>..</td>\n",
       "      <td>both</td>\n",
       "    </tr>\n",
       "    <tr>\n",
       "      <th>2</th>\n",
       "      <td>AMR</td>\n",
       "      <td>Americas</td>\n",
       "      <td>ATG</td>\n",
       "      <td>Antigua and Barbuda</td>\n",
       "      <td>2019</td>\n",
       "      <td>Female</td>\n",
       "      <td>0.60</td>\n",
       "      <td>50264</td>\n",
       "      <td>46851</td>\n",
       "      <td>97115</td>\n",
       "      <td>..</td>\n",
       "      <td>both</td>\n",
       "    </tr>\n",
       "    <tr>\n",
       "      <th>3</th>\n",
       "      <td>AMR</td>\n",
       "      <td>Americas</td>\n",
       "      <td>BRB</td>\n",
       "      <td>Barbados</td>\n",
       "      <td>2019</td>\n",
       "      <td>Female</td>\n",
       "      <td>0.16</td>\n",
       "      <td>148208</td>\n",
       "      <td>138813</td>\n",
       "      <td>287021</td>\n",
       "      <td>10.1</td>\n",
       "      <td>both</td>\n",
       "    </tr>\n",
       "    <tr>\n",
       "      <th>4</th>\n",
       "      <td>AMR</td>\n",
       "      <td>Americas</td>\n",
       "      <td>BRB</td>\n",
       "      <td>Barbados</td>\n",
       "      <td>2019</td>\n",
       "      <td>Both sexes</td>\n",
       "      <td>0.31</td>\n",
       "      <td>148208</td>\n",
       "      <td>138813</td>\n",
       "      <td>287021</td>\n",
       "      <td>10.1</td>\n",
       "      <td>both</td>\n",
       "    </tr>\n",
       "  </tbody>\n",
       "</table>\n",
       "</div>"
      ],
      "text/plain": [
       "  Region Code    Region Country Code              Country  Year         Sex  \\\n",
       "0         AMR  Americas          ATG  Antigua and Barbuda  2019        Male   \n",
       "1         AMR  Americas          ATG  Antigua and Barbuda  2019  Both sexes   \n",
       "2         AMR  Americas          ATG  Antigua and Barbuda  2019      Female   \n",
       "3         AMR  Americas          BRB             Barbados  2019      Female   \n",
       "4         AMR  Americas          BRB             Barbados  2019  Both sexes   \n",
       "\n",
       "   Suicide Rates per 100,000 Female Population Male Population  \\\n",
       "0                       0.00             50264           46851   \n",
       "1                       0.32             50264           46851   \n",
       "2                       0.60             50264           46851   \n",
       "3                       0.16            148208          138813   \n",
       "4                       0.31            148208          138813   \n",
       "\n",
       "  Total Population Unemployment Percentage _merge  \n",
       "0            97115                      ..   both  \n",
       "1            97115                      ..   both  \n",
       "2            97115                      ..   both  \n",
       "3           287021                    10.1   both  \n",
       "4           287021                    10.1   both  "
      ]
     },
     "execution_count": 81,
     "metadata": {},
     "output_type": "execute_result"
    }
   ],
   "source": [
    "df2.head()"
   ]
  },
  {
   "cell_type": "code",
   "execution_count": 82,
   "id": "1581e0f8",
   "metadata": {},
   "outputs": [
    {
     "data": {
      "text/plain": [
       "both          4941\n",
       "left_only        0\n",
       "right_only       0\n",
       "Name: _merge, dtype: int64"
      ]
     },
     "execution_count": 82,
     "metadata": {},
     "output_type": "execute_result"
    }
   ],
   "source": [
    "df2['_merge'].value_counts()"
   ]
  },
  {
   "cell_type": "code",
   "execution_count": 83,
   "id": "9eb985fb",
   "metadata": {},
   "outputs": [],
   "source": [
    "# merged correctly, so will drop unnecessary columns\n",
    "\n",
    "df2.drop(columns = [ '_merge'], inplace = True)"
   ]
  },
  {
   "cell_type": "code",
   "execution_count": 84,
   "id": "bec83bcd",
   "metadata": {},
   "outputs": [
    {
     "data": {
      "text/html": [
       "<div>\n",
       "<style scoped>\n",
       "    .dataframe tbody tr th:only-of-type {\n",
       "        vertical-align: middle;\n",
       "    }\n",
       "\n",
       "    .dataframe tbody tr th {\n",
       "        vertical-align: top;\n",
       "    }\n",
       "\n",
       "    .dataframe thead th {\n",
       "        text-align: right;\n",
       "    }\n",
       "</style>\n",
       "<table border=\"1\" class=\"dataframe\">\n",
       "  <thead>\n",
       "    <tr style=\"text-align: right;\">\n",
       "      <th></th>\n",
       "      <th>Region Code</th>\n",
       "      <th>Region</th>\n",
       "      <th>Country Code</th>\n",
       "      <th>Country</th>\n",
       "      <th>Year</th>\n",
       "      <th>Sex</th>\n",
       "      <th>Suicide Rates per 100,000</th>\n",
       "      <th>Female Population</th>\n",
       "      <th>Male Population</th>\n",
       "      <th>Total Population</th>\n",
       "      <th>Unemployment Percentage</th>\n",
       "    </tr>\n",
       "  </thead>\n",
       "  <tbody>\n",
       "    <tr>\n",
       "      <th>0</th>\n",
       "      <td>AMR</td>\n",
       "      <td>Americas</td>\n",
       "      <td>ATG</td>\n",
       "      <td>Antigua and Barbuda</td>\n",
       "      <td>2019</td>\n",
       "      <td>Male</td>\n",
       "      <td>0.00</td>\n",
       "      <td>50264</td>\n",
       "      <td>46851</td>\n",
       "      <td>97115</td>\n",
       "      <td>..</td>\n",
       "    </tr>\n",
       "    <tr>\n",
       "      <th>1</th>\n",
       "      <td>AMR</td>\n",
       "      <td>Americas</td>\n",
       "      <td>ATG</td>\n",
       "      <td>Antigua and Barbuda</td>\n",
       "      <td>2019</td>\n",
       "      <td>Both sexes</td>\n",
       "      <td>0.32</td>\n",
       "      <td>50264</td>\n",
       "      <td>46851</td>\n",
       "      <td>97115</td>\n",
       "      <td>..</td>\n",
       "    </tr>\n",
       "    <tr>\n",
       "      <th>2</th>\n",
       "      <td>AMR</td>\n",
       "      <td>Americas</td>\n",
       "      <td>ATG</td>\n",
       "      <td>Antigua and Barbuda</td>\n",
       "      <td>2019</td>\n",
       "      <td>Female</td>\n",
       "      <td>0.60</td>\n",
       "      <td>50264</td>\n",
       "      <td>46851</td>\n",
       "      <td>97115</td>\n",
       "      <td>..</td>\n",
       "    </tr>\n",
       "    <tr>\n",
       "      <th>3</th>\n",
       "      <td>AMR</td>\n",
       "      <td>Americas</td>\n",
       "      <td>BRB</td>\n",
       "      <td>Barbados</td>\n",
       "      <td>2019</td>\n",
       "      <td>Female</td>\n",
       "      <td>0.16</td>\n",
       "      <td>148208</td>\n",
       "      <td>138813</td>\n",
       "      <td>287021</td>\n",
       "      <td>10.1</td>\n",
       "    </tr>\n",
       "    <tr>\n",
       "      <th>4</th>\n",
       "      <td>AMR</td>\n",
       "      <td>Americas</td>\n",
       "      <td>BRB</td>\n",
       "      <td>Barbados</td>\n",
       "      <td>2019</td>\n",
       "      <td>Both sexes</td>\n",
       "      <td>0.31</td>\n",
       "      <td>148208</td>\n",
       "      <td>138813</td>\n",
       "      <td>287021</td>\n",
       "      <td>10.1</td>\n",
       "    </tr>\n",
       "  </tbody>\n",
       "</table>\n",
       "</div>"
      ],
      "text/plain": [
       "  Region Code    Region Country Code              Country  Year         Sex  \\\n",
       "0         AMR  Americas          ATG  Antigua and Barbuda  2019        Male   \n",
       "1         AMR  Americas          ATG  Antigua and Barbuda  2019  Both sexes   \n",
       "2         AMR  Americas          ATG  Antigua and Barbuda  2019      Female   \n",
       "3         AMR  Americas          BRB             Barbados  2019      Female   \n",
       "4         AMR  Americas          BRB             Barbados  2019  Both sexes   \n",
       "\n",
       "   Suicide Rates per 100,000 Female Population Male Population  \\\n",
       "0                       0.00             50264           46851   \n",
       "1                       0.32             50264           46851   \n",
       "2                       0.60             50264           46851   \n",
       "3                       0.16            148208          138813   \n",
       "4                       0.31            148208          138813   \n",
       "\n",
       "  Total Population Unemployment Percentage  \n",
       "0            97115                      ..  \n",
       "1            97115                      ..  \n",
       "2            97115                      ..  \n",
       "3           287021                    10.1  \n",
       "4           287021                    10.1  "
      ]
     },
     "execution_count": 84,
     "metadata": {},
     "output_type": "execute_result"
    }
   ],
   "source": [
    "# confirm change is correct\n",
    "\n",
    "df2.head()"
   ]
  },
  {
   "cell_type": "code",
   "execution_count": 85,
   "id": "ea9b0c65",
   "metadata": {},
   "outputs": [
    {
     "data": {
      "text/plain": [
       "(4941, 11)"
      ]
     },
     "execution_count": 85,
     "metadata": {},
     "output_type": "execute_result"
    }
   ],
   "source": [
    "df2.shape"
   ]
  },
  {
   "cell_type": "markdown",
   "id": "1af0e89e",
   "metadata": {},
   "source": [
    "## Merging df2 with gdp df"
   ]
  },
  {
   "cell_type": "code",
   "execution_count": 86,
   "id": "9f3554b4",
   "metadata": {},
   "outputs": [],
   "source": [
    "# merging gdp_df onto df2 using a left join\n",
    "\n",
    "df3 = pd.merge(df2,gdp_df[['Country Code', 'Year', 'GDP (Current US$)']], on = ['Country Code', 'Year'], how ='left', indicator = True)"
   ]
  },
  {
   "cell_type": "code",
   "execution_count": 87,
   "id": "4c7e1128",
   "metadata": {},
   "outputs": [
    {
     "data": {
      "text/html": [
       "<div>\n",
       "<style scoped>\n",
       "    .dataframe tbody tr th:only-of-type {\n",
       "        vertical-align: middle;\n",
       "    }\n",
       "\n",
       "    .dataframe tbody tr th {\n",
       "        vertical-align: top;\n",
       "    }\n",
       "\n",
       "    .dataframe thead th {\n",
       "        text-align: right;\n",
       "    }\n",
       "</style>\n",
       "<table border=\"1\" class=\"dataframe\">\n",
       "  <thead>\n",
       "    <tr style=\"text-align: right;\">\n",
       "      <th></th>\n",
       "      <th>Region Code</th>\n",
       "      <th>Region</th>\n",
       "      <th>Country Code</th>\n",
       "      <th>Country</th>\n",
       "      <th>Year</th>\n",
       "      <th>Sex</th>\n",
       "      <th>Suicide Rates per 100,000</th>\n",
       "      <th>Female Population</th>\n",
       "      <th>Male Population</th>\n",
       "      <th>Total Population</th>\n",
       "      <th>Unemployment Percentage</th>\n",
       "      <th>GDP (Current US$)</th>\n",
       "      <th>_merge</th>\n",
       "    </tr>\n",
       "  </thead>\n",
       "  <tbody>\n",
       "    <tr>\n",
       "      <th>0</th>\n",
       "      <td>AMR</td>\n",
       "      <td>Americas</td>\n",
       "      <td>ATG</td>\n",
       "      <td>Antigua and Barbuda</td>\n",
       "      <td>2019</td>\n",
       "      <td>Male</td>\n",
       "      <td>0.00</td>\n",
       "      <td>50264</td>\n",
       "      <td>46851</td>\n",
       "      <td>97115</td>\n",
       "      <td>..</td>\n",
       "      <td>1687533333.33</td>\n",
       "      <td>both</td>\n",
       "    </tr>\n",
       "    <tr>\n",
       "      <th>1</th>\n",
       "      <td>AMR</td>\n",
       "      <td>Americas</td>\n",
       "      <td>ATG</td>\n",
       "      <td>Antigua and Barbuda</td>\n",
       "      <td>2019</td>\n",
       "      <td>Both sexes</td>\n",
       "      <td>0.32</td>\n",
       "      <td>50264</td>\n",
       "      <td>46851</td>\n",
       "      <td>97115</td>\n",
       "      <td>..</td>\n",
       "      <td>1687533333.33</td>\n",
       "      <td>both</td>\n",
       "    </tr>\n",
       "    <tr>\n",
       "      <th>2</th>\n",
       "      <td>AMR</td>\n",
       "      <td>Americas</td>\n",
       "      <td>ATG</td>\n",
       "      <td>Antigua and Barbuda</td>\n",
       "      <td>2019</td>\n",
       "      <td>Female</td>\n",
       "      <td>0.60</td>\n",
       "      <td>50264</td>\n",
       "      <td>46851</td>\n",
       "      <td>97115</td>\n",
       "      <td>..</td>\n",
       "      <td>1687533333.33</td>\n",
       "      <td>both</td>\n",
       "    </tr>\n",
       "    <tr>\n",
       "      <th>3</th>\n",
       "      <td>AMR</td>\n",
       "      <td>Americas</td>\n",
       "      <td>BRB</td>\n",
       "      <td>Barbados</td>\n",
       "      <td>2019</td>\n",
       "      <td>Female</td>\n",
       "      <td>0.16</td>\n",
       "      <td>148208</td>\n",
       "      <td>138813</td>\n",
       "      <td>287021</td>\n",
       "      <td>10.1</td>\n",
       "      <td>5209000000.00</td>\n",
       "      <td>both</td>\n",
       "    </tr>\n",
       "    <tr>\n",
       "      <th>4</th>\n",
       "      <td>AMR</td>\n",
       "      <td>Americas</td>\n",
       "      <td>BRB</td>\n",
       "      <td>Barbados</td>\n",
       "      <td>2019</td>\n",
       "      <td>Both sexes</td>\n",
       "      <td>0.31</td>\n",
       "      <td>148208</td>\n",
       "      <td>138813</td>\n",
       "      <td>287021</td>\n",
       "      <td>10.1</td>\n",
       "      <td>5209000000.00</td>\n",
       "      <td>both</td>\n",
       "    </tr>\n",
       "  </tbody>\n",
       "</table>\n",
       "</div>"
      ],
      "text/plain": [
       "  Region Code    Region Country Code              Country  Year         Sex  \\\n",
       "0         AMR  Americas          ATG  Antigua and Barbuda  2019        Male   \n",
       "1         AMR  Americas          ATG  Antigua and Barbuda  2019  Both sexes   \n",
       "2         AMR  Americas          ATG  Antigua and Barbuda  2019      Female   \n",
       "3         AMR  Americas          BRB             Barbados  2019      Female   \n",
       "4         AMR  Americas          BRB             Barbados  2019  Both sexes   \n",
       "\n",
       "   Suicide Rates per 100,000 Female Population Male Population  \\\n",
       "0                       0.00             50264           46851   \n",
       "1                       0.32             50264           46851   \n",
       "2                       0.60             50264           46851   \n",
       "3                       0.16            148208          138813   \n",
       "4                       0.31            148208          138813   \n",
       "\n",
       "  Total Population Unemployment Percentage GDP (Current US$) _merge  \n",
       "0            97115                      ..     1687533333.33   both  \n",
       "1            97115                      ..     1687533333.33   both  \n",
       "2            97115                      ..     1687533333.33   both  \n",
       "3           287021                    10.1     5209000000.00   both  \n",
       "4           287021                    10.1     5209000000.00   both  "
      ]
     },
     "execution_count": 87,
     "metadata": {},
     "output_type": "execute_result"
    }
   ],
   "source": [
    "df3.head()"
   ]
  },
  {
   "cell_type": "code",
   "execution_count": 88,
   "id": "d2f1d0bc",
   "metadata": {},
   "outputs": [
    {
     "data": {
      "text/plain": [
       "both          4941\n",
       "left_only        0\n",
       "right_only       0\n",
       "Name: _merge, dtype: int64"
      ]
     },
     "execution_count": 88,
     "metadata": {},
     "output_type": "execute_result"
    }
   ],
   "source": [
    "df3[\"_merge\"].value_counts()"
   ]
  },
  {
   "cell_type": "code",
   "execution_count": 89,
   "id": "10a605e3",
   "metadata": {},
   "outputs": [],
   "source": [
    "# merged correctly, so will drop unnecessary columns\n",
    "\n",
    "df3.drop(columns = [ '_merge'], inplace = True)"
   ]
  },
  {
   "cell_type": "code",
   "execution_count": 90,
   "id": "5561b82f",
   "metadata": {},
   "outputs": [
    {
     "data": {
      "text/html": [
       "<div>\n",
       "<style scoped>\n",
       "    .dataframe tbody tr th:only-of-type {\n",
       "        vertical-align: middle;\n",
       "    }\n",
       "\n",
       "    .dataframe tbody tr th {\n",
       "        vertical-align: top;\n",
       "    }\n",
       "\n",
       "    .dataframe thead th {\n",
       "        text-align: right;\n",
       "    }\n",
       "</style>\n",
       "<table border=\"1\" class=\"dataframe\">\n",
       "  <thead>\n",
       "    <tr style=\"text-align: right;\">\n",
       "      <th></th>\n",
       "      <th>Region Code</th>\n",
       "      <th>Region</th>\n",
       "      <th>Country Code</th>\n",
       "      <th>Country</th>\n",
       "      <th>Year</th>\n",
       "      <th>Sex</th>\n",
       "      <th>Suicide Rates per 100,000</th>\n",
       "      <th>Female Population</th>\n",
       "      <th>Male Population</th>\n",
       "      <th>Total Population</th>\n",
       "      <th>Unemployment Percentage</th>\n",
       "      <th>GDP (Current US$)</th>\n",
       "    </tr>\n",
       "  </thead>\n",
       "  <tbody>\n",
       "    <tr>\n",
       "      <th>0</th>\n",
       "      <td>AMR</td>\n",
       "      <td>Americas</td>\n",
       "      <td>ATG</td>\n",
       "      <td>Antigua and Barbuda</td>\n",
       "      <td>2019</td>\n",
       "      <td>Male</td>\n",
       "      <td>0.00</td>\n",
       "      <td>50264</td>\n",
       "      <td>46851</td>\n",
       "      <td>97115</td>\n",
       "      <td>..</td>\n",
       "      <td>1687533333.33</td>\n",
       "    </tr>\n",
       "    <tr>\n",
       "      <th>1</th>\n",
       "      <td>AMR</td>\n",
       "      <td>Americas</td>\n",
       "      <td>ATG</td>\n",
       "      <td>Antigua and Barbuda</td>\n",
       "      <td>2019</td>\n",
       "      <td>Both sexes</td>\n",
       "      <td>0.32</td>\n",
       "      <td>50264</td>\n",
       "      <td>46851</td>\n",
       "      <td>97115</td>\n",
       "      <td>..</td>\n",
       "      <td>1687533333.33</td>\n",
       "    </tr>\n",
       "    <tr>\n",
       "      <th>2</th>\n",
       "      <td>AMR</td>\n",
       "      <td>Americas</td>\n",
       "      <td>ATG</td>\n",
       "      <td>Antigua and Barbuda</td>\n",
       "      <td>2019</td>\n",
       "      <td>Female</td>\n",
       "      <td>0.60</td>\n",
       "      <td>50264</td>\n",
       "      <td>46851</td>\n",
       "      <td>97115</td>\n",
       "      <td>..</td>\n",
       "      <td>1687533333.33</td>\n",
       "    </tr>\n",
       "    <tr>\n",
       "      <th>3</th>\n",
       "      <td>AMR</td>\n",
       "      <td>Americas</td>\n",
       "      <td>BRB</td>\n",
       "      <td>Barbados</td>\n",
       "      <td>2019</td>\n",
       "      <td>Female</td>\n",
       "      <td>0.16</td>\n",
       "      <td>148208</td>\n",
       "      <td>138813</td>\n",
       "      <td>287021</td>\n",
       "      <td>10.1</td>\n",
       "      <td>5209000000.00</td>\n",
       "    </tr>\n",
       "    <tr>\n",
       "      <th>4</th>\n",
       "      <td>AMR</td>\n",
       "      <td>Americas</td>\n",
       "      <td>BRB</td>\n",
       "      <td>Barbados</td>\n",
       "      <td>2019</td>\n",
       "      <td>Both sexes</td>\n",
       "      <td>0.31</td>\n",
       "      <td>148208</td>\n",
       "      <td>138813</td>\n",
       "      <td>287021</td>\n",
       "      <td>10.1</td>\n",
       "      <td>5209000000.00</td>\n",
       "    </tr>\n",
       "  </tbody>\n",
       "</table>\n",
       "</div>"
      ],
      "text/plain": [
       "  Region Code    Region Country Code              Country  Year         Sex  \\\n",
       "0         AMR  Americas          ATG  Antigua and Barbuda  2019        Male   \n",
       "1         AMR  Americas          ATG  Antigua and Barbuda  2019  Both sexes   \n",
       "2         AMR  Americas          ATG  Antigua and Barbuda  2019      Female   \n",
       "3         AMR  Americas          BRB             Barbados  2019      Female   \n",
       "4         AMR  Americas          BRB             Barbados  2019  Both sexes   \n",
       "\n",
       "   Suicide Rates per 100,000 Female Population Male Population  \\\n",
       "0                       0.00             50264           46851   \n",
       "1                       0.32             50264           46851   \n",
       "2                       0.60             50264           46851   \n",
       "3                       0.16            148208          138813   \n",
       "4                       0.31            148208          138813   \n",
       "\n",
       "  Total Population Unemployment Percentage GDP (Current US$)  \n",
       "0            97115                      ..     1687533333.33  \n",
       "1            97115                      ..     1687533333.33  \n",
       "2            97115                      ..     1687533333.33  \n",
       "3           287021                    10.1     5209000000.00  \n",
       "4           287021                    10.1     5209000000.00  "
      ]
     },
     "execution_count": 90,
     "metadata": {},
     "output_type": "execute_result"
    }
   ],
   "source": [
    "# confirm change is correct\n",
    "\n",
    "df3.head()"
   ]
  },
  {
   "cell_type": "code",
   "execution_count": 91,
   "id": "e1f9c2e4",
   "metadata": {},
   "outputs": [
    {
     "data": {
      "text/plain": [
       "(4941, 12)"
      ]
     },
     "execution_count": 91,
     "metadata": {},
     "output_type": "execute_result"
    }
   ],
   "source": [
    "df3.shape"
   ]
  },
  {
   "cell_type": "markdown",
   "id": "81f92e4e",
   "metadata": {},
   "source": [
    "# Data wrangling - final df check"
   ]
  },
  {
   "cell_type": "code",
   "execution_count": 92,
   "id": "749db6fd",
   "metadata": {},
   "outputs": [
    {
     "data": {
      "text/plain": [
       "Region Code                  0\n",
       "Region                       0\n",
       "Country Code                 0\n",
       "Country                      0\n",
       "Year                         0\n",
       "Sex                          0\n",
       "Suicide Rates per 100,000    0\n",
       "Female Population            0\n",
       "Male Population              0\n",
       "Total Population             0\n",
       "Unemployment Percentage      0\n",
       "GDP (Current US$)            0\n",
       "dtype: int64"
      ]
     },
     "execution_count": 92,
     "metadata": {},
     "output_type": "execute_result"
    }
   ],
   "source": [
    "# checking for missing values in the dataframe\n",
    "\n",
    "df3.isnull().sum()"
   ]
  },
  {
   "cell_type": "code",
   "execution_count": 93,
   "id": "d4ff3b02",
   "metadata": {},
   "outputs": [
    {
     "data": {
      "text/plain": [
       "Region Code                   object\n",
       "Region                        object\n",
       "Country Code                  object\n",
       "Country                       object\n",
       "Year                           int16\n",
       "Sex                           object\n",
       "Suicide Rates per 100,000    float64\n",
       "Female Population             object\n",
       "Male Population               object\n",
       "Total Population              object\n",
       "Unemployment Percentage       object\n",
       "GDP (Current US$)             object\n",
       "dtype: object"
      ]
     },
     "execution_count": 93,
     "metadata": {},
     "output_type": "execute_result"
    }
   ],
   "source": [
    "# data type check\n",
    "\n",
    "df3.dtypes"
   ]
  },
  {
   "cell_type": "code",
   "execution_count": 94,
   "id": "0ba45264",
   "metadata": {},
   "outputs": [],
   "source": [
    "# getting this error when trying to change the population columns into integers: invalid literal for int() with base 10: '..'\n",
    "# need to find the '..' values within each column and change to 0 or remove from the database"
   ]
  },
  {
   "cell_type": "markdown",
   "id": "e45b08ec",
   "metadata": {},
   "source": [
    "### Removing missing values from the df"
   ]
  },
  {
   "cell_type": "code",
   "execution_count": 95,
   "id": "56b36cea",
   "metadata": {},
   "outputs": [],
   "source": [
    "# Find out how many records in the unemployment column have '..'\n",
    "\n",
    "d = df3[df3['Unemployment Percentage'] == '..']"
   ]
  },
  {
   "cell_type": "code",
   "execution_count": 96,
   "id": "8581db06",
   "metadata": {},
   "outputs": [
    {
     "data": {
      "text/html": [
       "<div>\n",
       "<style scoped>\n",
       "    .dataframe tbody tr th:only-of-type {\n",
       "        vertical-align: middle;\n",
       "    }\n",
       "\n",
       "    .dataframe tbody tr th {\n",
       "        vertical-align: top;\n",
       "    }\n",
       "\n",
       "    .dataframe thead th {\n",
       "        text-align: right;\n",
       "    }\n",
       "</style>\n",
       "<table border=\"1\" class=\"dataframe\">\n",
       "  <thead>\n",
       "    <tr style=\"text-align: right;\">\n",
       "      <th></th>\n",
       "      <th>Region Code</th>\n",
       "      <th>Region</th>\n",
       "      <th>Country Code</th>\n",
       "      <th>Country</th>\n",
       "      <th>Year</th>\n",
       "      <th>Sex</th>\n",
       "      <th>Suicide Rates per 100,000</th>\n",
       "      <th>Female Population</th>\n",
       "      <th>Male Population</th>\n",
       "      <th>Total Population</th>\n",
       "      <th>Unemployment Percentage</th>\n",
       "      <th>GDP (Current US$)</th>\n",
       "    </tr>\n",
       "  </thead>\n",
       "  <tbody>\n",
       "    <tr>\n",
       "      <th>0</th>\n",
       "      <td>AMR</td>\n",
       "      <td>Americas</td>\n",
       "      <td>ATG</td>\n",
       "      <td>Antigua and Barbuda</td>\n",
       "      <td>2019</td>\n",
       "      <td>Male</td>\n",
       "      <td>0.00</td>\n",
       "      <td>50264</td>\n",
       "      <td>46851</td>\n",
       "      <td>97115</td>\n",
       "      <td>..</td>\n",
       "      <td>1687533333.33</td>\n",
       "    </tr>\n",
       "    <tr>\n",
       "      <th>1</th>\n",
       "      <td>AMR</td>\n",
       "      <td>Americas</td>\n",
       "      <td>ATG</td>\n",
       "      <td>Antigua and Barbuda</td>\n",
       "      <td>2019</td>\n",
       "      <td>Both sexes</td>\n",
       "      <td>0.32</td>\n",
       "      <td>50264</td>\n",
       "      <td>46851</td>\n",
       "      <td>97115</td>\n",
       "      <td>..</td>\n",
       "      <td>1687533333.33</td>\n",
       "    </tr>\n",
       "    <tr>\n",
       "      <th>2</th>\n",
       "      <td>AMR</td>\n",
       "      <td>Americas</td>\n",
       "      <td>ATG</td>\n",
       "      <td>Antigua and Barbuda</td>\n",
       "      <td>2019</td>\n",
       "      <td>Female</td>\n",
       "      <td>0.60</td>\n",
       "      <td>50264</td>\n",
       "      <td>46851</td>\n",
       "      <td>97115</td>\n",
       "      <td>..</td>\n",
       "      <td>1687533333.33</td>\n",
       "    </tr>\n",
       "    <tr>\n",
       "      <th>6</th>\n",
       "      <td>AMR</td>\n",
       "      <td>Americas</td>\n",
       "      <td>GRD</td>\n",
       "      <td>Grenada</td>\n",
       "      <td>2019</td>\n",
       "      <td>Male</td>\n",
       "      <td>0.53</td>\n",
       "      <td>55576</td>\n",
       "      <td>56426</td>\n",
       "      <td>112002</td>\n",
       "      <td>..</td>\n",
       "      <td>1212694407.41</td>\n",
       "    </tr>\n",
       "    <tr>\n",
       "      <th>7</th>\n",
       "      <td>AMR</td>\n",
       "      <td>Americas</td>\n",
       "      <td>GRD</td>\n",
       "      <td>Grenada</td>\n",
       "      <td>2019</td>\n",
       "      <td>Both sexes</td>\n",
       "      <td>0.64</td>\n",
       "      <td>55576</td>\n",
       "      <td>56426</td>\n",
       "      <td>112002</td>\n",
       "      <td>..</td>\n",
       "      <td>1212694407.41</td>\n",
       "    </tr>\n",
       "    <tr>\n",
       "      <th>...</th>\n",
       "      <td>...</td>\n",
       "      <td>...</td>\n",
       "      <td>...</td>\n",
       "      <td>...</td>\n",
       "      <td>...</td>\n",
       "      <td>...</td>\n",
       "      <td>...</td>\n",
       "      <td>...</td>\n",
       "      <td>...</td>\n",
       "      <td>...</td>\n",
       "      <td>...</td>\n",
       "      <td>...</td>\n",
       "    </tr>\n",
       "    <tr>\n",
       "      <th>4507</th>\n",
       "      <td>WPR</td>\n",
       "      <td>Western Pacific</td>\n",
       "      <td>KIR</td>\n",
       "      <td>Kiribati</td>\n",
       "      <td>2011</td>\n",
       "      <td>Both sexes</td>\n",
       "      <td>32.85</td>\n",
       "      <td>53218</td>\n",
       "      <td>51517</td>\n",
       "      <td>104735</td>\n",
       "      <td>..</td>\n",
       "      <td>181705153.61</td>\n",
       "    </tr>\n",
       "    <tr>\n",
       "      <th>4508</th>\n",
       "      <td>WPR</td>\n",
       "      <td>Western Pacific</td>\n",
       "      <td>KIR</td>\n",
       "      <td>Kiribati</td>\n",
       "      <td>2011</td>\n",
       "      <td>Male</td>\n",
       "      <td>57.41</td>\n",
       "      <td>53218</td>\n",
       "      <td>51517</td>\n",
       "      <td>104735</td>\n",
       "      <td>..</td>\n",
       "      <td>181705153.61</td>\n",
       "    </tr>\n",
       "    <tr>\n",
       "      <th>4632</th>\n",
       "      <td>WPR</td>\n",
       "      <td>Western Pacific</td>\n",
       "      <td>FSM</td>\n",
       "      <td>Micronesia (Federated States of)</td>\n",
       "      <td>2011</td>\n",
       "      <td>Female</td>\n",
       "      <td>12.35</td>\n",
       "      <td>50937</td>\n",
       "      <td>52511</td>\n",
       "      <td>103448</td>\n",
       "      <td>..</td>\n",
       "      <td>311301600.00</td>\n",
       "    </tr>\n",
       "    <tr>\n",
       "      <th>4633</th>\n",
       "      <td>WPR</td>\n",
       "      <td>Western Pacific</td>\n",
       "      <td>FSM</td>\n",
       "      <td>Micronesia (Federated States of)</td>\n",
       "      <td>2011</td>\n",
       "      <td>Both sexes</td>\n",
       "      <td>27.52</td>\n",
       "      <td>50937</td>\n",
       "      <td>52511</td>\n",
       "      <td>103448</td>\n",
       "      <td>..</td>\n",
       "      <td>311301600.00</td>\n",
       "    </tr>\n",
       "    <tr>\n",
       "      <th>4634</th>\n",
       "      <td>WPR</td>\n",
       "      <td>Western Pacific</td>\n",
       "      <td>FSM</td>\n",
       "      <td>Micronesia (Federated States of)</td>\n",
       "      <td>2011</td>\n",
       "      <td>Male</td>\n",
       "      <td>42.48</td>\n",
       "      <td>50937</td>\n",
       "      <td>52511</td>\n",
       "      <td>103448</td>\n",
       "      <td>..</td>\n",
       "      <td>311301600.00</td>\n",
       "    </tr>\n",
       "  </tbody>\n",
       "</table>\n",
       "<p>135 rows × 12 columns</p>\n",
       "</div>"
      ],
      "text/plain": [
       "     Region Code           Region Country Code  \\\n",
       "0            AMR         Americas          ATG   \n",
       "1            AMR         Americas          ATG   \n",
       "2            AMR         Americas          ATG   \n",
       "6            AMR         Americas          GRD   \n",
       "7            AMR         Americas          GRD   \n",
       "...          ...              ...          ...   \n",
       "4507         WPR  Western Pacific          KIR   \n",
       "4508         WPR  Western Pacific          KIR   \n",
       "4632         WPR  Western Pacific          FSM   \n",
       "4633         WPR  Western Pacific          FSM   \n",
       "4634         WPR  Western Pacific          FSM   \n",
       "\n",
       "                               Country  Year         Sex  \\\n",
       "0                  Antigua and Barbuda  2019        Male   \n",
       "1                  Antigua and Barbuda  2019  Both sexes   \n",
       "2                  Antigua and Barbuda  2019      Female   \n",
       "6                              Grenada  2019        Male   \n",
       "7                              Grenada  2019  Both sexes   \n",
       "...                                ...   ...         ...   \n",
       "4507                          Kiribati  2011  Both sexes   \n",
       "4508                          Kiribati  2011        Male   \n",
       "4632  Micronesia (Federated States of)  2011      Female   \n",
       "4633  Micronesia (Federated States of)  2011  Both sexes   \n",
       "4634  Micronesia (Federated States of)  2011        Male   \n",
       "\n",
       "      Suicide Rates per 100,000 Female Population Male Population  \\\n",
       "0                          0.00             50264           46851   \n",
       "1                          0.32             50264           46851   \n",
       "2                          0.60             50264           46851   \n",
       "6                          0.53             55576           56426   \n",
       "7                          0.64             55576           56426   \n",
       "...                         ...               ...             ...   \n",
       "4507                      32.85             53218           51517   \n",
       "4508                      57.41             53218           51517   \n",
       "4632                      12.35             50937           52511   \n",
       "4633                      27.52             50937           52511   \n",
       "4634                      42.48             50937           52511   \n",
       "\n",
       "     Total Population Unemployment Percentage GDP (Current US$)  \n",
       "0               97115                      ..     1687533333.33  \n",
       "1               97115                      ..     1687533333.33  \n",
       "2               97115                      ..     1687533333.33  \n",
       "6              112002                      ..     1212694407.41  \n",
       "7              112002                      ..     1212694407.41  \n",
       "...               ...                     ...               ...  \n",
       "4507           104735                      ..      181705153.61  \n",
       "4508           104735                      ..      181705153.61  \n",
       "4632           103448                      ..      311301600.00  \n",
       "4633           103448                      ..      311301600.00  \n",
       "4634           103448                      ..      311301600.00  \n",
       "\n",
       "[135 rows x 12 columns]"
      ]
     },
     "execution_count": 96,
     "metadata": {},
     "output_type": "execute_result"
    }
   ],
   "source": [
    "d"
   ]
  },
  {
   "cell_type": "code",
   "execution_count": 97,
   "id": "76c036c9",
   "metadata": {},
   "outputs": [
    {
     "data": {
      "text/plain": [
       "Grenada                             27\n",
       "Antigua and Barbuda                 27\n",
       "Seychelles                          27\n",
       "Micronesia (Federated States of)    27\n",
       "Kiribati                            27\n",
       "Name: Country, dtype: int64"
      ]
     },
     "execution_count": 97,
     "metadata": {},
     "output_type": "execute_result"
    }
   ],
   "source": [
    "# check what countries are missing values, and if all or partial records are missing\n",
    "\n",
    "d['Country'].value_counts()"
   ]
  },
  {
   "cell_type": "markdown",
   "id": "b003cb07",
   "metadata": {},
   "source": [
    "#### As all records for these countries are missing values, I will remove them from database as they don't allow a complete analysis"
   ]
  },
  {
   "cell_type": "code",
   "execution_count": 98,
   "id": "0d04dc19",
   "metadata": {},
   "outputs": [],
   "source": [
    "# Find out how many records in the GDP column have '..'\n",
    "\n",
    "d1 = df3[df3['GDP (Current US$)'] == '..']"
   ]
  },
  {
   "cell_type": "code",
   "execution_count": 99,
   "id": "b70b3143",
   "metadata": {},
   "outputs": [
    {
     "data": {
      "text/html": [
       "<div>\n",
       "<style scoped>\n",
       "    .dataframe tbody tr th:only-of-type {\n",
       "        vertical-align: middle;\n",
       "    }\n",
       "\n",
       "    .dataframe tbody tr th {\n",
       "        vertical-align: top;\n",
       "    }\n",
       "\n",
       "    .dataframe thead th {\n",
       "        text-align: right;\n",
       "    }\n",
       "</style>\n",
       "<table border=\"1\" class=\"dataframe\">\n",
       "  <thead>\n",
       "    <tr style=\"text-align: right;\">\n",
       "      <th></th>\n",
       "      <th>Region Code</th>\n",
       "      <th>Region</th>\n",
       "      <th>Country Code</th>\n",
       "      <th>Country</th>\n",
       "      <th>Year</th>\n",
       "      <th>Sex</th>\n",
       "      <th>Suicide Rates per 100,000</th>\n",
       "      <th>Female Population</th>\n",
       "      <th>Male Population</th>\n",
       "      <th>Total Population</th>\n",
       "      <th>Unemployment Percentage</th>\n",
       "      <th>GDP (Current US$)</th>\n",
       "    </tr>\n",
       "  </thead>\n",
       "  <tbody>\n",
       "    <tr>\n",
       "      <th>12</th>\n",
       "      <td>AMR</td>\n",
       "      <td>Americas</td>\n",
       "      <td>VEN</td>\n",
       "      <td>Venezuela (Bolivarian Republic of)</td>\n",
       "      <td>2019</td>\n",
       "      <td>Female</td>\n",
       "      <td>0.69</td>\n",
       "      <td>14470601</td>\n",
       "      <td>14045228</td>\n",
       "      <td>28515829</td>\n",
       "      <td>7.16</td>\n",
       "      <td>..</td>\n",
       "    </tr>\n",
       "    <tr>\n",
       "      <th>13</th>\n",
       "      <td>AMR</td>\n",
       "      <td>Americas</td>\n",
       "      <td>VEN</td>\n",
       "      <td>Venezuela (Bolivarian Republic of)</td>\n",
       "      <td>2019</td>\n",
       "      <td>Both sexes</td>\n",
       "      <td>2.10</td>\n",
       "      <td>14470601</td>\n",
       "      <td>14045228</td>\n",
       "      <td>28515829</td>\n",
       "      <td>7.16</td>\n",
       "      <td>..</td>\n",
       "    </tr>\n",
       "    <tr>\n",
       "      <th>14</th>\n",
       "      <td>AMR</td>\n",
       "      <td>Americas</td>\n",
       "      <td>VEN</td>\n",
       "      <td>Venezuela (Bolivarian Republic of)</td>\n",
       "      <td>2019</td>\n",
       "      <td>Male</td>\n",
       "      <td>3.65</td>\n",
       "      <td>14470601</td>\n",
       "      <td>14045228</td>\n",
       "      <td>28515829</td>\n",
       "      <td>7.16</td>\n",
       "      <td>..</td>\n",
       "    </tr>\n",
       "    <tr>\n",
       "      <th>144</th>\n",
       "      <td>AFR</td>\n",
       "      <td>Africa</td>\n",
       "      <td>SSD</td>\n",
       "      <td>South Sudan</td>\n",
       "      <td>2019</td>\n",
       "      <td>Male</td>\n",
       "      <td>10.38</td>\n",
       "      <td>5525584</td>\n",
       "      <td>5536530</td>\n",
       "      <td>11062114</td>\n",
       "      <td>12.01</td>\n",
       "      <td>..</td>\n",
       "    </tr>\n",
       "    <tr>\n",
       "      <th>145</th>\n",
       "      <td>AFR</td>\n",
       "      <td>Africa</td>\n",
       "      <td>SSD</td>\n",
       "      <td>South Sudan</td>\n",
       "      <td>2019</td>\n",
       "      <td>Female</td>\n",
       "      <td>3.38</td>\n",
       "      <td>5525584</td>\n",
       "      <td>5536530</td>\n",
       "      <td>11062114</td>\n",
       "      <td>12.01</td>\n",
       "      <td>..</td>\n",
       "    </tr>\n",
       "    <tr>\n",
       "      <th>...</th>\n",
       "      <td>...</td>\n",
       "      <td>...</td>\n",
       "      <td>...</td>\n",
       "      <td>...</td>\n",
       "      <td>...</td>\n",
       "      <td>...</td>\n",
       "      <td>...</td>\n",
       "      <td>...</td>\n",
       "      <td>...</td>\n",
       "      <td>...</td>\n",
       "      <td>...</td>\n",
       "      <td>...</td>\n",
       "    </tr>\n",
       "    <tr>\n",
       "      <th>4579</th>\n",
       "      <td>SEAR</td>\n",
       "      <td>South-East Asia</td>\n",
       "      <td>PRK</td>\n",
       "      <td>Democratic People's Republic of Korea</td>\n",
       "      <td>2011</td>\n",
       "      <td>Female</td>\n",
       "      <td>7.50</td>\n",
       "      <td>12615979</td>\n",
       "      <td>12057413</td>\n",
       "      <td>24673392</td>\n",
       "      <td>2.9</td>\n",
       "      <td>..</td>\n",
       "    </tr>\n",
       "    <tr>\n",
       "      <th>4580</th>\n",
       "      <td>SEAR</td>\n",
       "      <td>South-East Asia</td>\n",
       "      <td>PRK</td>\n",
       "      <td>Democratic People's Republic of Korea</td>\n",
       "      <td>2011</td>\n",
       "      <td>Both sexes</td>\n",
       "      <td>9.24</td>\n",
       "      <td>12615979</td>\n",
       "      <td>12057413</td>\n",
       "      <td>24673392</td>\n",
       "      <td>2.9</td>\n",
       "      <td>..</td>\n",
       "    </tr>\n",
       "    <tr>\n",
       "      <th>4752</th>\n",
       "      <td>EMR</td>\n",
       "      <td>Eastern Mediterranean</td>\n",
       "      <td>SOM</td>\n",
       "      <td>Somalia</td>\n",
       "      <td>2011</td>\n",
       "      <td>Both sexes</td>\n",
       "      <td>15.32</td>\n",
       "      <td>6196100</td>\n",
       "      <td>6180205</td>\n",
       "      <td>12376305</td>\n",
       "      <td>13.38</td>\n",
       "      <td>..</td>\n",
       "    </tr>\n",
       "    <tr>\n",
       "      <th>4753</th>\n",
       "      <td>EMR</td>\n",
       "      <td>Eastern Mediterranean</td>\n",
       "      <td>SOM</td>\n",
       "      <td>Somalia</td>\n",
       "      <td>2011</td>\n",
       "      <td>Male</td>\n",
       "      <td>23.69</td>\n",
       "      <td>6196100</td>\n",
       "      <td>6180205</td>\n",
       "      <td>12376305</td>\n",
       "      <td>13.38</td>\n",
       "      <td>..</td>\n",
       "    </tr>\n",
       "    <tr>\n",
       "      <th>4754</th>\n",
       "      <td>EMR</td>\n",
       "      <td>Eastern Mediterranean</td>\n",
       "      <td>SOM</td>\n",
       "      <td>Somalia</td>\n",
       "      <td>2011</td>\n",
       "      <td>Female</td>\n",
       "      <td>7.32</td>\n",
       "      <td>6196100</td>\n",
       "      <td>6180205</td>\n",
       "      <td>12376305</td>\n",
       "      <td>13.38</td>\n",
       "      <td>..</td>\n",
       "    </tr>\n",
       "  </tbody>\n",
       "</table>\n",
       "<p>87 rows × 12 columns</p>\n",
       "</div>"
      ],
      "text/plain": [
       "     Region Code                 Region Country Code  \\\n",
       "12           AMR               Americas          VEN   \n",
       "13           AMR               Americas          VEN   \n",
       "14           AMR               Americas          VEN   \n",
       "144          AFR                 Africa          SSD   \n",
       "145          AFR                 Africa          SSD   \n",
       "...          ...                    ...          ...   \n",
       "4579        SEAR        South-East Asia          PRK   \n",
       "4580        SEAR        South-East Asia          PRK   \n",
       "4752         EMR  Eastern Mediterranean          SOM   \n",
       "4753         EMR  Eastern Mediterranean          SOM   \n",
       "4754         EMR  Eastern Mediterranean          SOM   \n",
       "\n",
       "                                    Country  Year         Sex  \\\n",
       "12       Venezuela (Bolivarian Republic of)  2019      Female   \n",
       "13       Venezuela (Bolivarian Republic of)  2019  Both sexes   \n",
       "14       Venezuela (Bolivarian Republic of)  2019        Male   \n",
       "144                             South Sudan  2019        Male   \n",
       "145                             South Sudan  2019      Female   \n",
       "...                                     ...   ...         ...   \n",
       "4579  Democratic People's Republic of Korea  2011      Female   \n",
       "4580  Democratic People's Republic of Korea  2011  Both sexes   \n",
       "4752                                Somalia  2011  Both sexes   \n",
       "4753                                Somalia  2011        Male   \n",
       "4754                                Somalia  2011      Female   \n",
       "\n",
       "      Suicide Rates per 100,000 Female Population Male Population  \\\n",
       "12                         0.69          14470601        14045228   \n",
       "13                         2.10          14470601        14045228   \n",
       "14                         3.65          14470601        14045228   \n",
       "144                       10.38           5525584         5536530   \n",
       "145                        3.38           5525584         5536530   \n",
       "...                         ...               ...             ...   \n",
       "4579                       7.50          12615979        12057413   \n",
       "4580                       9.24          12615979        12057413   \n",
       "4752                      15.32           6196100         6180205   \n",
       "4753                      23.69           6196100         6180205   \n",
       "4754                       7.32           6196100         6180205   \n",
       "\n",
       "     Total Population Unemployment Percentage GDP (Current US$)  \n",
       "12           28515829                    7.16                ..  \n",
       "13           28515829                    7.16                ..  \n",
       "14           28515829                    7.16                ..  \n",
       "144          11062114                   12.01                ..  \n",
       "145          11062114                   12.01                ..  \n",
       "...               ...                     ...               ...  \n",
       "4579         24673392                     2.9                ..  \n",
       "4580         24673392                     2.9                ..  \n",
       "4752         12376305                   13.38                ..  \n",
       "4753         12376305                   13.38                ..  \n",
       "4754         12376305                   13.38                ..  \n",
       "\n",
       "[87 rows x 12 columns]"
      ]
     },
     "execution_count": 99,
     "metadata": {},
     "output_type": "execute_result"
    }
   ],
   "source": [
    "d1"
   ]
  },
  {
   "cell_type": "code",
   "execution_count": 100,
   "id": "e9e1398f",
   "metadata": {},
   "outputs": [
    {
     "data": {
      "text/plain": [
       "Democratic People's Republic of Korea    27\n",
       "Eritrea                                  24\n",
       "Venezuela (Bolivarian Republic of)       15\n",
       "South Sudan                              12\n",
       "Somalia                                   6\n",
       "Yemen                                     3\n",
       "Name: Country, dtype: int64"
      ]
     },
     "execution_count": 100,
     "metadata": {},
     "output_type": "execute_result"
    }
   ],
   "source": [
    "# check what countries are missing values, and if all or partial records are missing\n",
    "\n",
    "d1['Country'].value_counts()"
   ]
  },
  {
   "cell_type": "markdown",
   "id": "240dcdb7",
   "metadata": {},
   "source": [
    "#### As records for these countries are missing values, I will remove them from database as they don't allow a complete analysis (along with the 5 countries identified above, 297 rows in total will be removed)"
   ]
  },
  {
   "cell_type": "code",
   "execution_count": 101,
   "id": "e8946bbd",
   "metadata": {},
   "outputs": [],
   "source": [
    "# Find out how many records in the total population column have '..'\n",
    "\n",
    "d2 = df3[df3['Total Population'] == '..']"
   ]
  },
  {
   "cell_type": "code",
   "execution_count": 102,
   "id": "321182f9",
   "metadata": {},
   "outputs": [
    {
     "data": {
      "text/html": [
       "<div>\n",
       "<style scoped>\n",
       "    .dataframe tbody tr th:only-of-type {\n",
       "        vertical-align: middle;\n",
       "    }\n",
       "\n",
       "    .dataframe tbody tr th {\n",
       "        vertical-align: top;\n",
       "    }\n",
       "\n",
       "    .dataframe thead th {\n",
       "        text-align: right;\n",
       "    }\n",
       "</style>\n",
       "<table border=\"1\" class=\"dataframe\">\n",
       "  <thead>\n",
       "    <tr style=\"text-align: right;\">\n",
       "      <th></th>\n",
       "      <th>Region Code</th>\n",
       "      <th>Region</th>\n",
       "      <th>Country Code</th>\n",
       "      <th>Country</th>\n",
       "      <th>Year</th>\n",
       "      <th>Sex</th>\n",
       "      <th>Suicide Rates per 100,000</th>\n",
       "      <th>Female Population</th>\n",
       "      <th>Male Population</th>\n",
       "      <th>Total Population</th>\n",
       "      <th>Unemployment Percentage</th>\n",
       "      <th>GDP (Current US$)</th>\n",
       "    </tr>\n",
       "  </thead>\n",
       "  <tbody>\n",
       "    <tr>\n",
       "      <th>417</th>\n",
       "      <td>AFR</td>\n",
       "      <td>Africa</td>\n",
       "      <td>ERI</td>\n",
       "      <td>Eritrea</td>\n",
       "      <td>2019</td>\n",
       "      <td>Both sexes</td>\n",
       "      <td>17.26</td>\n",
       "      <td>..</td>\n",
       "      <td>..</td>\n",
       "      <td>..</td>\n",
       "      <td>6.34</td>\n",
       "      <td>..</td>\n",
       "    </tr>\n",
       "    <tr>\n",
       "      <th>418</th>\n",
       "      <td>AFR</td>\n",
       "      <td>Africa</td>\n",
       "      <td>ERI</td>\n",
       "      <td>Eritrea</td>\n",
       "      <td>2019</td>\n",
       "      <td>Male</td>\n",
       "      <td>27.16</td>\n",
       "      <td>..</td>\n",
       "      <td>..</td>\n",
       "      <td>..</td>\n",
       "      <td>6.34</td>\n",
       "      <td>..</td>\n",
       "    </tr>\n",
       "    <tr>\n",
       "      <th>419</th>\n",
       "      <td>AFR</td>\n",
       "      <td>Africa</td>\n",
       "      <td>ERI</td>\n",
       "      <td>Eritrea</td>\n",
       "      <td>2019</td>\n",
       "      <td>Female</td>\n",
       "      <td>8.28</td>\n",
       "      <td>..</td>\n",
       "      <td>..</td>\n",
       "      <td>..</td>\n",
       "      <td>6.34</td>\n",
       "      <td>..</td>\n",
       "    </tr>\n",
       "    <tr>\n",
       "      <th>957</th>\n",
       "      <td>AFR</td>\n",
       "      <td>Africa</td>\n",
       "      <td>ERI</td>\n",
       "      <td>Eritrea</td>\n",
       "      <td>2018</td>\n",
       "      <td>Both sexes</td>\n",
       "      <td>17.84</td>\n",
       "      <td>..</td>\n",
       "      <td>..</td>\n",
       "      <td>..</td>\n",
       "      <td>6.41</td>\n",
       "      <td>..</td>\n",
       "    </tr>\n",
       "    <tr>\n",
       "      <th>958</th>\n",
       "      <td>AFR</td>\n",
       "      <td>Africa</td>\n",
       "      <td>ERI</td>\n",
       "      <td>Eritrea</td>\n",
       "      <td>2018</td>\n",
       "      <td>Male</td>\n",
       "      <td>28.13</td>\n",
       "      <td>..</td>\n",
       "      <td>..</td>\n",
       "      <td>..</td>\n",
       "      <td>6.41</td>\n",
       "      <td>..</td>\n",
       "    </tr>\n",
       "  </tbody>\n",
       "</table>\n",
       "</div>"
      ],
      "text/plain": [
       "    Region Code  Region Country Code  Country  Year         Sex  \\\n",
       "417         AFR  Africa          ERI  Eritrea  2019  Both sexes   \n",
       "418         AFR  Africa          ERI  Eritrea  2019        Male   \n",
       "419         AFR  Africa          ERI  Eritrea  2019      Female   \n",
       "957         AFR  Africa          ERI  Eritrea  2018  Both sexes   \n",
       "958         AFR  Africa          ERI  Eritrea  2018        Male   \n",
       "\n",
       "     Suicide Rates per 100,000 Female Population Male Population  \\\n",
       "417                      17.26                ..              ..   \n",
       "418                      27.16                ..              ..   \n",
       "419                       8.28                ..              ..   \n",
       "957                      17.84                ..              ..   \n",
       "958                      28.13                ..              ..   \n",
       "\n",
       "    Total Population Unemployment Percentage GDP (Current US$)  \n",
       "417               ..                    6.34                ..  \n",
       "418               ..                    6.34                ..  \n",
       "419               ..                    6.34                ..  \n",
       "957               ..                    6.41                ..  \n",
       "958               ..                    6.41                ..  "
      ]
     },
     "execution_count": 102,
     "metadata": {},
     "output_type": "execute_result"
    }
   ],
   "source": [
    "d2.head()"
   ]
  },
  {
   "cell_type": "code",
   "execution_count": 103,
   "id": "18f61b37",
   "metadata": {},
   "outputs": [
    {
     "data": {
      "text/plain": [
       "Eritrea    24\n",
       "Name: Country, dtype: int64"
      ]
     },
     "execution_count": 103,
     "metadata": {},
     "output_type": "execute_result"
    }
   ],
   "source": [
    "# check what countries are missing values, and if all or partial records are missing\n",
    "\n",
    "d2['Country'].value_counts()"
   ]
  },
  {
   "cell_type": "code",
   "execution_count": 104,
   "id": "aebfcc60",
   "metadata": {},
   "outputs": [],
   "source": [
    "# create a list of countries to be removed\n",
    "\n",
    "countries_to_remove = ['Antigua and Barbuda', 'Kiribati', 'Grenada', 'Micronesia (Federated States of)', 'Seychelles', 'Venezuela (Bolivarian Republic of)', \"Democratic People's Republic of Korea\", 'Eritrea', 'South Sudan', 'Somalia', 'Yemen']"
   ]
  },
  {
   "cell_type": "code",
   "execution_count": 105,
   "id": "4a5d6ce8",
   "metadata": {},
   "outputs": [],
   "source": [
    "df_new = df3[~df3['Country'].isin(countries_to_remove)]"
   ]
  },
  {
   "cell_type": "code",
   "execution_count": 106,
   "id": "5e90099f",
   "metadata": {},
   "outputs": [
    {
     "data": {
      "text/plain": [
       "(4644, 12)"
      ]
     },
     "execution_count": 106,
     "metadata": {},
     "output_type": "execute_result"
    }
   ],
   "source": [
    "df_new.shape"
   ]
  },
  {
   "cell_type": "markdown",
   "id": "aa1eba66",
   "metadata": {},
   "source": [
    "297 rows removed as expected"
   ]
  },
  {
   "cell_type": "code",
   "execution_count": 107,
   "id": "264140bf",
   "metadata": {},
   "outputs": [
    {
     "data": {
      "text/html": [
       "<div>\n",
       "<style scoped>\n",
       "    .dataframe tbody tr th:only-of-type {\n",
       "        vertical-align: middle;\n",
       "    }\n",
       "\n",
       "    .dataframe tbody tr th {\n",
       "        vertical-align: top;\n",
       "    }\n",
       "\n",
       "    .dataframe thead th {\n",
       "        text-align: right;\n",
       "    }\n",
       "</style>\n",
       "<table border=\"1\" class=\"dataframe\">\n",
       "  <thead>\n",
       "    <tr style=\"text-align: right;\">\n",
       "      <th></th>\n",
       "      <th>Region Code</th>\n",
       "      <th>Region</th>\n",
       "      <th>Country Code</th>\n",
       "      <th>Country</th>\n",
       "      <th>Year</th>\n",
       "      <th>Sex</th>\n",
       "      <th>Suicide Rates per 100,000</th>\n",
       "      <th>Female Population</th>\n",
       "      <th>Male Population</th>\n",
       "      <th>Total Population</th>\n",
       "      <th>Unemployment Percentage</th>\n",
       "      <th>GDP (Current US$)</th>\n",
       "    </tr>\n",
       "  </thead>\n",
       "  <tbody>\n",
       "    <tr>\n",
       "      <th>3</th>\n",
       "      <td>AMR</td>\n",
       "      <td>Americas</td>\n",
       "      <td>BRB</td>\n",
       "      <td>Barbados</td>\n",
       "      <td>2019</td>\n",
       "      <td>Female</td>\n",
       "      <td>0.16</td>\n",
       "      <td>148208</td>\n",
       "      <td>138813</td>\n",
       "      <td>287021</td>\n",
       "      <td>10.1</td>\n",
       "      <td>5209000000.00</td>\n",
       "    </tr>\n",
       "    <tr>\n",
       "      <th>4</th>\n",
       "      <td>AMR</td>\n",
       "      <td>Americas</td>\n",
       "      <td>BRB</td>\n",
       "      <td>Barbados</td>\n",
       "      <td>2019</td>\n",
       "      <td>Both sexes</td>\n",
       "      <td>0.31</td>\n",
       "      <td>148208</td>\n",
       "      <td>138813</td>\n",
       "      <td>287021</td>\n",
       "      <td>10.1</td>\n",
       "      <td>5209000000.00</td>\n",
       "    </tr>\n",
       "    <tr>\n",
       "      <th>5</th>\n",
       "      <td>AMR</td>\n",
       "      <td>Americas</td>\n",
       "      <td>BRB</td>\n",
       "      <td>Barbados</td>\n",
       "      <td>2019</td>\n",
       "      <td>Male</td>\n",
       "      <td>0.49</td>\n",
       "      <td>148208</td>\n",
       "      <td>138813</td>\n",
       "      <td>287021</td>\n",
       "      <td>10.1</td>\n",
       "      <td>5209000000.00</td>\n",
       "    </tr>\n",
       "    <tr>\n",
       "      <th>9</th>\n",
       "      <td>AMR</td>\n",
       "      <td>Americas</td>\n",
       "      <td>VCT</td>\n",
       "      <td>Saint Vincent and the Grenadines</td>\n",
       "      <td>2019</td>\n",
       "      <td>Female</td>\n",
       "      <td>0.67</td>\n",
       "      <td>54496</td>\n",
       "      <td>56097</td>\n",
       "      <td>110593</td>\n",
       "      <td>18.62</td>\n",
       "      <td>825040740.74</td>\n",
       "    </tr>\n",
       "    <tr>\n",
       "      <th>10</th>\n",
       "      <td>AMR</td>\n",
       "      <td>Americas</td>\n",
       "      <td>VCT</td>\n",
       "      <td>Saint Vincent and the Grenadines</td>\n",
       "      <td>2019</td>\n",
       "      <td>Both sexes</td>\n",
       "      <td>1.01</td>\n",
       "      <td>54496</td>\n",
       "      <td>56097</td>\n",
       "      <td>110593</td>\n",
       "      <td>18.62</td>\n",
       "      <td>825040740.74</td>\n",
       "    </tr>\n",
       "  </tbody>\n",
       "</table>\n",
       "</div>"
      ],
      "text/plain": [
       "   Region Code    Region Country Code                           Country  Year  \\\n",
       "3          AMR  Americas          BRB                          Barbados  2019   \n",
       "4          AMR  Americas          BRB                          Barbados  2019   \n",
       "5          AMR  Americas          BRB                          Barbados  2019   \n",
       "9          AMR  Americas          VCT  Saint Vincent and the Grenadines  2019   \n",
       "10         AMR  Americas          VCT  Saint Vincent and the Grenadines  2019   \n",
       "\n",
       "           Sex  Suicide Rates per 100,000 Female Population Male Population  \\\n",
       "3       Female                       0.16            148208          138813   \n",
       "4   Both sexes                       0.31            148208          138813   \n",
       "5         Male                       0.49            148208          138813   \n",
       "9       Female                       0.67             54496           56097   \n",
       "10  Both sexes                       1.01             54496           56097   \n",
       "\n",
       "   Total Population Unemployment Percentage GDP (Current US$)  \n",
       "3            287021                    10.1     5209000000.00  \n",
       "4            287021                    10.1     5209000000.00  \n",
       "5            287021                    10.1     5209000000.00  \n",
       "9            110593                   18.62      825040740.74  \n",
       "10           110593                   18.62      825040740.74  "
      ]
     },
     "execution_count": 107,
     "metadata": {},
     "output_type": "execute_result"
    }
   ],
   "source": [
    "df_new.head()"
   ]
  },
  {
   "cell_type": "code",
   "execution_count": 108,
   "id": "5343734d",
   "metadata": {},
   "outputs": [],
   "source": [
    "# reset the index to begin at 0\n",
    "\n",
    "df_new = df_new.reset_index(drop=True)"
   ]
  },
  {
   "cell_type": "code",
   "execution_count": 109,
   "id": "a07bcdab",
   "metadata": {},
   "outputs": [
    {
     "data": {
      "text/html": [
       "<div>\n",
       "<style scoped>\n",
       "    .dataframe tbody tr th:only-of-type {\n",
       "        vertical-align: middle;\n",
       "    }\n",
       "\n",
       "    .dataframe tbody tr th {\n",
       "        vertical-align: top;\n",
       "    }\n",
       "\n",
       "    .dataframe thead th {\n",
       "        text-align: right;\n",
       "    }\n",
       "</style>\n",
       "<table border=\"1\" class=\"dataframe\">\n",
       "  <thead>\n",
       "    <tr style=\"text-align: right;\">\n",
       "      <th></th>\n",
       "      <th>Region Code</th>\n",
       "      <th>Region</th>\n",
       "      <th>Country Code</th>\n",
       "      <th>Country</th>\n",
       "      <th>Year</th>\n",
       "      <th>Sex</th>\n",
       "      <th>Suicide Rates per 100,000</th>\n",
       "      <th>Female Population</th>\n",
       "      <th>Male Population</th>\n",
       "      <th>Total Population</th>\n",
       "      <th>Unemployment Percentage</th>\n",
       "      <th>GDP (Current US$)</th>\n",
       "    </tr>\n",
       "  </thead>\n",
       "  <tbody>\n",
       "    <tr>\n",
       "      <th>0</th>\n",
       "      <td>AMR</td>\n",
       "      <td>Americas</td>\n",
       "      <td>BRB</td>\n",
       "      <td>Barbados</td>\n",
       "      <td>2019</td>\n",
       "      <td>Female</td>\n",
       "      <td>0.16</td>\n",
       "      <td>148208</td>\n",
       "      <td>138813</td>\n",
       "      <td>287021</td>\n",
       "      <td>10.1</td>\n",
       "      <td>5209000000.00</td>\n",
       "    </tr>\n",
       "    <tr>\n",
       "      <th>1</th>\n",
       "      <td>AMR</td>\n",
       "      <td>Americas</td>\n",
       "      <td>BRB</td>\n",
       "      <td>Barbados</td>\n",
       "      <td>2019</td>\n",
       "      <td>Both sexes</td>\n",
       "      <td>0.31</td>\n",
       "      <td>148208</td>\n",
       "      <td>138813</td>\n",
       "      <td>287021</td>\n",
       "      <td>10.1</td>\n",
       "      <td>5209000000.00</td>\n",
       "    </tr>\n",
       "    <tr>\n",
       "      <th>2</th>\n",
       "      <td>AMR</td>\n",
       "      <td>Americas</td>\n",
       "      <td>BRB</td>\n",
       "      <td>Barbados</td>\n",
       "      <td>2019</td>\n",
       "      <td>Male</td>\n",
       "      <td>0.49</td>\n",
       "      <td>148208</td>\n",
       "      <td>138813</td>\n",
       "      <td>287021</td>\n",
       "      <td>10.1</td>\n",
       "      <td>5209000000.00</td>\n",
       "    </tr>\n",
       "    <tr>\n",
       "      <th>3</th>\n",
       "      <td>AMR</td>\n",
       "      <td>Americas</td>\n",
       "      <td>VCT</td>\n",
       "      <td>Saint Vincent and the Grenadines</td>\n",
       "      <td>2019</td>\n",
       "      <td>Female</td>\n",
       "      <td>0.67</td>\n",
       "      <td>54496</td>\n",
       "      <td>56097</td>\n",
       "      <td>110593</td>\n",
       "      <td>18.62</td>\n",
       "      <td>825040740.74</td>\n",
       "    </tr>\n",
       "    <tr>\n",
       "      <th>4</th>\n",
       "      <td>AMR</td>\n",
       "      <td>Americas</td>\n",
       "      <td>VCT</td>\n",
       "      <td>Saint Vincent and the Grenadines</td>\n",
       "      <td>2019</td>\n",
       "      <td>Both sexes</td>\n",
       "      <td>1.01</td>\n",
       "      <td>54496</td>\n",
       "      <td>56097</td>\n",
       "      <td>110593</td>\n",
       "      <td>18.62</td>\n",
       "      <td>825040740.74</td>\n",
       "    </tr>\n",
       "  </tbody>\n",
       "</table>\n",
       "</div>"
      ],
      "text/plain": [
       "  Region Code    Region Country Code                           Country  Year  \\\n",
       "0         AMR  Americas          BRB                          Barbados  2019   \n",
       "1         AMR  Americas          BRB                          Barbados  2019   \n",
       "2         AMR  Americas          BRB                          Barbados  2019   \n",
       "3         AMR  Americas          VCT  Saint Vincent and the Grenadines  2019   \n",
       "4         AMR  Americas          VCT  Saint Vincent and the Grenadines  2019   \n",
       "\n",
       "          Sex  Suicide Rates per 100,000 Female Population Male Population  \\\n",
       "0      Female                       0.16            148208          138813   \n",
       "1  Both sexes                       0.31            148208          138813   \n",
       "2        Male                       0.49            148208          138813   \n",
       "3      Female                       0.67             54496           56097   \n",
       "4  Both sexes                       1.01             54496           56097   \n",
       "\n",
       "  Total Population Unemployment Percentage GDP (Current US$)  \n",
       "0           287021                    10.1     5209000000.00  \n",
       "1           287021                    10.1     5209000000.00  \n",
       "2           287021                    10.1     5209000000.00  \n",
       "3           110593                   18.62      825040740.74  \n",
       "4           110593                   18.62      825040740.74  "
      ]
     },
     "execution_count": 109,
     "metadata": {},
     "output_type": "execute_result"
    }
   ],
   "source": [
    "# confirm reindexing is correct\n",
    "\n",
    "df_new.head()"
   ]
  },
  {
   "cell_type": "code",
   "execution_count": 110,
   "id": "b7092830",
   "metadata": {},
   "outputs": [
    {
     "data": {
      "text/plain": [
       "Region Code                   object\n",
       "Region                        object\n",
       "Country Code                  object\n",
       "Country                       object\n",
       "Year                           int16\n",
       "Sex                           object\n",
       "Suicide Rates per 100,000    float64\n",
       "Female Population             object\n",
       "Male Population               object\n",
       "Total Population              object\n",
       "Unemployment Percentage       object\n",
       "GDP (Current US$)             object\n",
       "dtype: object"
      ]
     },
     "execution_count": 110,
     "metadata": {},
     "output_type": "execute_result"
    }
   ],
   "source": [
    "# data type check\n",
    "\n",
    "df_new.dtypes"
   ]
  },
  {
   "cell_type": "code",
   "execution_count": 111,
   "id": "78c937ab",
   "metadata": {},
   "outputs": [],
   "source": [
    "# changing data type of female, male & total population columns\n",
    "\n",
    "df_new[['Female Population', 'Male Population', 'Total Population']] = df_new[['Female Population', 'Male Population', 'Total Population']].astype('int32')"
   ]
  },
  {
   "cell_type": "code",
   "execution_count": 112,
   "id": "25475e05",
   "metadata": {},
   "outputs": [],
   "source": [
    "# changing data type of unemployment column\n",
    "\n",
    "df_new['Unemployment Percentage'] = df_new['Unemployment Percentage'].astype('float32') "
   ]
  },
  {
   "cell_type": "code",
   "execution_count": 113,
   "id": "59b19c6e",
   "metadata": {},
   "outputs": [],
   "source": [
    "# changing data type of GDP (Current US$) column\n",
    "\n",
    "df_new['GDP (Current US$)'] = df_new['GDP (Current US$)'].astype('float64')  "
   ]
  },
  {
   "cell_type": "code",
   "execution_count": 114,
   "id": "6c64bf70",
   "metadata": {},
   "outputs": [
    {
     "data": {
      "text/plain": [
       "Region Code                   object\n",
       "Region                        object\n",
       "Country Code                  object\n",
       "Country                       object\n",
       "Year                           int16\n",
       "Sex                           object\n",
       "Suicide Rates per 100,000    float64\n",
       "Female Population              int32\n",
       "Male Population                int32\n",
       "Total Population               int32\n",
       "Unemployment Percentage      float32\n",
       "GDP (Current US$)            float64\n",
       "dtype: object"
      ]
     },
     "execution_count": 114,
     "metadata": {},
     "output_type": "execute_result"
    }
   ],
   "source": [
    "# # data type check - confirmation\n",
    "\n",
    "df_new.dtypes"
   ]
  },
  {
   "cell_type": "markdown",
   "id": "28cb7200",
   "metadata": {},
   "source": [
    "# Consistency check - final df check"
   ]
  },
  {
   "cell_type": "code",
   "execution_count": 115,
   "id": "f2a243ea",
   "metadata": {},
   "outputs": [
    {
     "data": {
      "text/html": [
       "<div>\n",
       "<style scoped>\n",
       "    .dataframe tbody tr th:only-of-type {\n",
       "        vertical-align: middle;\n",
       "    }\n",
       "\n",
       "    .dataframe tbody tr th {\n",
       "        vertical-align: top;\n",
       "    }\n",
       "\n",
       "    .dataframe thead th {\n",
       "        text-align: right;\n",
       "    }\n",
       "</style>\n",
       "<table border=\"1\" class=\"dataframe\">\n",
       "  <thead>\n",
       "    <tr style=\"text-align: right;\">\n",
       "      <th></th>\n",
       "      <th>Year</th>\n",
       "      <th>Suicide Rates per 100,000</th>\n",
       "      <th>Female Population</th>\n",
       "      <th>Male Population</th>\n",
       "      <th>Total Population</th>\n",
       "      <th>Unemployment Percentage</th>\n",
       "      <th>GDP (Current US$)</th>\n",
       "    </tr>\n",
       "  </thead>\n",
       "  <tbody>\n",
       "    <tr>\n",
       "      <th>count</th>\n",
       "      <td>4644.000000</td>\n",
       "      <td>4644.000000</td>\n",
       "      <td>4.644000e+03</td>\n",
       "      <td>4.644000e+03</td>\n",
       "      <td>4.644000e+03</td>\n",
       "      <td>4644.000000</td>\n",
       "      <td>4.644000e+03</td>\n",
       "    </tr>\n",
       "    <tr>\n",
       "      <th>mean</th>\n",
       "      <td>2015.000000</td>\n",
       "      <td>11.086190</td>\n",
       "      <td>2.073047e+07</td>\n",
       "      <td>2.109405e+07</td>\n",
       "      <td>4.182452e+07</td>\n",
       "      <td>7.603660</td>\n",
       "      <td>4.564068e+11</td>\n",
       "    </tr>\n",
       "    <tr>\n",
       "      <th>std</th>\n",
       "      <td>2.582267</td>\n",
       "      <td>12.866893</td>\n",
       "      <td>7.216167e+07</td>\n",
       "      <td>7.664921e+07</td>\n",
       "      <td>1.487929e+08</td>\n",
       "      <td>5.752885</td>\n",
       "      <td>1.750517e+12</td>\n",
       "    </tr>\n",
       "    <tr>\n",
       "      <th>min</th>\n",
       "      <td>2011.000000</td>\n",
       "      <td>0.000000</td>\n",
       "      <td>5.040700e+04</td>\n",
       "      <td>5.037300e+04</td>\n",
       "      <td>1.007800e+05</td>\n",
       "      <td>0.110000</td>\n",
       "      <td>2.314893e+08</td>\n",
       "    </tr>\n",
       "    <tr>\n",
       "      <th>25%</th>\n",
       "      <td>2013.000000</td>\n",
       "      <td>4.330000</td>\n",
       "      <td>1.428118e+06</td>\n",
       "      <td>1.392436e+06</td>\n",
       "      <td>2.864740e+06</td>\n",
       "      <td>3.600000</td>\n",
       "      <td>1.207104e+10</td>\n",
       "    </tr>\n",
       "    <tr>\n",
       "      <th>50%</th>\n",
       "      <td>2015.000000</td>\n",
       "      <td>7.710000</td>\n",
       "      <td>4.738714e+06</td>\n",
       "      <td>4.677914e+06</td>\n",
       "      <td>9.447676e+06</td>\n",
       "      <td>5.930000</td>\n",
       "      <td>4.198428e+10</td>\n",
       "    </tr>\n",
       "    <tr>\n",
       "      <th>75%</th>\n",
       "      <td>2017.000000</td>\n",
       "      <td>13.762500</td>\n",
       "      <td>1.485346e+07</td>\n",
       "      <td>1.526012e+07</td>\n",
       "      <td>3.009713e+07</td>\n",
       "      <td>9.912500</td>\n",
       "      <td>2.361509e+11</td>\n",
       "    </tr>\n",
       "    <tr>\n",
       "      <th>max</th>\n",
       "      <td>2019.000000</td>\n",
       "      <td>195.200000</td>\n",
       "      <td>6.854803e+08</td>\n",
       "      <td>7.222647e+08</td>\n",
       "      <td>1.407745e+09</td>\n",
       "      <td>31.379999</td>\n",
       "      <td>2.143322e+13</td>\n",
       "    </tr>\n",
       "  </tbody>\n",
       "</table>\n",
       "</div>"
      ],
      "text/plain": [
       "              Year  Suicide Rates per 100,000  Female Population  \\\n",
       "count  4644.000000                4644.000000       4.644000e+03   \n",
       "mean   2015.000000                  11.086190       2.073047e+07   \n",
       "std       2.582267                  12.866893       7.216167e+07   \n",
       "min    2011.000000                   0.000000       5.040700e+04   \n",
       "25%    2013.000000                   4.330000       1.428118e+06   \n",
       "50%    2015.000000                   7.710000       4.738714e+06   \n",
       "75%    2017.000000                  13.762500       1.485346e+07   \n",
       "max    2019.000000                 195.200000       6.854803e+08   \n",
       "\n",
       "       Male Population  Total Population  Unemployment Percentage  \\\n",
       "count     4.644000e+03      4.644000e+03              4644.000000   \n",
       "mean      2.109405e+07      4.182452e+07                 7.603660   \n",
       "std       7.664921e+07      1.487929e+08                 5.752885   \n",
       "min       5.037300e+04      1.007800e+05                 0.110000   \n",
       "25%       1.392436e+06      2.864740e+06                 3.600000   \n",
       "50%       4.677914e+06      9.447676e+06                 5.930000   \n",
       "75%       1.526012e+07      3.009713e+07                 9.912500   \n",
       "max       7.222647e+08      1.407745e+09                31.379999   \n",
       "\n",
       "       GDP (Current US$)  \n",
       "count       4.644000e+03  \n",
       "mean        4.564068e+11  \n",
       "std         1.750517e+12  \n",
       "min         2.314893e+08  \n",
       "25%         1.207104e+10  \n",
       "50%         4.198428e+10  \n",
       "75%         2.361509e+11  \n",
       "max         2.143322e+13  "
      ]
     },
     "execution_count": 115,
     "metadata": {},
     "output_type": "execute_result"
    }
   ],
   "source": [
    "# check nothing out of the ordinary with the descriptive statistics\n",
    "\n",
    "df_new.describe()"
   ]
  },
  {
   "cell_type": "markdown",
   "id": "cede2825",
   "metadata": {},
   "source": [
    "##### Nothing looks out of the ordinary"
   ]
  },
  {
   "cell_type": "code",
   "execution_count": 116,
   "id": "ffb7e7da",
   "metadata": {},
   "outputs": [
    {
     "data": {
      "text/plain": [
       "Region Code                  0\n",
       "Region                       0\n",
       "Country Code                 0\n",
       "Country                      0\n",
       "Year                         0\n",
       "Sex                          0\n",
       "Suicide Rates per 100,000    0\n",
       "Female Population            0\n",
       "Male Population              0\n",
       "Total Population             0\n",
       "Unemployment Percentage      0\n",
       "GDP (Current US$)            0\n",
       "dtype: int64"
      ]
     },
     "execution_count": 116,
     "metadata": {},
     "output_type": "execute_result"
    }
   ],
   "source": [
    "# checking for missing values in the dataframe\n",
    "\n",
    "df_new.isnull().sum()"
   ]
  },
  {
   "cell_type": "markdown",
   "id": "6f4c6f71",
   "metadata": {},
   "source": [
    "##### No missing values"
   ]
  },
  {
   "cell_type": "code",
   "execution_count": 117,
   "id": "edcbed7e",
   "metadata": {},
   "outputs": [],
   "source": [
    "# checking for full duplicates in the df\n",
    "\n",
    "final_dups_df = df_new[df_new.duplicated()]"
   ]
  },
  {
   "cell_type": "code",
   "execution_count": 118,
   "id": "2c33044e",
   "metadata": {},
   "outputs": [
    {
     "data": {
      "text/html": [
       "<div>\n",
       "<style scoped>\n",
       "    .dataframe tbody tr th:only-of-type {\n",
       "        vertical-align: middle;\n",
       "    }\n",
       "\n",
       "    .dataframe tbody tr th {\n",
       "        vertical-align: top;\n",
       "    }\n",
       "\n",
       "    .dataframe thead th {\n",
       "        text-align: right;\n",
       "    }\n",
       "</style>\n",
       "<table border=\"1\" class=\"dataframe\">\n",
       "  <thead>\n",
       "    <tr style=\"text-align: right;\">\n",
       "      <th></th>\n",
       "      <th>Region Code</th>\n",
       "      <th>Region</th>\n",
       "      <th>Country Code</th>\n",
       "      <th>Country</th>\n",
       "      <th>Year</th>\n",
       "      <th>Sex</th>\n",
       "      <th>Suicide Rates per 100,000</th>\n",
       "      <th>Female Population</th>\n",
       "      <th>Male Population</th>\n",
       "      <th>Total Population</th>\n",
       "      <th>Unemployment Percentage</th>\n",
       "      <th>GDP (Current US$)</th>\n",
       "    </tr>\n",
       "  </thead>\n",
       "  <tbody>\n",
       "  </tbody>\n",
       "</table>\n",
       "</div>"
      ],
      "text/plain": [
       "Empty DataFrame\n",
       "Columns: [Region Code, Region, Country Code, Country, Year, Sex, Suicide Rates per 100,000, Female Population, Male Population, Total Population, Unemployment Percentage, GDP (Current US$)]\n",
       "Index: []"
      ]
     },
     "execution_count": 118,
     "metadata": {},
     "output_type": "execute_result"
    }
   ],
   "source": [
    "final_dups_df"
   ]
  },
  {
   "cell_type": "markdown",
   "id": "c6958aca",
   "metadata": {},
   "source": [
    "##### No full duplicates in the df"
   ]
  },
  {
   "cell_type": "code",
   "execution_count": 119,
   "id": "1e60776f",
   "metadata": {},
   "outputs": [
    {
     "data": {
      "text/plain": [
       "(4644, 12)"
      ]
     },
     "execution_count": 119,
     "metadata": {},
     "output_type": "execute_result"
    }
   ],
   "source": [
    "# confirming no changes to suicide_df\n",
    "\n",
    "df_new.shape"
   ]
  },
  {
   "cell_type": "markdown",
   "id": "fa900d1e",
   "metadata": {},
   "source": [
    "# Exporting the dataframe"
   ]
  },
  {
   "cell_type": "code",
   "execution_count": 121,
   "id": "57286d66",
   "metadata": {},
   "outputs": [],
   "source": [
    "# 9. exporting df_prods_clean_no_dups dataframe as “Suicide_clean.csv”\n",
    "\n",
    "df_new.to_csv(os.path.join(path, 'Prepared Data', 'Suicide_clean.csv'), index = False)"
   ]
  },
  {
   "cell_type": "code",
   "execution_count": null,
   "id": "5822849f",
   "metadata": {},
   "outputs": [],
   "source": []
  }
 ],
 "metadata": {
  "kernelspec": {
   "display_name": "Python 3 (ipykernel)",
   "language": "python",
   "name": "python3"
  },
  "language_info": {
   "codemirror_mode": {
    "name": "ipython",
    "version": 3
   },
   "file_extension": ".py",
   "mimetype": "text/x-python",
   "name": "python",
   "nbconvert_exporter": "python",
   "pygments_lexer": "ipython3",
   "version": "3.8.12"
  }
 },
 "nbformat": 4,
 "nbformat_minor": 5
}
